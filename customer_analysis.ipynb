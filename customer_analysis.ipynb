{
  "nbformat": 4,
  "nbformat_minor": 0,
  "metadata": {
    "colab": {
      "name": "customer_analysis.ipynb",
      "provenance": [],
      "toc_visible": true,
      "collapsed_sections": [
        "MluYsh1YjGeE",
        "gZ-YyKcT3ojj"
      ],
      "authorship_tag": "ABX9TyNV9fAx+alxfsz1r1g1/OuT",
      "include_colab_link": true
    },
    "kernelspec": {
      "name": "python3",
      "display_name": "Python 3"
    },
    "language_info": {
      "name": "python"
    }
  },
  "cells": [
    {
      "cell_type": "markdown",
      "metadata": {
        "id": "view-in-github",
        "colab_type": "text"
      },
      "source": [
        "<a href=\"https://colab.research.google.com/github/auab/Customer-Analysis/blob/main/customer_analysis.ipynb\" target=\"_parent\"><img src=\"https://colab.research.google.com/assets/colab-badge.svg\" alt=\"Open In Colab\"/></a>"
      ]
    },
    {
      "cell_type": "markdown",
      "source": [
        "# Introduction \n"
      ],
      "metadata": {
        "id": "mn3CGvi4OxJx"
      }
    },
    {
      "cell_type": "markdown",
      "metadata": {
        "id": "LEfachZ2hlE6"
      },
      "source": [
        "Understand the costumer is very important for any company, from these who creates the product to the ones who creates the advertises. In the customer-centric culture, the data plays a big role in this process of knowing the client and one technique used in this task is the **customer segmentation**.\n",
        "\n",
        "The idea of this project is to create a customer segmentation using a dataset avaiable in kaggle, describe the steps taken and choices made  and discuss the obtained result."
      ]
    },
    {
      "cell_type": "markdown",
      "source": [
        "## Segmentation\n",
        "<strong><em>Definition</strong>: Segmentation is a process of taxonomy, a way to divide something into parts, a way to divide market into sub-markets</em>\n",
        "\n",
        "Here we'll use data to define the numbers of segments and how they are divided, but it could also be done by a business rule, like *highest use*, *medium use* and *low use* of a specific product.\n",
        "\n",
        "### Why segement?\n",
        "It was said in the beginning that a segmentation is important to understand the customer, but how it can be used? *Grigsby* (2018) lists thre typical uses of segmentation: finding similar members, making modelling better and using marketing strategy to attack each segment differently.\n",
        "\n",
        "Know the prupose of the segmentation is important for the steps that will be taken and for the results discussion. Here we'll consider that the result of the segmentation will be used for marketing strategy, more specifically, they want to raise the wine consumption, and to do so, they want to know how the costumers are segmented, and how could be a good way to approach them."
      ],
      "metadata": {
        "id": "DMd8hEr645zl"
      }
    },
    {
      "cell_type": "markdown",
      "source": [
        "## The dataset\n",
        "The dataset used here was extracted from Kaggle and it's available (with data description) in <a href=\"https://www.kaggle.com/imakash3011/customer-personality-analysis\">here</a>. I also made it available the <a href='https://github.com/auab/Customer-Analysis'>github repository</a> of this project\n",
        "\n",
        "### Dataset description\n",
        "\n",
        "The database is divided in three types of features: \n",
        "* **People**: it contains mainly demographic features\n",
        "* **Products**: the ammount spent in a specific product category in the last two years\n",
        "* **Promotion**: the customer response to promotions campaings\n",
        "* **Places**: the place where the customer buys the product\n",
        "\n",
        "The deatiled description including the features names is presented below:"
      ],
      "metadata": {
        "id": "z7jdGyVL81SA"
      }
    },
    {
      "cell_type": "markdown",
      "source": [
        "\n",
        "**People**\n",
        "\n",
        "ID: Customer's unique identifier<br />\n",
        "Year_Birth: Customer's birth year<br />\n",
        "Education: Customer's education level<br />\n",
        "Marital_Status: Customer's marital status<br />\n",
        "Income: Customer's yearly household income<br />\n",
        "Kidhome: Number of children in customer's household<br />\n",
        "Teenhome: Number of teenagers in customer's household<br />\n",
        "Dt_Customer: Date of customer's enrollment with the company<br />\n",
        "Recency: Number of days since customer's last purchase<br />\n",
        "Complain: 1 if the customer complained in the last 2 years, 0 otherwise<br /><br />\n",
        "\n",
        "**Products**\n",
        "\n",
        "MntWines: Amount spent on wine in last 2 years<br />\n",
        "MntFruits: Amount spent on fruits in last 2 years<br />\n",
        "MntMeatProducts: Amount spent on meat in last 2 years<br />\n",
        "MntFishProducts: Amount spent on fish in last 2 years<br />\n",
        "MntSweetProducts: Amount spent on sweets in last 2 years<br />\n",
        "MntGoldProds: Amount spent on gold in last 2 years<br /><br />\n",
        "\n",
        "\n",
        "**Promotion**\n",
        "\n",
        "\n",
        "NumDealsPurchases: Number of purchases made with a discount<br />\n",
        "AcceptedCmp1: 1 if customer accepted the offer in the 1st campaign, 0 otherwise<br />\n",
        "AcceptedCmp2: 1 if customer accepted the offer in the 2nd campaign, 0 otherwise<br />\n",
        "AcceptedCmp3: 1 if customer accepted the offer in the 3rd campaign, 0 otherwise<br />\n",
        "AcceptedCmp4: 1 if customer accepted the offer in the 4th campaign, 0 otherwise<br />\n",
        "AcceptedCmp5: 1 if customer accepted the offer in the 5th campaign, 0 otherwise<br />\n",
        "Response: 1 if customer accepted the offer in the last campaign, 0 otherwise<br /><br />\n",
        "\n",
        "\n",
        "**Place**\n",
        "\n",
        "\n",
        "NumWebPurchases: Number of purchases made through the company’s website<br />\n",
        "NumCatalogPurchases: Number of purchases made using a catalogue<br />\n",
        "NumStorePurchases: Number of purchases made directly in stores<br />\n",
        "NumWebVisitsMonth: Number of visits to company’s website in the last month"
      ],
      "metadata": {
        "id": "TAiHB_rhArdj"
      }
    },
    {
      "cell_type": "markdown",
      "source": [
        "# Initial Imports"
      ],
      "metadata": {
        "id": "Lf-rwyne2FIt"
      }
    },
    {
      "cell_type": "code",
      "metadata": {
        "id": "xC_Ei5uPp3tq"
      },
      "source": [
        "import pandas as pd\n",
        "import datetime\n",
        "import matplotlib.pyplot as plt\n",
        "import matplotlib.cm as cm\n",
        "import numpy as np\n",
        "import plotly.express as px\n",
        "from sklearn.preprocessing import StandardScaler, normalize\n",
        "from sklearn.mixture import GaussianMixture\n",
        "import plotly.graph_objects as go\n",
        "from mlxtend.frequent_patterns import apriori\n",
        "from mlxtend.frequent_patterns import association_rules\n",
        "from sklearn.cluster import KMeans\n",
        "from sklearn.preprocessing import OneHotEncoder,MinMaxScaler\n",
        "from sklearn.metrics import silhouette_score, silhouette_samples\n",
        "import warnings\n",
        "warnings.filterwarnings('ignore')"
      ],
      "execution_count": 139,
      "outputs": []
    },
    {
      "cell_type": "code",
      "metadata": {
        "colab": {
          "base_uri": "https://localhost:8080/",
          "height": 270
        },
        "id": "rDkeDudPeCHj",
        "outputId": "044a53fa-54aa-4d59-fbcc-364a41a7dabf"
      },
      "source": [
        "customer_data = pd.read_csv('https://raw.githubusercontent.com/auab/Customer-Analysis/main/marketing_campaign.csv',sep='\\t')\n",
        "customer_data.head()"
      ],
      "execution_count": 99,
      "outputs": [
        {
          "output_type": "execute_result",
          "data": {
            "text/html": [
              "\n",
              "  <div id=\"df-366023d9-3b4b-446d-8799-f8382a3484fb\">\n",
              "    <div class=\"colab-df-container\">\n",
              "      <div>\n",
              "<style scoped>\n",
              "    .dataframe tbody tr th:only-of-type {\n",
              "        vertical-align: middle;\n",
              "    }\n",
              "\n",
              "    .dataframe tbody tr th {\n",
              "        vertical-align: top;\n",
              "    }\n",
              "\n",
              "    .dataframe thead th {\n",
              "        text-align: right;\n",
              "    }\n",
              "</style>\n",
              "<table border=\"1\" class=\"dataframe\">\n",
              "  <thead>\n",
              "    <tr style=\"text-align: right;\">\n",
              "      <th></th>\n",
              "      <th>ID</th>\n",
              "      <th>Year_Birth</th>\n",
              "      <th>Education</th>\n",
              "      <th>Marital_Status</th>\n",
              "      <th>Income</th>\n",
              "      <th>Kidhome</th>\n",
              "      <th>Teenhome</th>\n",
              "      <th>Dt_Customer</th>\n",
              "      <th>Recency</th>\n",
              "      <th>MntWines</th>\n",
              "      <th>MntFruits</th>\n",
              "      <th>MntMeatProducts</th>\n",
              "      <th>MntFishProducts</th>\n",
              "      <th>MntSweetProducts</th>\n",
              "      <th>MntGoldProds</th>\n",
              "      <th>NumDealsPurchases</th>\n",
              "      <th>NumWebPurchases</th>\n",
              "      <th>NumCatalogPurchases</th>\n",
              "      <th>NumStorePurchases</th>\n",
              "      <th>NumWebVisitsMonth</th>\n",
              "      <th>AcceptedCmp3</th>\n",
              "      <th>AcceptedCmp4</th>\n",
              "      <th>AcceptedCmp5</th>\n",
              "      <th>AcceptedCmp1</th>\n",
              "      <th>AcceptedCmp2</th>\n",
              "      <th>Complain</th>\n",
              "      <th>Z_CostContact</th>\n",
              "      <th>Z_Revenue</th>\n",
              "      <th>Response</th>\n",
              "    </tr>\n",
              "  </thead>\n",
              "  <tbody>\n",
              "    <tr>\n",
              "      <th>0</th>\n",
              "      <td>5524</td>\n",
              "      <td>1957</td>\n",
              "      <td>Graduation</td>\n",
              "      <td>Single</td>\n",
              "      <td>58138</td>\n",
              "      <td>0</td>\n",
              "      <td>0</td>\n",
              "      <td>04-09-2012</td>\n",
              "      <td>58</td>\n",
              "      <td>635</td>\n",
              "      <td>88</td>\n",
              "      <td>546</td>\n",
              "      <td>172</td>\n",
              "      <td>88</td>\n",
              "      <td>88</td>\n",
              "      <td>3</td>\n",
              "      <td>8</td>\n",
              "      <td>10</td>\n",
              "      <td>4</td>\n",
              "      <td>7</td>\n",
              "      <td>0</td>\n",
              "      <td>0</td>\n",
              "      <td>0</td>\n",
              "      <td>0</td>\n",
              "      <td>0</td>\n",
              "      <td>0</td>\n",
              "      <td>3</td>\n",
              "      <td>11</td>\n",
              "      <td>1</td>\n",
              "    </tr>\n",
              "    <tr>\n",
              "      <th>1</th>\n",
              "      <td>2174</td>\n",
              "      <td>1954</td>\n",
              "      <td>Graduation</td>\n",
              "      <td>Single</td>\n",
              "      <td>46344</td>\n",
              "      <td>1</td>\n",
              "      <td>1</td>\n",
              "      <td>08-03-2014</td>\n",
              "      <td>38</td>\n",
              "      <td>11</td>\n",
              "      <td>1</td>\n",
              "      <td>6</td>\n",
              "      <td>2</td>\n",
              "      <td>1</td>\n",
              "      <td>6</td>\n",
              "      <td>2</td>\n",
              "      <td>1</td>\n",
              "      <td>1</td>\n",
              "      <td>2</td>\n",
              "      <td>5</td>\n",
              "      <td>0</td>\n",
              "      <td>0</td>\n",
              "      <td>0</td>\n",
              "      <td>0</td>\n",
              "      <td>0</td>\n",
              "      <td>0</td>\n",
              "      <td>3</td>\n",
              "      <td>11</td>\n",
              "      <td>0</td>\n",
              "    </tr>\n",
              "    <tr>\n",
              "      <th>2</th>\n",
              "      <td>4141</td>\n",
              "      <td>1965</td>\n",
              "      <td>Graduation</td>\n",
              "      <td>Together</td>\n",
              "      <td>71613</td>\n",
              "      <td>0</td>\n",
              "      <td>0</td>\n",
              "      <td>21-08-2013</td>\n",
              "      <td>26</td>\n",
              "      <td>426</td>\n",
              "      <td>49</td>\n",
              "      <td>127</td>\n",
              "      <td>111</td>\n",
              "      <td>21</td>\n",
              "      <td>42</td>\n",
              "      <td>1</td>\n",
              "      <td>8</td>\n",
              "      <td>2</td>\n",
              "      <td>10</td>\n",
              "      <td>4</td>\n",
              "      <td>0</td>\n",
              "      <td>0</td>\n",
              "      <td>0</td>\n",
              "      <td>0</td>\n",
              "      <td>0</td>\n",
              "      <td>0</td>\n",
              "      <td>3</td>\n",
              "      <td>11</td>\n",
              "      <td>0</td>\n",
              "    </tr>\n",
              "    <tr>\n",
              "      <th>3</th>\n",
              "      <td>6182</td>\n",
              "      <td>1984</td>\n",
              "      <td>Graduation</td>\n",
              "      <td>Together</td>\n",
              "      <td>26646</td>\n",
              "      <td>1</td>\n",
              "      <td>0</td>\n",
              "      <td>10-02-2014</td>\n",
              "      <td>26</td>\n",
              "      <td>11</td>\n",
              "      <td>4</td>\n",
              "      <td>20</td>\n",
              "      <td>10</td>\n",
              "      <td>3</td>\n",
              "      <td>5</td>\n",
              "      <td>2</td>\n",
              "      <td>2</td>\n",
              "      <td>0</td>\n",
              "      <td>4</td>\n",
              "      <td>6</td>\n",
              "      <td>0</td>\n",
              "      <td>0</td>\n",
              "      <td>0</td>\n",
              "      <td>0</td>\n",
              "      <td>0</td>\n",
              "      <td>0</td>\n",
              "      <td>3</td>\n",
              "      <td>11</td>\n",
              "      <td>0</td>\n",
              "    </tr>\n",
              "    <tr>\n",
              "      <th>4</th>\n",
              "      <td>5324</td>\n",
              "      <td>1981</td>\n",
              "      <td>PhD</td>\n",
              "      <td>Married</td>\n",
              "      <td>58293</td>\n",
              "      <td>1</td>\n",
              "      <td>0</td>\n",
              "      <td>19-01-2014</td>\n",
              "      <td>94</td>\n",
              "      <td>173</td>\n",
              "      <td>43</td>\n",
              "      <td>118</td>\n",
              "      <td>46</td>\n",
              "      <td>27</td>\n",
              "      <td>15</td>\n",
              "      <td>5</td>\n",
              "      <td>5</td>\n",
              "      <td>3</td>\n",
              "      <td>6</td>\n",
              "      <td>5</td>\n",
              "      <td>0</td>\n",
              "      <td>0</td>\n",
              "      <td>0</td>\n",
              "      <td>0</td>\n",
              "      <td>0</td>\n",
              "      <td>0</td>\n",
              "      <td>3</td>\n",
              "      <td>11</td>\n",
              "      <td>0</td>\n",
              "    </tr>\n",
              "  </tbody>\n",
              "</table>\n",
              "</div>\n",
              "      <button class=\"colab-df-convert\" onclick=\"convertToInteractive('df-366023d9-3b4b-446d-8799-f8382a3484fb')\"\n",
              "              title=\"Convert this dataframe to an interactive table.\"\n",
              "              style=\"display:none;\">\n",
              "        \n",
              "  <svg xmlns=\"http://www.w3.org/2000/svg\" height=\"24px\"viewBox=\"0 0 24 24\"\n",
              "       width=\"24px\">\n",
              "    <path d=\"M0 0h24v24H0V0z\" fill=\"none\"/>\n",
              "    <path d=\"M18.56 5.44l.94 2.06.94-2.06 2.06-.94-2.06-.94-.94-2.06-.94 2.06-2.06.94zm-11 1L8.5 8.5l.94-2.06 2.06-.94-2.06-.94L8.5 2.5l-.94 2.06-2.06.94zm10 10l.94 2.06.94-2.06 2.06-.94-2.06-.94-.94-2.06-.94 2.06-2.06.94z\"/><path d=\"M17.41 7.96l-1.37-1.37c-.4-.4-.92-.59-1.43-.59-.52 0-1.04.2-1.43.59L10.3 9.45l-7.72 7.72c-.78.78-.78 2.05 0 2.83L4 21.41c.39.39.9.59 1.41.59.51 0 1.02-.2 1.41-.59l7.78-7.78 2.81-2.81c.8-.78.8-2.07 0-2.86zM5.41 20L4 18.59l7.72-7.72 1.47 1.35L5.41 20z\"/>\n",
              "  </svg>\n",
              "      </button>\n",
              "      \n",
              "  <style>\n",
              "    .colab-df-container {\n",
              "      display:flex;\n",
              "      flex-wrap:wrap;\n",
              "      gap: 12px;\n",
              "    }\n",
              "\n",
              "    .colab-df-convert {\n",
              "      background-color: #E8F0FE;\n",
              "      border: none;\n",
              "      border-radius: 50%;\n",
              "      cursor: pointer;\n",
              "      display: none;\n",
              "      fill: #1967D2;\n",
              "      height: 32px;\n",
              "      padding: 0 0 0 0;\n",
              "      width: 32px;\n",
              "    }\n",
              "\n",
              "    .colab-df-convert:hover {\n",
              "      background-color: #E2EBFA;\n",
              "      box-shadow: 0px 1px 2px rgba(60, 64, 67, 0.3), 0px 1px 3px 1px rgba(60, 64, 67, 0.15);\n",
              "      fill: #174EA6;\n",
              "    }\n",
              "\n",
              "    [theme=dark] .colab-df-convert {\n",
              "      background-color: #3B4455;\n",
              "      fill: #D2E3FC;\n",
              "    }\n",
              "\n",
              "    [theme=dark] .colab-df-convert:hover {\n",
              "      background-color: #434B5C;\n",
              "      box-shadow: 0px 1px 3px 1px rgba(0, 0, 0, 0.15);\n",
              "      filter: drop-shadow(0px 1px 2px rgba(0, 0, 0, 0.3));\n",
              "      fill: #FFFFFF;\n",
              "    }\n",
              "  </style>\n",
              "\n",
              "      <script>\n",
              "        const buttonEl =\n",
              "          document.querySelector('#df-366023d9-3b4b-446d-8799-f8382a3484fb button.colab-df-convert');\n",
              "        buttonEl.style.display =\n",
              "          google.colab.kernel.accessAllowed ? 'block' : 'none';\n",
              "\n",
              "        async function convertToInteractive(key) {\n",
              "          const element = document.querySelector('#df-366023d9-3b4b-446d-8799-f8382a3484fb');\n",
              "          const dataTable =\n",
              "            await google.colab.kernel.invokeFunction('convertToInteractive',\n",
              "                                                     [key], {});\n",
              "          if (!dataTable) return;\n",
              "\n",
              "          const docLinkHtml = 'Like what you see? Visit the ' +\n",
              "            '<a target=\"_blank\" href=https://colab.research.google.com/notebooks/data_table.ipynb>data table notebook</a>'\n",
              "            + ' to learn more about interactive tables.';\n",
              "          element.innerHTML = '';\n",
              "          dataTable['output_type'] = 'display_data';\n",
              "          await google.colab.output.renderOutput(dataTable, element);\n",
              "          const docLink = document.createElement('div');\n",
              "          docLink.innerHTML = docLinkHtml;\n",
              "          element.appendChild(docLink);\n",
              "        }\n",
              "      </script>\n",
              "    </div>\n",
              "  </div>\n",
              "  "
            ],
            "text/plain": [
              "     ID  Year_Birth   Education  ... Z_CostContact  Z_Revenue  Response\n",
              "0  5524        1957  Graduation  ...             3         11         1\n",
              "1  2174        1954  Graduation  ...             3         11         0\n",
              "2  4141        1965  Graduation  ...             3         11         0\n",
              "3  6182        1984  Graduation  ...             3         11         0\n",
              "4  5324        1981         PhD  ...             3         11         0\n",
              "\n",
              "[5 rows x 29 columns]"
            ]
          },
          "metadata": {},
          "execution_count": 99
        }
      ]
    },
    {
      "cell_type": "markdown",
      "metadata": {
        "id": "yOdBpexXhfo2"
      },
      "source": [
        "# Exploratory Analysis\n"
      ]
    },
    {
      "cell_type": "markdown",
      "source": [
        "## Clean the data: NAs and Outliers"
      ],
      "metadata": {
        "id": "XwtSahSiixmP"
      }
    },
    {
      "cell_type": "markdown",
      "source": [
        "The first step is see if there are NA variables and outliers. Depending on how many they are, a differente approach will be used to deal with it."
      ],
      "metadata": {
        "id": "8ffqAPLLO3Qn"
      }
    },
    {
      "cell_type": "code",
      "metadata": {
        "colab": {
          "base_uri": "https://localhost:8080/"
        },
        "id": "Ab55y7PFoZBX",
        "outputId": "70d4deb9-1c6e-4e9b-8930-1d13d16baff2"
      },
      "source": [
        "customer_data.info()"
      ],
      "execution_count": 100,
      "outputs": [
        {
          "output_type": "stream",
          "name": "stdout",
          "text": [
            "<class 'pandas.core.frame.DataFrame'>\n",
            "RangeIndex: 2240 entries, 0 to 2239\n",
            "Data columns (total 29 columns):\n",
            " #   Column               Non-Null Count  Dtype  \n",
            "---  ------               --------------  -----  \n",
            " 0   ID                   2240 non-null   int64  \n",
            " 1   Year_Birth           2240 non-null   int64  \n",
            " 2   Education            2240 non-null   object \n",
            " 3   Marital_Status       2240 non-null   object \n",
            " 4   Income               2216 non-null   float64\n",
            " 5   Kidhome              2240 non-null   int64  \n",
            " 6   Teenhome             2240 non-null   int64  \n",
            " 7   Dt_Customer          2240 non-null   object \n",
            " 8   Recency              2240 non-null   int64  \n",
            " 9   MntWines             2240 non-null   int64  \n",
            " 10  MntFruits            2240 non-null   int64  \n",
            " 11  MntMeatProducts      2240 non-null   int64  \n",
            " 12  MntFishProducts      2240 non-null   int64  \n",
            " 13  MntSweetProducts     2240 non-null   int64  \n",
            " 14  MntGoldProds         2240 non-null   int64  \n",
            " 15  NumDealsPurchases    2240 non-null   int64  \n",
            " 16  NumWebPurchases      2240 non-null   int64  \n",
            " 17  NumCatalogPurchases  2240 non-null   int64  \n",
            " 18  NumStorePurchases    2240 non-null   int64  \n",
            " 19  NumWebVisitsMonth    2240 non-null   int64  \n",
            " 20  AcceptedCmp3         2240 non-null   int64  \n",
            " 21  AcceptedCmp4         2240 non-null   int64  \n",
            " 22  AcceptedCmp5         2240 non-null   int64  \n",
            " 23  AcceptedCmp1         2240 non-null   int64  \n",
            " 24  AcceptedCmp2         2240 non-null   int64  \n",
            " 25  Complain             2240 non-null   int64  \n",
            " 26  Z_CostContact        2240 non-null   int64  \n",
            " 27  Z_Revenue            2240 non-null   int64  \n",
            " 28  Response             2240 non-null   int64  \n",
            "dtypes: float64(1), int64(25), object(3)\n",
            "memory usage: 507.6+ KB\n"
          ]
        }
      ]
    },
    {
      "cell_type": "markdown",
      "source": [
        "The analysis show that the **Income** column has NA, values. Since they are not so many, the treatment choosen here is simply drop the rows."
      ],
      "metadata": {
        "id": "DdsDDwD65iv3"
      }
    },
    {
      "cell_type": "code",
      "source": [
        "customer_data=customer_data.dropna(subset=['Income'])"
      ],
      "metadata": {
        "id": "zOSC6hIh5g9Z"
      },
      "execution_count": 101,
      "outputs": []
    },
    {
      "cell_type": "markdown",
      "source": [
        "A way to observe if there are outlier instances is to plot histograms and analyze how they are depicted. The expected format for a graph without outliers is an historgram with bars very close to each other ocuppying almost all the x-axis intervals presented in the figure (assuming that the x-axis range was set considering the max. and min. value of the feature)."
      ],
      "metadata": {
        "id": "v3HynZCHPeG5"
      }
    },
    {
      "cell_type": "code",
      "metadata": {
        "colab": {
          "base_uri": "https://localhost:8080/",
          "height": 843
        },
        "id": "pohJR2_rkAF3",
        "outputId": "163d65e1-4b2d-4fed-86cd-c92d77ed8dd8"
      },
      "source": [
        "customer_data.hist(bins=50, figsize=(20,15))\n",
        "plt.show()"
      ],
      "execution_count": 102,
      "outputs": [
        {
          "output_type": "display_data",
          "data": {
            "image/png": "[encoded data removed]",
            "text/plain": [
              "<Figure size 1440x1080 with 30 Axes>"
            ]
          },
          "metadata": {
            "needs_background": "light"
          }
        }
      ]
    },
    {
      "cell_type": "markdown",
      "source": [
        "Such graphs indicates different treatments for each case. Each feature demands a new graph to understand the situation. Let's start with Year_Birth"
      ],
      "metadata": {
        "id": "MMkLrNPMQ7v5"
      }
    },
    {
      "cell_type": "code",
      "source": [
        "customer_data['Year_Birth'].hist(bins=50, figsize=(7,5))\n",
        "plt.show()\n",
        "abnormal_birth_year = len(customer_data[customer_data['Year_Birth']<1910])\n",
        "print('There are '+str(abnormal_birth_year)+' abnormal birth years')"
      ],
      "metadata": {
        "colab": {
          "base_uri": "https://localhost:8080/",
          "height": 338
        },
        "id": "d7pg3-YeSG9n",
        "outputId": "33a2583e-62eb-4b89-f9c3-50cd87ff3659"
      },
      "execution_count": 103,
      "outputs": [
        {
          "output_type": "display_data",
          "data": {
            "image/png": "[encoded data removed]",
            "text/plain": [
              "<Figure size 504x360 with 1 Axes>"
            ]
          },
          "metadata": {
            "needs_background": "light"
          }
        },
        {
          "output_type": "stream",
          "name": "stdout",
          "text": [
            "There are 3 abnormal birth years\n"
          ]
        }
      ]
    },
    {
      "cell_type": "markdown",
      "source": [
        "Since there are only 3 values, we can drop the instances without great harm."
      ],
      "metadata": {
        "id": "eaGRtNU0V9rM"
      }
    },
    {
      "cell_type": "code",
      "source": [
        "customer_data = customer_data[customer_data['Year_Birth']>1910]"
      ],
      "metadata": {
        "id": "PY79tXQUTG8h"
      },
      "execution_count": 104,
      "outputs": []
    },
    {
      "cell_type": "markdown",
      "source": [
        "The next is Income:"
      ],
      "metadata": {
        "id": "oQOb6SdkW1rQ"
      }
    },
    {
      "cell_type": "code",
      "source": [
        "customer_data['Income'].hist(bins=50, figsize=(7,5))\n",
        "plt.show()\n",
        "abnormal_income = len(customer_data[customer_data['Income']>600000])\n",
        "print('There are '+str(abnormal_income)+' abnormal income values')"
      ],
      "metadata": {
        "colab": {
          "base_uri": "https://localhost:8080/",
          "height": 338
        },
        "id": "It45kRlzW7nO",
        "outputId": "df04655d-0403-44bb-a777-dac785931ebd"
      },
      "execution_count": 105,
      "outputs": [
        {
          "output_type": "display_data",
          "data": {
            "image/png": "[encoded data removed]",
            "text/plain": [
              "<Figure size 504x360 with 1 Axes>"
            ]
          },
          "metadata": {
            "needs_background": "light"
          }
        },
        {
          "output_type": "stream",
          "name": "stdout",
          "text": [
            "There are 1 abnormal income values\n"
          ]
        }
      ]
    },
    {
      "cell_type": "markdown",
      "source": [
        "Only 1 instance. Drop again."
      ],
      "metadata": {
        "id": "aNp32kbBXnVP"
      }
    },
    {
      "cell_type": "code",
      "source": [
        "customer_data = customer_data[customer_data['Income']<600000]"
      ],
      "metadata": {
        "id": "Ifp9EYcLXrvf"
      },
      "execution_count": 106,
      "outputs": []
    },
    {
      "cell_type": "markdown",
      "source": [
        "Then come the *Products* features, which can be analyzed together:"
      ],
      "metadata": {
        "id": "GzaC3jPqZahj"
      }
    },
    {
      "cell_type": "code",
      "source": [
        "filter_products_col = [col for col in customer_data if col.startswith('Mnt')]\n",
        "customer_data[filter_products_col].hist(bins=50, figsize=(20,15))\n",
        "plt.show()"
      ],
      "metadata": {
        "id": "XEq-BQu2aVNq",
        "outputId": "a200b97a-9d1a-4226-d5e5-4f9740b3f2d4",
        "colab": {
          "base_uri": "https://localhost:8080/",
          "height": 847
        }
      },
      "execution_count": 107,
      "outputs": [
        {
          "output_type": "display_data",
          "data": {
            "image/png": "[encoded data removed]",
            "text/plain": [
              "<Figure size 1440x1080 with 6 Axes>"
            ]
          },
          "metadata": {
            "needs_background": "light"
          }
        }
      ]
    },
    {
      "cell_type": "markdown",
      "source": [
        "Only meat and sweetproducts present instances far from the others, than these will be removed"
      ],
      "metadata": {
        "id": "fklgprnJbr91"
      }
    },
    {
      "cell_type": "code",
      "source": [
        "customer_data = customer_data[customer_data['MntSweetProducts']<200]\n",
        "customer_data = customer_data[customer_data['MntMeatProducts']<1000]"
      ],
      "metadata": {
        "id": "iWMVx1cGbmMs"
      },
      "execution_count": 108,
      "outputs": []
    },
    {
      "cell_type": "markdown",
      "source": [
        "The *Purchase* features will be droped following the same idea"
      ],
      "metadata": {
        "id": "nHQwd2gfdEGX"
      }
    },
    {
      "cell_type": "code",
      "source": [
        "customer_data = customer_data[customer_data['NumWebPurchases']<15]\n",
        "customer_data = customer_data[customer_data['NumCatalogPurchases']<15]\n",
        "customer_data = customer_data[customer_data['NumWebVisitsMonth']<15]"
      ],
      "metadata": {
        "id": "LhM-uZFhdQQY"
      },
      "execution_count": 109,
      "outputs": []
    },
    {
      "cell_type": "markdown",
      "source": [
        "The features *AcceptedCmp2* and *Complain* are binary variables with low number of '1' values. Depending on how low it is, it is better to drop the whole column."
      ],
      "metadata": {
        "id": "H_HSLLTpexcc"
      }
    },
    {
      "cell_type": "code",
      "source": [
        "customer_data['AcceptedCmp2'].value_counts()"
      ],
      "metadata": {
        "id": "bggUGAeFfpwx",
        "outputId": "6499a192-872b-4ff3-f6a3-1b013b4b2491",
        "colab": {
          "base_uri": "https://localhost:8080/"
        }
      },
      "execution_count": 110,
      "outputs": [
        {
          "output_type": "execute_result",
          "data": {
            "text/plain": [
              "0    2169\n",
              "1      30\n",
              "Name: AcceptedCmp2, dtype: int64"
            ]
          },
          "metadata": {},
          "execution_count": 110
        }
      ]
    },
    {
      "cell_type": "code",
      "source": [
        "customer_data['Complain'].value_counts()"
      ],
      "metadata": {
        "id": "DFmZw3uaf9b9",
        "outputId": "ba4aad25-a5da-4d7c-e962-21e4c3fb86e4",
        "colab": {
          "base_uri": "https://localhost:8080/"
        }
      },
      "execution_count": 111,
      "outputs": [
        {
          "output_type": "execute_result",
          "data": {
            "text/plain": [
              "0    2179\n",
              "1      20\n",
              "Name: Complain, dtype: int64"
            ]
          },
          "metadata": {},
          "execution_count": 111
        }
      ]
    },
    {
      "cell_type": "markdown",
      "source": [
        "These values represent less than 2% of the total number of instances, so these columns will be droped, and so will be the Z_CostContact and Z_Revenue, because all the instances have the same value, meaning nothing for the segmentation process"
      ],
      "metadata": {
        "id": "13Kc7tQwgdBa"
      }
    },
    {
      "cell_type": "code",
      "source": [
        "customer_data.drop(['Complain','AcceptedCmp2','Z_CostContact','Z_Revenue'],axis=1,inplace=True)"
      ],
      "metadata": {
        "id": "1S4bgGNChE4Y"
      },
      "execution_count": 112,
      "outputs": []
    },
    {
      "cell_type": "markdown",
      "source": [
        "Here is the final result:"
      ],
      "metadata": {
        "id": "Yy7bvpkJh_3x"
      }
    },
    {
      "cell_type": "code",
      "source": [
        "customer_data.hist(bins=50, figsize=(20,15))\n",
        "plt.show()"
      ],
      "metadata": {
        "id": "57haNaNYiVV6",
        "outputId": "9a5c2234-99a8-41b6-f229-c11d0a134778",
        "colab": {
          "base_uri": "https://localhost:8080/",
          "height": 843
        }
      },
      "execution_count": 113,
      "outputs": [
        {
          "output_type": "display_data",
          "data": {
            "image/png": "[encoded data removed]",
            "text/plain": [
              "<Figure size 1440x1080 with 25 Axes>"
            ]
          },
          "metadata": {
            "needs_background": "light"
          }
        }
      ]
    },
    {
      "cell_type": "markdown",
      "source": [
        "## Clean the data: Object Variables"
      ],
      "metadata": {
        "id": "MluYsh1YjGeE"
      }
    },
    {
      "cell_type": "markdown",
      "source": [
        "For the moment, it is enough to list the variables and see from which categories they are composed. In next steps, these categories can be simplified."
      ],
      "metadata": {
        "id": "BIxXlnpZzo23"
      }
    },
    {
      "cell_type": "code",
      "source": [
        "education_categories = customer_data['Education'].value_counts()\n",
        "marital_categories = customer_data['Marital_Status'].value_counts()\n",
        "print(education_categories,'\\n\\n\\n',marital_categories)"
      ],
      "metadata": {
        "colab": {
          "base_uri": "https://localhost:8080/"
        },
        "id": "cBrhjoFu0yCV",
        "outputId": "5e3d9f65-0f7b-43a5-dbfd-42b892fb09c8"
      },
      "execution_count": 114,
      "outputs": [
        {
          "output_type": "stream",
          "name": "stdout",
          "text": [
            "Graduation    1110\n",
            "PhD            473\n",
            "Master         364\n",
            "2n Cycle       198\n",
            "Basic           54\n",
            "Name: Education, dtype: int64 \n",
            "\n",
            "\n",
            " Married     852\n",
            "Together    568\n",
            "Single      466\n",
            "Divorced    230\n",
            "Widow        76\n",
            "Alone         3\n",
            "Absurd        2\n",
            "YOLO          2\n",
            "Name: Marital_Status, dtype: int64\n"
          ]
        }
      ]
    },
    {
      "cell_type": "markdown",
      "source": [
        "The other *object* column refers to a date type, wchich will further be converted"
      ],
      "metadata": {
        "id": "18YAblfy29I9"
      }
    },
    {
      "cell_type": "markdown",
      "source": [
        "## Transform the data: Variable creation and modification"
      ],
      "metadata": {
        "id": "gZ-YyKcT3ojj"
      }
    },
    {
      "cell_type": "markdown",
      "source": [
        "Here we'll start with the columns refering to dates, namely *Year_Birth* and *Dt_Customer* being replaced by other meaningful variables (Age and Client_Seniority, respectively). We'll consider the date from data extraction: 04/10/2014. "
      ],
      "metadata": {
        "id": "P_Ckw4_r3xkW"
      }
    },
    {
      "cell_type": "code",
      "source": [
        "last_date = datetime.date(2014,10, 4)\n",
        "customer_data['Seniority']=pd.to_datetime(customer_data['Dt_Customer'], dayfirst=True,format = '%d-%m-%Y')\n",
        "customer_data['Seniority'] = pd.to_numeric(customer_data['Seniority'].dt.date.apply(lambda x: (last_date - x)).dt.days, downcast='integer')/30\n",
        "customer_data['Age']= 2014-customer_data['Year_Birth']"
      ],
      "metadata": {
        "id": "1jRpt7RG4rzF"
      },
      "execution_count": 115,
      "outputs": []
    },
    {
      "cell_type": "markdown",
      "source": [
        "Then we aggregate some column values to create new ones."
      ],
      "metadata": {
        "id": "D60CzdJ67F3f"
      }
    },
    {
      "cell_type": "code",
      "source": [
        "#Aggregate the ammount spended\n",
        "customer_data['Spending'] = customer_data[filter_products_col].sum(axis=1)\n",
        "#Aggregate the number of purchases\n",
        "filter_purchases_col = [col for col in customer_data if col.endswith('Purchases')]\n",
        "customer_data['NumPurchases'] = customer_data[filter_purchases_col].sum(axis=1)\n",
        "#Aggregate the number of kids\n",
        "customer_data['Childrenhome']=customer_data['Teenhome']+customer_data['Kidhome']\n",
        "#Aggregate accepted campaigns\n",
        "filter_campaing_accept_col = [col for col in customer_data if col.startswith('AcceptedCmp')]\n",
        "customer_data['Num_accpt_campaings'] = customer_data[filter_campaing_accept_col].sum(axis=1)"
      ],
      "metadata": {
        "id": "TDppjL_A6b70"
      },
      "execution_count": 116,
      "outputs": []
    },
    {
      "cell_type": "markdown",
      "source": [
        "After this, we simplify the columns with categories. We don't want too many categories, specially if they have low number of instances."
      ],
      "metadata": {
        "id": "swBSAbZ2Bcqh"
      }
    },
    {
      "cell_type": "code",
      "source": [
        "customer_data['Marital_Status'].replace({'Divorced':'Alone','Single':'Alone','Married':'In couple','Together':'In couple','Absurd':'Alone','Widow':'Alone','YOLO':'Alone'},inplace=True)\n",
        "customer_data['Education'].replace({'Basic':'Undergraduate','2n Cycle':'Undergraduate','Graduation':'Postgraduate','Master':'Postgraduate','PhD':'Postgraduate'},inplace=True)"
      ],
      "metadata": {
        "id": "xobWhZaYBznd"
      },
      "execution_count": 117,
      "outputs": []
    },
    {
      "cell_type": "code",
      "source": [
        "customer_data"
      ],
      "metadata": {
        "colab": {
          "base_uri": "https://localhost:8080/",
          "height": 487
        },
        "id": "DTsDZz-SG7kB",
        "outputId": "9a7ae3d9-84d1-41f3-eda0-a5fe0958da32"
      },
      "execution_count": 118,
      "outputs": [
        {
          "output_type": "execute_result",
          "data": {
            "text/html": [
              "\n",
              "  <div id=\"df-ba543a3b-d162-42dd-93a5-fce8e816d350\">\n",
              "    <div class=\"colab-df-container\">\n",
              "      <div>\n",
              "<style scoped>\n",
              "    .dataframe tbody tr th:only-of-type {\n",
              "        vertical-align: middle;\n",
              "    }\n",
              "\n",
              "    .dataframe tbody tr th {\n",
              "        vertical-align: top;\n",
              "    }\n",
              "\n",
              "    .dataframe thead th {\n",
              "        text-align: right;\n",
              "    }\n",
              "</style>\n",
              "<table border=\"1\" class=\"dataframe\">\n",
              "  <thead>\n",
              "    <tr style=\"text-align: right;\">\n",
              "      <th></th>\n",
              "      <th>ID</th>\n",
              "      <th>Year_Birth</th>\n",
              "      <th>Education</th>\n",
              "      <th>Marital_Status</th>\n",
              "      <th>Income</th>\n",
              "      <th>Kidhome</th>\n",
              "      <th>Teenhome</th>\n",
              "      <th>Dt_Customer</th>\n",
              "      <th>Recency</th>\n",
              "      <th>MntWines</th>\n",
              "      <th>MntFruits</th>\n",
              "      <th>MntMeatProducts</th>\n",
              "      <th>MntFishProducts</th>\n",
              "      <th>MntSweetProducts</th>\n",
              "      <th>MntGoldProds</th>\n",
              "      <th>NumDealsPurchases</th>\n",
              "      <th>NumWebPurchases</th>\n",
              "      <th>NumCatalogPurchases</th>\n",
              "      <th>NumStorePurchases</th>\n",
              "      <th>NumWebVisitsMonth</th>\n",
              "      <th>AcceptedCmp3</th>\n",
              "      <th>AcceptedCmp4</th>\n",
              "      <th>AcceptedCmp5</th>\n",
              "      <th>AcceptedCmp1</th>\n",
              "      <th>Response</th>\n",
              "      <th>Seniority</th>\n",
              "      <th>Age</th>\n",
              "      <th>Spending</th>\n",
              "      <th>NumPurchases</th>\n",
              "      <th>Childrenhome</th>\n",
              "      <th>Num_accpt_campaings</th>\n",
              "    </tr>\n",
              "  </thead>\n",
              "  <tbody>\n",
              "    <tr>\n",
              "      <th>0</th>\n",
              "      <td>5524</td>\n",
              "      <td>1957</td>\n",
              "      <td>Postgraduate</td>\n",
              "      <td>Alone</td>\n",
              "      <td>58138</td>\n",
              "      <td>0</td>\n",
              "      <td>0</td>\n",
              "      <td>04-09-2012</td>\n",
              "      <td>58</td>\n",
              "      <td>635</td>\n",
              "      <td>88</td>\n",
              "      <td>546</td>\n",
              "      <td>172</td>\n",
              "      <td>88</td>\n",
              "      <td>88</td>\n",
              "      <td>3</td>\n",
              "      <td>8</td>\n",
              "      <td>10</td>\n",
              "      <td>4</td>\n",
              "      <td>7</td>\n",
              "      <td>0</td>\n",
              "      <td>0</td>\n",
              "      <td>0</td>\n",
              "      <td>0</td>\n",
              "      <td>1</td>\n",
              "      <td>25</td>\n",
              "      <td>57</td>\n",
              "      <td>1617</td>\n",
              "      <td>25</td>\n",
              "      <td>0</td>\n",
              "      <td>0</td>\n",
              "    </tr>\n",
              "    <tr>\n",
              "      <th>1</th>\n",
              "      <td>2174</td>\n",
              "      <td>1954</td>\n",
              "      <td>Postgraduate</td>\n",
              "      <td>Alone</td>\n",
              "      <td>46344</td>\n",
              "      <td>1</td>\n",
              "      <td>1</td>\n",
              "      <td>08-03-2014</td>\n",
              "      <td>38</td>\n",
              "      <td>11</td>\n",
              "      <td>1</td>\n",
              "      <td>6</td>\n",
              "      <td>2</td>\n",
              "      <td>1</td>\n",
              "      <td>6</td>\n",
              "      <td>2</td>\n",
              "      <td>1</td>\n",
              "      <td>1</td>\n",
              "      <td>2</td>\n",
              "      <td>5</td>\n",
              "      <td>0</td>\n",
              "      <td>0</td>\n",
              "      <td>0</td>\n",
              "      <td>0</td>\n",
              "      <td>0</td>\n",
              "      <td>7</td>\n",
              "      <td>60</td>\n",
              "      <td>27</td>\n",
              "      <td>6</td>\n",
              "      <td>2</td>\n",
              "      <td>0</td>\n",
              "    </tr>\n",
              "    <tr>\n",
              "      <th>2</th>\n",
              "      <td>4141</td>\n",
              "      <td>1965</td>\n",
              "      <td>Postgraduate</td>\n",
              "      <td>In couple</td>\n",
              "      <td>71613</td>\n",
              "      <td>0</td>\n",
              "      <td>0</td>\n",
              "      <td>21-08-2013</td>\n",
              "      <td>26</td>\n",
              "      <td>426</td>\n",
              "      <td>49</td>\n",
              "      <td>127</td>\n",
              "      <td>111</td>\n",
              "      <td>21</td>\n",
              "      <td>42</td>\n",
              "      <td>1</td>\n",
              "      <td>8</td>\n",
              "      <td>2</td>\n",
              "      <td>10</td>\n",
              "      <td>4</td>\n",
              "      <td>0</td>\n",
              "      <td>0</td>\n",
              "      <td>0</td>\n",
              "      <td>0</td>\n",
              "      <td>0</td>\n",
              "      <td>14</td>\n",
              "      <td>49</td>\n",
              "      <td>776</td>\n",
              "      <td>21</td>\n",
              "      <td>0</td>\n",
              "      <td>0</td>\n",
              "    </tr>\n",
              "    <tr>\n",
              "      <th>3</th>\n",
              "      <td>6182</td>\n",
              "      <td>1984</td>\n",
              "      <td>Postgraduate</td>\n",
              "      <td>In couple</td>\n",
              "      <td>26646</td>\n",
              "      <td>1</td>\n",
              "      <td>0</td>\n",
              "      <td>10-02-2014</td>\n",
              "      <td>26</td>\n",
              "      <td>11</td>\n",
              "      <td>4</td>\n",
              "      <td>20</td>\n",
              "      <td>10</td>\n",
              "      <td>3</td>\n",
              "      <td>5</td>\n",
              "      <td>2</td>\n",
              "      <td>2</td>\n",
              "      <td>0</td>\n",
              "      <td>4</td>\n",
              "      <td>6</td>\n",
              "      <td>0</td>\n",
              "      <td>0</td>\n",
              "      <td>0</td>\n",
              "      <td>0</td>\n",
              "      <td>0</td>\n",
              "      <td>8</td>\n",
              "      <td>30</td>\n",
              "      <td>53</td>\n",
              "      <td>8</td>\n",
              "      <td>1</td>\n",
              "      <td>0</td>\n",
              "    </tr>\n",
              "    <tr>\n",
              "      <th>4</th>\n",
              "      <td>5324</td>\n",
              "      <td>1981</td>\n",
              "      <td>Postgraduate</td>\n",
              "      <td>In couple</td>\n",
              "      <td>58293</td>\n",
              "      <td>1</td>\n",
              "      <td>0</td>\n",
              "      <td>19-01-2014</td>\n",
              "      <td>94</td>\n",
              "      <td>173</td>\n",
              "      <td>43</td>\n",
              "      <td>118</td>\n",
              "      <td>46</td>\n",
              "      <td>27</td>\n",
              "      <td>15</td>\n",
              "      <td>5</td>\n",
              "      <td>5</td>\n",
              "      <td>3</td>\n",
              "      <td>6</td>\n",
              "      <td>5</td>\n",
              "      <td>0</td>\n",
              "      <td>0</td>\n",
              "      <td>0</td>\n",
              "      <td>0</td>\n",
              "      <td>0</td>\n",
              "      <td>9</td>\n",
              "      <td>33</td>\n",
              "      <td>422</td>\n",
              "      <td>19</td>\n",
              "      <td>1</td>\n",
              "      <td>0</td>\n",
              "    </tr>\n",
              "    <tr>\n",
              "      <th>...</th>\n",
              "      <td>...</td>\n",
              "      <td>...</td>\n",
              "      <td>...</td>\n",
              "      <td>...</td>\n",
              "      <td>...</td>\n",
              "      <td>...</td>\n",
              "      <td>...</td>\n",
              "      <td>...</td>\n",
              "      <td>...</td>\n",
              "      <td>...</td>\n",
              "      <td>...</td>\n",
              "      <td>...</td>\n",
              "      <td>...</td>\n",
              "      <td>...</td>\n",
              "      <td>...</td>\n",
              "      <td>...</td>\n",
              "      <td>...</td>\n",
              "      <td>...</td>\n",
              "      <td>...</td>\n",
              "      <td>...</td>\n",
              "      <td>...</td>\n",
              "      <td>...</td>\n",
              "      <td>...</td>\n",
              "      <td>...</td>\n",
              "      <td>...</td>\n",
              "      <td>...</td>\n",
              "      <td>...</td>\n",
              "      <td>...</td>\n",
              "      <td>...</td>\n",
              "      <td>...</td>\n",
              "      <td>...</td>\n",
              "    </tr>\n",
              "    <tr>\n",
              "      <th>2235</th>\n",
              "      <td>10870</td>\n",
              "      <td>1967</td>\n",
              "      <td>Postgraduate</td>\n",
              "      <td>In couple</td>\n",
              "      <td>61223</td>\n",
              "      <td>0</td>\n",
              "      <td>1</td>\n",
              "      <td>13-06-2013</td>\n",
              "      <td>46</td>\n",
              "      <td>709</td>\n",
              "      <td>43</td>\n",
              "      <td>182</td>\n",
              "      <td>42</td>\n",
              "      <td>118</td>\n",
              "      <td>247</td>\n",
              "      <td>2</td>\n",
              "      <td>9</td>\n",
              "      <td>3</td>\n",
              "      <td>4</td>\n",
              "      <td>5</td>\n",
              "      <td>0</td>\n",
              "      <td>0</td>\n",
              "      <td>0</td>\n",
              "      <td>0</td>\n",
              "      <td>0</td>\n",
              "      <td>16</td>\n",
              "      <td>47</td>\n",
              "      <td>1341</td>\n",
              "      <td>18</td>\n",
              "      <td>1</td>\n",
              "      <td>0</td>\n",
              "    </tr>\n",
              "    <tr>\n",
              "      <th>2236</th>\n",
              "      <td>4001</td>\n",
              "      <td>1946</td>\n",
              "      <td>Postgraduate</td>\n",
              "      <td>In couple</td>\n",
              "      <td>64014</td>\n",
              "      <td>2</td>\n",
              "      <td>1</td>\n",
              "      <td>10-06-2014</td>\n",
              "      <td>56</td>\n",
              "      <td>406</td>\n",
              "      <td>0</td>\n",
              "      <td>30</td>\n",
              "      <td>0</td>\n",
              "      <td>0</td>\n",
              "      <td>8</td>\n",
              "      <td>7</td>\n",
              "      <td>8</td>\n",
              "      <td>2</td>\n",
              "      <td>5</td>\n",
              "      <td>7</td>\n",
              "      <td>0</td>\n",
              "      <td>0</td>\n",
              "      <td>0</td>\n",
              "      <td>1</td>\n",
              "      <td>0</td>\n",
              "      <td>4</td>\n",
              "      <td>68</td>\n",
              "      <td>444</td>\n",
              "      <td>22</td>\n",
              "      <td>3</td>\n",
              "      <td>1</td>\n",
              "    </tr>\n",
              "    <tr>\n",
              "      <th>2237</th>\n",
              "      <td>7270</td>\n",
              "      <td>1981</td>\n",
              "      <td>Postgraduate</td>\n",
              "      <td>Alone</td>\n",
              "      <td>56981</td>\n",
              "      <td>0</td>\n",
              "      <td>0</td>\n",
              "      <td>25-01-2014</td>\n",
              "      <td>91</td>\n",
              "      <td>908</td>\n",
              "      <td>48</td>\n",
              "      <td>217</td>\n",
              "      <td>32</td>\n",
              "      <td>12</td>\n",
              "      <td>24</td>\n",
              "      <td>1</td>\n",
              "      <td>2</td>\n",
              "      <td>3</td>\n",
              "      <td>13</td>\n",
              "      <td>6</td>\n",
              "      <td>0</td>\n",
              "      <td>1</td>\n",
              "      <td>0</td>\n",
              "      <td>0</td>\n",
              "      <td>0</td>\n",
              "      <td>8</td>\n",
              "      <td>33</td>\n",
              "      <td>1241</td>\n",
              "      <td>19</td>\n",
              "      <td>0</td>\n",
              "      <td>1</td>\n",
              "    </tr>\n",
              "    <tr>\n",
              "      <th>2238</th>\n",
              "      <td>8235</td>\n",
              "      <td>1956</td>\n",
              "      <td>Postgraduate</td>\n",
              "      <td>In couple</td>\n",
              "      <td>69245</td>\n",
              "      <td>0</td>\n",
              "      <td>1</td>\n",
              "      <td>24-01-2014</td>\n",
              "      <td>8</td>\n",
              "      <td>428</td>\n",
              "      <td>30</td>\n",
              "      <td>214</td>\n",
              "      <td>80</td>\n",
              "      <td>30</td>\n",
              "      <td>61</td>\n",
              "      <td>2</td>\n",
              "      <td>6</td>\n",
              "      <td>5</td>\n",
              "      <td>10</td>\n",
              "      <td>3</td>\n",
              "      <td>0</td>\n",
              "      <td>0</td>\n",
              "      <td>0</td>\n",
              "      <td>0</td>\n",
              "      <td>0</td>\n",
              "      <td>8</td>\n",
              "      <td>58</td>\n",
              "      <td>843</td>\n",
              "      <td>23</td>\n",
              "      <td>1</td>\n",
              "      <td>0</td>\n",
              "    </tr>\n",
              "    <tr>\n",
              "      <th>2239</th>\n",
              "      <td>9405</td>\n",
              "      <td>1954</td>\n",
              "      <td>Postgraduate</td>\n",
              "      <td>In couple</td>\n",
              "      <td>52869</td>\n",
              "      <td>1</td>\n",
              "      <td>1</td>\n",
              "      <td>15-10-2012</td>\n",
              "      <td>40</td>\n",
              "      <td>84</td>\n",
              "      <td>3</td>\n",
              "      <td>61</td>\n",
              "      <td>2</td>\n",
              "      <td>1</td>\n",
              "      <td>21</td>\n",
              "      <td>3</td>\n",
              "      <td>3</td>\n",
              "      <td>1</td>\n",
              "      <td>4</td>\n",
              "      <td>7</td>\n",
              "      <td>0</td>\n",
              "      <td>0</td>\n",
              "      <td>0</td>\n",
              "      <td>0</td>\n",
              "      <td>1</td>\n",
              "      <td>24</td>\n",
              "      <td>60</td>\n",
              "      <td>172</td>\n",
              "      <td>11</td>\n",
              "      <td>2</td>\n",
              "      <td>0</td>\n",
              "    </tr>\n",
              "  </tbody>\n",
              "</table>\n",
              "<p>2199 rows × 31 columns</p>\n",
              "</div>\n",
              "      <button class=\"colab-df-convert\" onclick=\"convertToInteractive('df-ba543a3b-d162-42dd-93a5-fce8e816d350')\"\n",
              "              title=\"Convert this dataframe to an interactive table.\"\n",
              "              style=\"display:none;\">\n",
              "        \n",
              "  <svg xmlns=\"http://www.w3.org/2000/svg\" height=\"24px\"viewBox=\"0 0 24 24\"\n",
              "       width=\"24px\">\n",
              "    <path d=\"M0 0h24v24H0V0z\" fill=\"none\"/>\n",
              "    <path d=\"M18.56 5.44l.94 2.06.94-2.06 2.06-.94-2.06-.94-.94-2.06-.94 2.06-2.06.94zm-11 1L8.5 8.5l.94-2.06 2.06-.94-2.06-.94L8.5 2.5l-.94 2.06-2.06.94zm10 10l.94 2.06.94-2.06 2.06-.94-2.06-.94-.94-2.06-.94 2.06-2.06.94z\"/><path d=\"M17.41 7.96l-1.37-1.37c-.4-.4-.92-.59-1.43-.59-.52 0-1.04.2-1.43.59L10.3 9.45l-7.72 7.72c-.78.78-.78 2.05 0 2.83L4 21.41c.39.39.9.59 1.41.59.51 0 1.02-.2 1.41-.59l7.78-7.78 2.81-2.81c.8-.78.8-2.07 0-2.86zM5.41 20L4 18.59l7.72-7.72 1.47 1.35L5.41 20z\"/>\n",
              "  </svg>\n",
              "      </button>\n",
              "      \n",
              "  <style>\n",
              "    .colab-df-container {\n",
              "      display:flex;\n",
              "      flex-wrap:wrap;\n",
              "      gap: 12px;\n",
              "    }\n",
              "\n",
              "    .colab-df-convert {\n",
              "      background-color: #E8F0FE;\n",
              "      border: none;\n",
              "      border-radius: 50%;\n",
              "      cursor: pointer;\n",
              "      display: none;\n",
              "      fill: #1967D2;\n",
              "      height: 32px;\n",
              "      padding: 0 0 0 0;\n",
              "      width: 32px;\n",
              "    }\n",
              "\n",
              "    .colab-df-convert:hover {\n",
              "      background-color: #E2EBFA;\n",
              "      box-shadow: 0px 1px 2px rgba(60, 64, 67, 0.3), 0px 1px 3px 1px rgba(60, 64, 67, 0.15);\n",
              "      fill: #174EA6;\n",
              "    }\n",
              "\n",
              "    [theme=dark] .colab-df-convert {\n",
              "      background-color: #3B4455;\n",
              "      fill: #D2E3FC;\n",
              "    }\n",
              "\n",
              "    [theme=dark] .colab-df-convert:hover {\n",
              "      background-color: #434B5C;\n",
              "      box-shadow: 0px 1px 3px 1px rgba(0, 0, 0, 0.15);\n",
              "      filter: drop-shadow(0px 1px 2px rgba(0, 0, 0, 0.3));\n",
              "      fill: #FFFFFF;\n",
              "    }\n",
              "  </style>\n",
              "\n",
              "      <script>\n",
              "        const buttonEl =\n",
              "          document.querySelector('#df-ba543a3b-d162-42dd-93a5-fce8e816d350 button.colab-df-convert');\n",
              "        buttonEl.style.display =\n",
              "          google.colab.kernel.accessAllowed ? 'block' : 'none';\n",
              "\n",
              "        async function convertToInteractive(key) {\n",
              "          const element = document.querySelector('#df-ba543a3b-d162-42dd-93a5-fce8e816d350');\n",
              "          const dataTable =\n",
              "            await google.colab.kernel.invokeFunction('convertToInteractive',\n",
              "                                                     [key], {});\n",
              "          if (!dataTable) return;\n",
              "\n",
              "          const docLinkHtml = 'Like what you see? Visit the ' +\n",
              "            '<a target=\"_blank\" href=https://colab.research.google.com/notebooks/data_table.ipynb>data table notebook</a>'\n",
              "            + ' to learn more about interactive tables.';\n",
              "          element.innerHTML = '';\n",
              "          dataTable['output_type'] = 'display_data';\n",
              "          await google.colab.output.renderOutput(dataTable, element);\n",
              "          const docLink = document.createElement('div');\n",
              "          docLink.innerHTML = docLinkHtml;\n",
              "          element.appendChild(docLink);\n",
              "        }\n",
              "      </script>\n",
              "    </div>\n",
              "  </div>\n",
              "  "
            ],
            "text/plain": [
              "         ID  Year_Birth  ... Childrenhome Num_accpt_campaings\n",
              "0      5524        1957  ...            0                   0\n",
              "1      2174        1954  ...            2                   0\n",
              "2      4141        1965  ...            0                   0\n",
              "3      6182        1984  ...            1                   0\n",
              "4      5324        1981  ...            1                   0\n",
              "...     ...         ...  ...          ...                 ...\n",
              "2235  10870        1967  ...            1                   0\n",
              "2236   4001        1946  ...            3                   1\n",
              "2237   7270        1981  ...            0                   1\n",
              "2238   8235        1956  ...            1                   0\n",
              "2239   9405        1954  ...            2                   0\n",
              "\n",
              "[2199 rows x 31 columns]"
            ]
          },
          "metadata": {},
          "execution_count": 118
        }
      ]
    },
    {
      "cell_type": "code",
      "source": [
        "enc1 = OneHotEncoder(handle_unknown='ignore')\n",
        "marital_1hot = enc1.fit_transform(customer_data[['Marital_Status']])\n",
        "marital_1hot_array = marital_1hot.toarray()\n",
        "hot_df = pd.DataFrame(marital_1hot_array,columns=enc1.categories_,index=customer_data.index)\n",
        "customer_data = customer_data.join(hot_df)\n",
        "enc2 = OneHotEncoder(handle_unknown='ignore')\n",
        "education_1hot = enc1.fit_transform(customer_data[['Education']])\n",
        "education_1hot_array = marital_1hot.toarray()\n",
        "hot_df = pd.DataFrame(education_1hot_array,columns=enc1.categories_,index=customer_data.index)\n",
        "customer_data = customer_data.join(hot_df)"
      ],
      "metadata": {
        "id": "KZ2eoAtjAkN_"
      },
      "execution_count": 119,
      "outputs": []
    },
    {
      "cell_type": "code",
      "source": [
        "column_names= customer_data.columns\n",
        "customer_data.rename(columns={column_names[-4]: \"Alone\", column_names[-3]: \"In couple\",column_names[-2]:\"Postgraduate\",column_names[-1]:\"Undergraduate\"},inplace=True)\n"
      ],
      "metadata": {
        "id": "I58IzZ1hYOPN"
      },
      "execution_count": 120,
      "outputs": []
    },
    {
      "cell_type": "code",
      "source": [
        ""
      ],
      "metadata": {
        "id": "L9SbD9podVCE"
      },
      "execution_count": 120,
      "outputs": []
    },
    {
      "cell_type": "markdown",
      "source": [
        "And finally we drop the columns with overlapping information."
      ],
      "metadata": {
        "id": "qXpdto7fDiej"
      }
    },
    {
      "cell_type": "code",
      "source": [
        "customer_data.drop(['Teenhome','Kidhome','Dt_Customer','Year_Birth','AcceptedCmp1','AcceptedCmp3','AcceptedCmp4','AcceptedCmp5','Response','Education','Marital_Status','In couple','Undergraduate','ID'],axis=1,inplace=True)"
      ],
      "metadata": {
        "id": "7vJvEbou737e"
      },
      "execution_count": 121,
      "outputs": []
    },
    {
      "cell_type": "code",
      "source": [
        "customer_data"
      ],
      "metadata": {
        "colab": {
          "base_uri": "https://localhost:8080/",
          "height": 644
        },
        "id": "aI2VZ0SXd_ya",
        "outputId": "36f16ae2-7135-4bde-e570-a0a5753b3222"
      },
      "execution_count": 158,
      "outputs": [
        {
          "output_type": "execute_result",
          "data": {
            "text/html": [
              "\n",
              "  <div id=\"df-ad2a73ef-fadb-47f0-9be0-87b15bada50a\">\n",
              "    <div class=\"colab-df-container\">\n",
              "      <div>\n",
              "<style scoped>\n",
              "    .dataframe tbody tr th:only-of-type {\n",
              "        vertical-align: middle;\n",
              "    }\n",
              "\n",
              "    .dataframe tbody tr th {\n",
              "        vertical-align: top;\n",
              "    }\n",
              "\n",
              "    .dataframe thead th {\n",
              "        text-align: right;\n",
              "    }\n",
              "</style>\n",
              "<table border=\"1\" class=\"dataframe\">\n",
              "  <thead>\n",
              "    <tr style=\"text-align: right;\">\n",
              "      <th></th>\n",
              "      <th>Income</th>\n",
              "      <th>Recency</th>\n",
              "      <th>MntWines</th>\n",
              "      <th>MntFruits</th>\n",
              "      <th>MntMeatProducts</th>\n",
              "      <th>MntFishProducts</th>\n",
              "      <th>MntSweetProducts</th>\n",
              "      <th>MntGoldProds</th>\n",
              "      <th>NumDealsPurchases</th>\n",
              "      <th>NumWebPurchases</th>\n",
              "      <th>NumCatalogPurchases</th>\n",
              "      <th>NumStorePurchases</th>\n",
              "      <th>NumWebVisitsMonth</th>\n",
              "      <th>Seniority</th>\n",
              "      <th>Age</th>\n",
              "      <th>Spending</th>\n",
              "      <th>NumPurchases</th>\n",
              "      <th>Childrenhome</th>\n",
              "      <th>Num_accpt_campaings</th>\n",
              "      <th>Alone</th>\n",
              "      <th>Postgraduate</th>\n",
              "      <th>Winepct</th>\n",
              "      <th>Cluster</th>\n",
              "    </tr>\n",
              "  </thead>\n",
              "  <tbody>\n",
              "    <tr>\n",
              "      <th>0</th>\n",
              "      <td>58138</td>\n",
              "      <td>58</td>\n",
              "      <td>635</td>\n",
              "      <td>88</td>\n",
              "      <td>546</td>\n",
              "      <td>172</td>\n",
              "      <td>88</td>\n",
              "      <td>88</td>\n",
              "      <td>3</td>\n",
              "      <td>8</td>\n",
              "      <td>10</td>\n",
              "      <td>4</td>\n",
              "      <td>7</td>\n",
              "      <td>25</td>\n",
              "      <td>57</td>\n",
              "      <td>1617</td>\n",
              "      <td>25</td>\n",
              "      <td>0</td>\n",
              "      <td>0</td>\n",
              "      <td>1</td>\n",
              "      <td>1</td>\n",
              "      <td>0</td>\n",
              "      <td>Need attention</td>\n",
              "    </tr>\n",
              "    <tr>\n",
              "      <th>1</th>\n",
              "      <td>46344</td>\n",
              "      <td>38</td>\n",
              "      <td>11</td>\n",
              "      <td>1</td>\n",
              "      <td>6</td>\n",
              "      <td>2</td>\n",
              "      <td>1</td>\n",
              "      <td>6</td>\n",
              "      <td>2</td>\n",
              "      <td>1</td>\n",
              "      <td>1</td>\n",
              "      <td>2</td>\n",
              "      <td>5</td>\n",
              "      <td>7</td>\n",
              "      <td>60</td>\n",
              "      <td>27</td>\n",
              "      <td>6</td>\n",
              "      <td>2</td>\n",
              "      <td>0</td>\n",
              "      <td>1</td>\n",
              "      <td>1</td>\n",
              "      <td>0</td>\n",
              "      <td>High potential</td>\n",
              "    </tr>\n",
              "    <tr>\n",
              "      <th>2</th>\n",
              "      <td>71613</td>\n",
              "      <td>26</td>\n",
              "      <td>426</td>\n",
              "      <td>49</td>\n",
              "      <td>127</td>\n",
              "      <td>111</td>\n",
              "      <td>21</td>\n",
              "      <td>42</td>\n",
              "      <td>1</td>\n",
              "      <td>8</td>\n",
              "      <td>2</td>\n",
              "      <td>10</td>\n",
              "      <td>4</td>\n",
              "      <td>14</td>\n",
              "      <td>49</td>\n",
              "      <td>776</td>\n",
              "      <td>21</td>\n",
              "      <td>0</td>\n",
              "      <td>0</td>\n",
              "      <td>0</td>\n",
              "      <td>0</td>\n",
              "      <td>1</td>\n",
              "      <td>Leaky bucket</td>\n",
              "    </tr>\n",
              "    <tr>\n",
              "      <th>3</th>\n",
              "      <td>26646</td>\n",
              "      <td>26</td>\n",
              "      <td>11</td>\n",
              "      <td>4</td>\n",
              "      <td>20</td>\n",
              "      <td>10</td>\n",
              "      <td>3</td>\n",
              "      <td>5</td>\n",
              "      <td>2</td>\n",
              "      <td>2</td>\n",
              "      <td>0</td>\n",
              "      <td>4</td>\n",
              "      <td>6</td>\n",
              "      <td>8</td>\n",
              "      <td>30</td>\n",
              "      <td>53</td>\n",
              "      <td>8</td>\n",
              "      <td>1</td>\n",
              "      <td>0</td>\n",
              "      <td>0</td>\n",
              "      <td>0</td>\n",
              "      <td>0</td>\n",
              "      <td>High potential</td>\n",
              "    </tr>\n",
              "    <tr>\n",
              "      <th>4</th>\n",
              "      <td>58293</td>\n",
              "      <td>94</td>\n",
              "      <td>173</td>\n",
              "      <td>43</td>\n",
              "      <td>118</td>\n",
              "      <td>46</td>\n",
              "      <td>27</td>\n",
              "      <td>15</td>\n",
              "      <td>5</td>\n",
              "      <td>5</td>\n",
              "      <td>3</td>\n",
              "      <td>6</td>\n",
              "      <td>5</td>\n",
              "      <td>9</td>\n",
              "      <td>33</td>\n",
              "      <td>422</td>\n",
              "      <td>19</td>\n",
              "      <td>1</td>\n",
              "      <td>0</td>\n",
              "      <td>0</td>\n",
              "      <td>0</td>\n",
              "      <td>0</td>\n",
              "      <td>High potential</td>\n",
              "    </tr>\n",
              "    <tr>\n",
              "      <th>...</th>\n",
              "      <td>...</td>\n",
              "      <td>...</td>\n",
              "      <td>...</td>\n",
              "      <td>...</td>\n",
              "      <td>...</td>\n",
              "      <td>...</td>\n",
              "      <td>...</td>\n",
              "      <td>...</td>\n",
              "      <td>...</td>\n",
              "      <td>...</td>\n",
              "      <td>...</td>\n",
              "      <td>...</td>\n",
              "      <td>...</td>\n",
              "      <td>...</td>\n",
              "      <td>...</td>\n",
              "      <td>...</td>\n",
              "      <td>...</td>\n",
              "      <td>...</td>\n",
              "      <td>...</td>\n",
              "      <td>...</td>\n",
              "      <td>...</td>\n",
              "      <td>...</td>\n",
              "      <td>...</td>\n",
              "    </tr>\n",
              "    <tr>\n",
              "      <th>2235</th>\n",
              "      <td>61223</td>\n",
              "      <td>46</td>\n",
              "      <td>709</td>\n",
              "      <td>43</td>\n",
              "      <td>182</td>\n",
              "      <td>42</td>\n",
              "      <td>118</td>\n",
              "      <td>247</td>\n",
              "      <td>2</td>\n",
              "      <td>9</td>\n",
              "      <td>3</td>\n",
              "      <td>4</td>\n",
              "      <td>5</td>\n",
              "      <td>16</td>\n",
              "      <td>47</td>\n",
              "      <td>1341</td>\n",
              "      <td>18</td>\n",
              "      <td>1</td>\n",
              "      <td>0</td>\n",
              "      <td>0</td>\n",
              "      <td>0</td>\n",
              "      <td>1</td>\n",
              "      <td>Need attention</td>\n",
              "    </tr>\n",
              "    <tr>\n",
              "      <th>2236</th>\n",
              "      <td>64014</td>\n",
              "      <td>56</td>\n",
              "      <td>406</td>\n",
              "      <td>0</td>\n",
              "      <td>30</td>\n",
              "      <td>0</td>\n",
              "      <td>0</td>\n",
              "      <td>8</td>\n",
              "      <td>7</td>\n",
              "      <td>8</td>\n",
              "      <td>2</td>\n",
              "      <td>5</td>\n",
              "      <td>7</td>\n",
              "      <td>4</td>\n",
              "      <td>68</td>\n",
              "      <td>444</td>\n",
              "      <td>22</td>\n",
              "      <td>3</td>\n",
              "      <td>1</td>\n",
              "      <td>0</td>\n",
              "      <td>0</td>\n",
              "      <td>1</td>\n",
              "      <td>Leaky bucket</td>\n",
              "    </tr>\n",
              "    <tr>\n",
              "      <th>2237</th>\n",
              "      <td>56981</td>\n",
              "      <td>91</td>\n",
              "      <td>908</td>\n",
              "      <td>48</td>\n",
              "      <td>217</td>\n",
              "      <td>32</td>\n",
              "      <td>12</td>\n",
              "      <td>24</td>\n",
              "      <td>1</td>\n",
              "      <td>2</td>\n",
              "      <td>3</td>\n",
              "      <td>13</td>\n",
              "      <td>6</td>\n",
              "      <td>8</td>\n",
              "      <td>33</td>\n",
              "      <td>1241</td>\n",
              "      <td>19</td>\n",
              "      <td>0</td>\n",
              "      <td>1</td>\n",
              "      <td>1</td>\n",
              "      <td>1</td>\n",
              "      <td>1</td>\n",
              "      <td>Leaky bucket</td>\n",
              "    </tr>\n",
              "    <tr>\n",
              "      <th>2238</th>\n",
              "      <td>69245</td>\n",
              "      <td>8</td>\n",
              "      <td>428</td>\n",
              "      <td>30</td>\n",
              "      <td>214</td>\n",
              "      <td>80</td>\n",
              "      <td>30</td>\n",
              "      <td>61</td>\n",
              "      <td>2</td>\n",
              "      <td>6</td>\n",
              "      <td>5</td>\n",
              "      <td>10</td>\n",
              "      <td>3</td>\n",
              "      <td>8</td>\n",
              "      <td>58</td>\n",
              "      <td>843</td>\n",
              "      <td>23</td>\n",
              "      <td>1</td>\n",
              "      <td>0</td>\n",
              "      <td>0</td>\n",
              "      <td>0</td>\n",
              "      <td>1</td>\n",
              "      <td>Leaky bucket</td>\n",
              "    </tr>\n",
              "    <tr>\n",
              "      <th>2239</th>\n",
              "      <td>52869</td>\n",
              "      <td>40</td>\n",
              "      <td>84</td>\n",
              "      <td>3</td>\n",
              "      <td>61</td>\n",
              "      <td>2</td>\n",
              "      <td>1</td>\n",
              "      <td>21</td>\n",
              "      <td>3</td>\n",
              "      <td>3</td>\n",
              "      <td>1</td>\n",
              "      <td>4</td>\n",
              "      <td>7</td>\n",
              "      <td>24</td>\n",
              "      <td>60</td>\n",
              "      <td>172</td>\n",
              "      <td>11</td>\n",
              "      <td>2</td>\n",
              "      <td>0</td>\n",
              "      <td>0</td>\n",
              "      <td>0</td>\n",
              "      <td>0</td>\n",
              "      <td>Stars</td>\n",
              "    </tr>\n",
              "  </tbody>\n",
              "</table>\n",
              "<p>2199 rows × 23 columns</p>\n",
              "</div>\n",
              "      <button class=\"colab-df-convert\" onclick=\"convertToInteractive('df-ad2a73ef-fadb-47f0-9be0-87b15bada50a')\"\n",
              "              title=\"Convert this dataframe to an interactive table.\"\n",
              "              style=\"display:none;\">\n",
              "        \n",
              "  <svg xmlns=\"http://www.w3.org/2000/svg\" height=\"24px\"viewBox=\"0 0 24 24\"\n",
              "       width=\"24px\">\n",
              "    <path d=\"M0 0h24v24H0V0z\" fill=\"none\"/>\n",
              "    <path d=\"M18.56 5.44l.94 2.06.94-2.06 2.06-.94-2.06-.94-.94-2.06-.94 2.06-2.06.94zm-11 1L8.5 8.5l.94-2.06 2.06-.94-2.06-.94L8.5 2.5l-.94 2.06-2.06.94zm10 10l.94 2.06.94-2.06 2.06-.94-2.06-.94-.94-2.06-.94 2.06-2.06.94z\"/><path d=\"M17.41 7.96l-1.37-1.37c-.4-.4-.92-.59-1.43-.59-.52 0-1.04.2-1.43.59L10.3 9.45l-7.72 7.72c-.78.78-.78 2.05 0 2.83L4 21.41c.39.39.9.59 1.41.59.51 0 1.02-.2 1.41-.59l7.78-7.78 2.81-2.81c.8-.78.8-2.07 0-2.86zM5.41 20L4 18.59l7.72-7.72 1.47 1.35L5.41 20z\"/>\n",
              "  </svg>\n",
              "      </button>\n",
              "      \n",
              "  <style>\n",
              "    .colab-df-container {\n",
              "      display:flex;\n",
              "      flex-wrap:wrap;\n",
              "      gap: 12px;\n",
              "    }\n",
              "\n",
              "    .colab-df-convert {\n",
              "      background-color: #E8F0FE;\n",
              "      border: none;\n",
              "      border-radius: 50%;\n",
              "      cursor: pointer;\n",
              "      display: none;\n",
              "      fill: #1967D2;\n",
              "      height: 32px;\n",
              "      padding: 0 0 0 0;\n",
              "      width: 32px;\n",
              "    }\n",
              "\n",
              "    .colab-df-convert:hover {\n",
              "      background-color: #E2EBFA;\n",
              "      box-shadow: 0px 1px 2px rgba(60, 64, 67, 0.3), 0px 1px 3px 1px rgba(60, 64, 67, 0.15);\n",
              "      fill: #174EA6;\n",
              "    }\n",
              "\n",
              "    [theme=dark] .colab-df-convert {\n",
              "      background-color: #3B4455;\n",
              "      fill: #D2E3FC;\n",
              "    }\n",
              "\n",
              "    [theme=dark] .colab-df-convert:hover {\n",
              "      background-color: #434B5C;\n",
              "      box-shadow: 0px 1px 3px 1px rgba(0, 0, 0, 0.15);\n",
              "      filter: drop-shadow(0px 1px 2px rgba(0, 0, 0, 0.3));\n",
              "      fill: #FFFFFF;\n",
              "    }\n",
              "  </style>\n",
              "\n",
              "      <script>\n",
              "        const buttonEl =\n",
              "          document.querySelector('#df-ad2a73ef-fadb-47f0-9be0-87b15bada50a button.colab-df-convert');\n",
              "        buttonEl.style.display =\n",
              "          google.colab.kernel.accessAllowed ? 'block' : 'none';\n",
              "\n",
              "        async function convertToInteractive(key) {\n",
              "          const element = document.querySelector('#df-ad2a73ef-fadb-47f0-9be0-87b15bada50a');\n",
              "          const dataTable =\n",
              "            await google.colab.kernel.invokeFunction('convertToInteractive',\n",
              "                                                     [key], {});\n",
              "          if (!dataTable) return;\n",
              "\n",
              "          const docLinkHtml = 'Like what you see? Visit the ' +\n",
              "            '<a target=\"_blank\" href=https://colab.research.google.com/notebooks/data_table.ipynb>data table notebook</a>'\n",
              "            + ' to learn more about interactive tables.';\n",
              "          element.innerHTML = '';\n",
              "          dataTable['output_type'] = 'display_data';\n",
              "          await google.colab.output.renderOutput(dataTable, element);\n",
              "          const docLink = document.createElement('div');\n",
              "          docLink.innerHTML = docLinkHtml;\n",
              "          element.appendChild(docLink);\n",
              "        }\n",
              "      </script>\n",
              "    </div>\n",
              "  </div>\n",
              "  "
            ],
            "text/plain": [
              "      Income  Recency  MntWines  ...  Postgraduate  Winepct         Cluster\n",
              "0      58138       58       635  ...             1        0  Need attention\n",
              "1      46344       38        11  ...             1        0  High potential\n",
              "2      71613       26       426  ...             0        1    Leaky bucket\n",
              "3      26646       26        11  ...             0        0  High potential\n",
              "4      58293       94       173  ...             0        0  High potential\n",
              "...      ...      ...       ...  ...           ...      ...             ...\n",
              "2235   61223       46       709  ...             0        1  Need attention\n",
              "2236   64014       56       406  ...             0        1    Leaky bucket\n",
              "2237   56981       91       908  ...             1        1    Leaky bucket\n",
              "2238   69245        8       428  ...             0        1    Leaky bucket\n",
              "2239   52869       40        84  ...             0        0           Stars\n",
              "\n",
              "[2199 rows x 23 columns]"
            ]
          },
          "metadata": {},
          "execution_count": 158
        }
      ]
    },
    {
      "cell_type": "markdown",
      "source": [
        ""
      ],
      "metadata": {
        "id": "PyINtRtDdPan"
      }
    },
    {
      "cell_type": "markdown",
      "source": [
        "Now we'll create newfeatures to make easier the next steps"
      ],
      "metadata": {
        "id": "Nfm4xKSDvuOQ"
      }
    },
    {
      "cell_type": "markdown",
      "source": [
        "## Data Analysis"
      ],
      "metadata": {
        "id": "ZGlAIXvV_tXL"
      }
    },
    {
      "cell_type": "markdown",
      "source": [
        "Until this point, the steps made did not considered our main goal. Doing so, we created a dataset that can be used for multiple objectives. Nevertheless, in order to create a more sharp analysis, we'll focus on our goal.\n",
        "\n"
      ],
      "metadata": {
        "id": "G2Kkl-7rWhQ1"
      }
    },
    {
      "cell_type": "markdown",
      "source": [
        "## Which variables are more correlated with wine consumption?\n",
        "\n",
        "One possiblity is to consider my whole dataset to make the clusterization. Another possibility is to run a PCA Analysis to reduce dimensions of the problem and generates the cluster using a low number of features.<br>\n",
        "Both approaches have a disadvantage: the loss of interpretability.\n",
        "Though this models could lead to better comparison metrics, it could make difficult to know what each segment is exactly.<br>\n",
        "To tackle this, we'll pick the three variables most correlated with the wine spending, and with they, we'll make the clusterization, so the results will be interpretable. Finally, we'll make our conclusion for the marketing team.<br>\n",
        "Wel'll see this correlation in two ways: one considering the variable that we already have, the *MntWines*. The other considering the percentage spended in wine considering the total spending (here called 'Winepct') "
      ],
      "metadata": {
        "id": "i2WUDyjFZ0mL"
      }
    },
    {
      "cell_type": "code",
      "source": [
        "customer_data.corr()['MntWines'].sort_values(ascending=False)"
      ],
      "metadata": {
        "colab": {
          "base_uri": "https://localhost:8080/"
        },
        "id": "NwUhh6SaZzOy",
        "outputId": "6d728f8a-3484-47b0-fa74-29946c4003fa"
      },
      "execution_count": 159,
      "outputs": [
        {
          "output_type": "execute_result",
          "data": {
            "text/plain": [
              "MntWines               1\n",
              "Spending               1\n",
              "NumPurchases           1\n",
              "Income                 1\n",
              "NumCatalogPurchases    1\n",
              "NumStorePurchases      1\n",
              "MntMeatProducts        1\n",
              "NumWebPurchases        1\n",
              "Num_accpt_campaings    1\n",
              "Winepct                0\n",
              "MntGoldProds           0\n",
              "MntFishProducts        0\n",
              "MntSweetProducts       0\n",
              "MntFruits              0\n",
              "Seniority              0\n",
              "Age                    0\n",
              "NumDealsPurchases      0\n",
              "Recency                0\n",
              "Postgraduate           0\n",
              "Alone                  0\n",
              "NumWebVisitsMonth     -0\n",
              "Childrenhome          -0\n",
              "Name: MntWines, dtype: float64"
            ]
          },
          "metadata": {},
          "execution_count": 159
        }
      ]
    },
    {
      "cell_type": "code",
      "source": [
        "customer_data['Winepct']= customer_data['MntWines']/customer_data['Spending']\n",
        "customer_data.corr()['Winepct'].sort_values(ascending=False)"
      ],
      "metadata": {
        "colab": {
          "base_uri": "https://localhost:8080/"
        },
        "id": "gEy0ojDxdvKb",
        "outputId": "39a633d8-8bf3-40bb-cbec-7389dd85e111"
      },
      "execution_count": 160,
      "outputs": [
        {
          "output_type": "execute_result",
          "data": {
            "text/plain": [
              "Winepct                1\n",
              "MntWines               0\n",
              "NumWebPurchases        0\n",
              "Income                 0\n",
              "NumPurchases           0\n",
              "Age                    0\n",
              "NumStorePurchases      0\n",
              "NumDealsPurchases      0\n",
              "Childrenhome           0\n",
              "Spending               0\n",
              "Num_accpt_campaings    0\n",
              "NumCatalogPurchases    0\n",
              "NumWebVisitsMonth      0\n",
              "Seniority             -0\n",
              "Recency               -0\n",
              "Postgraduate          -0\n",
              "Alone                 -0\n",
              "MntGoldProds          -0\n",
              "MntMeatProducts       -0\n",
              "MntSweetProducts      -0\n",
              "MntFruits             -0\n",
              "MntFishProducts       -0\n",
              "Name: Winepct, dtype: float64"
            ]
          },
          "metadata": {},
          "execution_count": 160
        }
      ]
    },
    {
      "cell_type": "markdown",
      "source": [
        "As expected, the correlation coefficients for the *MntWines* are higher than the one for *Winepct*. This happens because the former is an **extensible variable**, and it will be strong correlated with other **extensible variable** like spending and income. Another interesting thing is that the correlation can change for positive to negative correlated for each case. The ammount spended in other products is positive correlated with *MntWines*, though it's negative correlated them (if you spend more in wine, you spend less in other products). We could go further with one of the two, and could call initially the difference of *'Unerdestand the wine spenders'* and *'Understand the wine lovers'*. For this moment, we'll keep the first one.\n",
        "\n",
        "Though we kept the same variable that we had before, it's important to highlight the possibilities we didn't take for further analysis, clusterizations and align what is done in this study and what is expected by the marketing team.\n",
        "\n",
        "For our clusterization, we'll consider the properties *MntWines*, *Spending*, *NumPurchases* and *Income*"
      ],
      "metadata": {
        "id": "dJtUN2tBgH_F"
      }
    },
    {
      "cell_type": "code",
      "source": [
        "customer_data_reduced = customer_data[['MntWines','Spending','NumPurchases','Income']]\n",
        "#customer_data_reduced = customer_data[['Spending','NumPurchases','Income']]\n",
        "#customer_data_reduced = customer_data"
      ],
      "metadata": {
        "id": "e7q8qp3Yothw"
      },
      "execution_count": 125,
      "outputs": []
    },
    {
      "cell_type": "markdown",
      "source": [
        "# Clustering"
      ],
      "metadata": {
        "id": "a1rfMNzX_w1q"
      }
    },
    {
      "cell_type": "markdown",
      "source": [
        "Now it's time to segmentate the data. Here, we'll use the k-means model, and to use it properly, we'll scale the data that will be used in the model"
      ],
      "metadata": {
        "id": "o6-S0uMxmq3z"
      }
    },
    {
      "cell_type": "code",
      "source": [
        "scaler = MinMaxScaler()\n",
        "scaler.fit(customer_data_reduced)\n",
        "customer_data_reduced_scaled = scaler.transform(customer_data_reduced)"
      ],
      "metadata": {
        "id": "Zcv0cRX0Cmqg"
      },
      "execution_count": 126,
      "outputs": []
    },
    {
      "cell_type": "markdown",
      "source": [
        "## Number of clusters"
      ],
      "metadata": {
        "id": "Rv8qB6NFsRDm"
      }
    },
    {
      "cell_type": "markdown",
      "source": [
        "Now, we have to estabilish a criterium to choose the numbers of cluester. For this, we'll use the <a href='https://scikit-learn.org/stable/modules/generated/sklearn.metrics.silhouette_score.html'>silhouette_score</a>, presented in scikit-learn. We'll run tests for k=3 to k=8"
      ],
      "metadata": {
        "id": "cuDkBwdGqvxC"
      }
    },
    {
      "cell_type": "code",
      "source": [
        "k_scores=[]\n",
        "for k in range(2,8):\n",
        "  kmeans = KMeans(n_clusters=k,random_state=42)\n",
        "  y_pred = kmeans.fit_predict(customer_data_reduced_scaled)\n",
        "  k_score = silhouette_score(customer_data_reduced_scaled, kmeans.labels_)\n",
        "  k_scores.append(k_score)\n",
        "\n",
        "  fig, ax = plt.subplots()\n",
        "  sample_silhouette_values = silhouette_samples(customer_data_reduced_scaled, y_pred)\n",
        "  y_lower = 10\n",
        "  for i in range(k):    \n",
        "    # Aggregate the silhouette scores for samples belonging to\n",
        "    # cluster i, and sort them\n",
        "    ith_cluster_silhouette_values = sample_silhouette_values[y_pred == i]\n",
        "\n",
        "    ith_cluster_silhouette_values.sort()\n",
        "\n",
        "    size_cluster_i = ith_cluster_silhouette_values.shape[0]\n",
        "    y_upper = y_lower + size_cluster_i\n",
        "\n",
        "    color = cm.nipy_spectral(float(i) / k)\n",
        "    ax.fill_betweenx(\n",
        "        np.arange(y_lower, y_upper),\n",
        "        0,\n",
        "        ith_cluster_silhouette_values,\n",
        "        facecolor=color,\n",
        "        edgecolor=color,\n",
        "        alpha=0.7,\n",
        "    )\n",
        "\n",
        "    # Label the silhouette plots with their cluster numbers at the middle\n",
        "    ax.text(-0.05, y_lower + 0.5 * size_cluster_i, str(i))\n",
        "\n",
        "    # Compute the new y_lower for next plot\n",
        "    y_lower = y_upper + 10  # 10 for the 0 samples\n",
        "\n",
        "  ax.set_title(\"The silhouette plot for the various clusters.\")\n",
        "  ax.set_xlabel(\"The silhouette coefficient values\")\n",
        "  ax.set_ylabel(\"Cluster label\")\n",
        "  # The vertical line for average silhouette score of all the values\n",
        "  ax.axvline(x=k_score, color=\"red\", linestyle=\"--\")\n",
        "\n",
        "  ax.set_yticks([])  # Clear the yaxis labels / ticks\n",
        "  ax.set_xticks([-0.1, 0, 0.2, 0.4, 0.6, 0.8, 1])\n",
        "plt.show()\n",
        "\n",
        "#the silhouette_scores\n",
        "plt.scatter(range(2,8),k_scores)\n",
        "plt.show()"
      ],
      "metadata": {
        "id": "k-fDsZ25IP_f",
        "colab": {
          "base_uri": "https://localhost:8080/",
          "height": 1000
        },
        "outputId": "6f5e8dc3-67b1-4de5-ffb9-64e74737b814"
      },
      "execution_count": 127,
      "outputs": [
        {
          "output_type": "display_data",
          "data": {
            "image/png": "[encoded data removed]",
            "text/plain": [
              "<Figure size 432x288 with 1 Axes>"
            ]
          },
          "metadata": {
            "needs_background": "light"
          }
        },
        {
          "output_type": "display_data",
          "data": {
            "image/png": "[encoded data removed]",
            "text/plain": [
              "<Figure size 432x288 with 1 Axes>"
            ]
          },
          "metadata": {
            "needs_background": "light"
          }
        },
        {
          "output_type": "display_data",
          "data": {
            "image/png": "[encoded data removed]",
            "text/plain": [
              "<Figure size 432x288 with 1 Axes>"
            ]
          },
          "metadata": {
            "needs_background": "light"
          }
        },
        {
          "output_type": "display_data",
          "data": {
            "image/png": "[encoded data removed]",
            "text/plain": [
              "<Figure size 432x288 with 1 Axes>"
            ]
          },
          "metadata": {
            "needs_background": "light"
          }
        },
        {
          "output_type": "display_data",
          "data": {
            "image/png": "[encoded data removed]",
            "text/plain": [
              "<Figure size 432x288 with 1 Axes>"
            ]
          },
          "metadata": {
            "needs_background": "light"
          }
        },
        {
          "output_type": "display_data",
          "data": {
            "image/png": "[encoded data removed]",
            "text/plain": [
              "<Figure size 432x288 with 1 Axes>"
            ]
          },
          "metadata": {
            "needs_background": "light"
          }
        },
        {
          "output_type": "display_data",
          "data": {
            "image/png": "[encoded data removed]",
            "text/plain": [
              "<Figure size 432x288 with 1 Axes>"
            ]
          },
          "metadata": {
            "needs_background": "light"
          }
        }
      ]
    },
    {
      "cell_type": "markdown",
      "source": [
        "What we can conclude from this analysis? In a first moment, that the higher is the number of clusters, the lower is the silhouette score, meaning that the instances are very close from the other. From 2 to 5 clusters the value decreases considerably in each increment. After this, it becomes almost stable.<br>\n",
        "Watching the silhouette diagrams we can see that in all cases there is a cluster bigger and with higher silhouette score. The thinner *blades* have a silhouette value decreasing too fast, meaning a not good clusterization.<br>\n",
        "The segmentation with two and three clusters give the better results. Here, we'll keep the analysis with three clusters."
      ],
      "metadata": {
        "id": "N_1SvtlVkb_D"
      }
    },
    {
      "cell_type": "code",
      "source": [
        "kmeans = KMeans(n_clusters=3,random_state=42)\n",
        "y_pred = kmeans.fit_predict(customer_data_reduced_scaled)"
      ],
      "metadata": {
        "id": "0Uw5GnMwzMPg"
      },
      "execution_count": 162,
      "outputs": []
    },
    {
      "cell_type": "markdown",
      "source": [
        "## Clusters Visualization and Naming"
      ],
      "metadata": {
        "id": "BGMKADwXqmFj"
      }
    },
    {
      "cell_type": "markdown",
      "source": [
        ""
      ],
      "metadata": {
        "id": "d6ojOI-d__zi"
      }
    },
    {
      "cell_type": "code",
      "source": [
        "y_str = [str(y) for y in y_pred]\n",
        "y_str\n",
        "fig = px.scatter_3d(customer_data, x='Income', y='Spending', z='NumPurchases',\n",
        "              color=list(y_str))\n",
        "fig.show()"
      ],
      "metadata": {
        "colab": {
          "base_uri": "https://localhost:8080/",
          "height": 542
        },
        "id": "0iDLCukUvwy9",
        "outputId": "2be86d1b-2b2b-4a69-a9e2-1072c9b70a51"
      },
      "execution_count": 163,
      "outputs": [
        {
          "output_type": "display_data",
          "data": {
            "text/html": [
              "<html>\n",
              "<head><meta charset=\"utf-8\" /></head>\n",
              "<body>\n",
              "    <div>\n",
              "            <script src=\"https://cdnjs.cloudflare.com/ajax/libs/mathjax/2.7.5/MathJax.js?config=TeX-AMS-MML_SVG\"></script><script type=\"text/javascript\">if (window.MathJax) {MathJax.Hub.Config({SVG: {font: \"STIX-Web\"}});}</script>\n",
              "                <script type=\"text/javascript\">window.PlotlyConfig = {MathJaxConfig: 'local'};</script>\n",
              "        <script src=\"https://cdn.plot.ly/plotly-latest.min.js\"></script>    \n",
              "            <div id=\"cf27e154-1728-4ab5-a7e9-40e6049d793b\" class=\"plotly-graph-div\" style=\"height:525px; width:100%;\"></div>\n",
              "            <script type=\"text/javascript\">\n",
              "                \n",
              "                    window.PLOTLYENV=window.PLOTLYENV || {};\n",
              "                    \n",
              "                if (document.getElementById(\"cf27e154-1728-4ab5-a7e9-40e6049d793b\")) {\n",
              "                    Plotly.newPlot(\n",
              "                        'cf27e154-1728-4ab5-a7e9-40e6049d793b',\n",
              "                        [{\"hoverlabel\": {\"namelength\": 0}, \"hovertemplate\": \"color=1<br>Income=%{x}<br>Spending=%{y}<br>NumPurchases=%{z}\", \"legendgroup\": \"color=1\", \"marker\": {\"color\": \"#636efa\", \"symbol\": \"circle\"}, \"mode\": \"markers\", \"name\": \"color=1\", \"scene\": \"scene\", \"showlegend\": true, \"type\": \"scatter3d\", \"x\": [58138.0, 82800.0, 76995.0, 58607.0, 84618.0, 72550.0, 79143.0, 82582.0, 82384.0, 75777.0, 88194.0, 74854.0, 75251.0, 75825.0, 68126.0, 90765.0, 101970.0, 79607.0, 62981.0, 92859.0, 65104.0, 61010.0, 69372.0, 70356.0, 74165.0, 80427.0, 83837.0, 74068.0, 80067.0, 102160.0, 64497.0, 83790.0, 69508.0, 63887.0, 51537.0, 79930.0, 81975.0, 73455.0, 73687.0, 61074.0, 80134.0, 75027.0, 67546.0, 65176.0, 75702.0, 63342.0, 80124.0, 69267.0, 82497.0, 55951.0, 57912.0, 77457.0, 70893.0, 64325.0, 62187.0, 66334.0, 75693.0, 83003.0, 68655.0, 55212.0, 71952.0, 60000.0, 68462.0, 78618.0, 72025.0, 63810.0, 66426.0, 83664.0, 90300.0, 68682.0, 66465.0, 80134.0, 91065.0, 82584.0, 93027.0, 92910.0, 75433.0, 84865.0, 89572.0, 80124.0, 66582.0, 75261.0, 61456.0, 65104.0, 78952.0, 76005.0, 78642.0, 64355.0, 53653.0, 89120.0, 81169.0, 80184.0, 73454.0, 70503.0, 77863.0, 61839.0, 84169.0, 85620.0, 79908.0, 87771.0, 66565.0, 61996.0, 79800.0, 92163.0, 70971.0, 69084.0, 83917.0, 63120.0, 73691.0, 76140.0, 62859.0, 77632.0, 105471.0, 78710.0, 98777.0, 67445.0, 81300.0, 68743.0, 86857.0, 77845.0, 71022.0, 90247.0, 71952.0, 76618.0, 72190.0, 89694.0, 72025.0, 64108.0, 83844.0, 63564.0, 83443.0, 80952.0, 75507.0, 62220.0, 58512.0, 78285.0, 74985.0, 67430.0, 78939.0, 74250.0, 72258.0, 62847.0, 73926.0, 82716.0, 48192.0, 72504.0, 76412.0, 87771.0, 78353.0, 93404.0, 80995.0, 81702.0, 81205.0, 61618.0, 82347.0, 70123.0, 80812.0, 86857.0, 82072.0, 68092.0, 55260.0, 78331.0, 85072.0, 78420.0, 52278.0, 95529.0, 84169.0, 74637.0, 83033.0, 74116.0, 68397.0, 64950.0, 67536.0, 94384.0, 51563.0, 92955.0, 80573.0, 82576.0, 53103.0, 80763.0, 82170.0, 75759.0, 85683.0, 75437.0, 95169.0, 83844.0, 77568.0, 70924.0, 64504.0, 68316.0, 91700.0, 70924.0, 69098.0, 72228.0, 62845.0, 65196.0, 83528.0, 64176.0, 70713.0, 88347.0, 87171.0, 79456.0, 75345.0, 85844.0, 83829.0, 76045.0, 81698.0, 98777.0, 71819.0, 86358.0, 67381.0, 85606.0, 72903.0, 85696.0, 57513.0, 68142.0, 83145.0, 79410.0, 74214.0, 90638.0, 54959.0, 62000.0, 78579.0, 67369.0, 70091.0, 84618.0, 74918.0, 68682.0, 75032.0, 84906.0, 65106.0, 69969.0, 77766.0, 76653.0, 90687.0, 73450.0, 83829.0, 85485.0, 66303.0, 71847.0, 78687.0, 83151.0, 78569.0, 94384.0, 81051.0, 65169.0, 59868.0, 64857.0, 81843.0, 72828.0, 71434.0, 90842.0, 62845.0, 85696.0, 76542.0, 69109.0, 80695.0, 92344.0, 75507.0, 80134.0, 80589.0, 63810.0, 92533.0, 78427.0, 82657.0, 73892.0, 93790.0, 83844.0, 67419.0, 64857.0, 57072.0, 79419.0, 76998.0, 87679.0, 53374.0, 71706.0, 68487.0, 49667.0, 73538.0, 79529.0, 87188.0, 74004.0, 57036.0, 71969.0, 67445.0, 63972.0, 75283.0, 82800.0, 90638.0, 81574.0, 75794.0, 76445.0, 90226.0, 70638.0, 68655.0, 64509.0, 52973.0, 64140.0, 82014.0, 72066.0, 69084.0, 77766.0, 86610.0, 80141.0, 69016.0, 70440.0, 78789.0, 61787.0, 73705.0, 58656.0, 83512.0, 77520.0, 92491.0, 90273.0, 82571.0, 71107.0, 82427.0, 70044.0, 80360.0, 63342.0, 72117.0, 64590.0, 60839.0, 82122.0, 75702.0, 63159.0, 46757.0, 80739.0, 57333.0, 83257.0, 64260.0, 82733.0, 74290.0, 70116.0, 69109.0, 82326.0, 70300.0, 70643.0, 86979.0, 67546.0, 88420.0, 90933.0, 67384.0, 80573.0, 77870.0, 52278.0, 91249.0, 77598.0, 55212.0, 64849.0, 73356.0, 72335.0, 96843.0, 71670.0, 74485.0, 77226.0, 72643.0, 85738.0, 94642.0, 72968.0, 91712.0, 94472.0, 63684.0, 71964.0, 96876.0, 68281.0, 77027.0, 71322.0, 61416.0, 65308.0, 76467.0, 71128.0, 59462.0, 67445.0, 77610.0, 69520.0, 68487.0, 79823.0, 81929.0, 76068.0, 78128.0, 82332.0, 66476.0, 69805.0, 72217.0, 84906.0, 82333.0, 65220.0, 72309.0, 78499.0, 69209.0, 60896.0, 74859.0, 90000.0, 65706.0, 79174.0, 81380.0, 84117.0, 89616.0, 82347.0, 73803.0, 88325.0, 80617.0, 75777.0, 44802.0, 61223.0, 56981.0], \"y\": [1617, 1315, 1782, 972, 1672, 1319, 1693, 1617, 1957, 1438, 1274, 1562, 1890, 2209, 1820, 1724, 1135, 1923, 1482, 2077, 1053, 1021, 1381, 1706, 1293, 1835, 1318, 1581, 1600, 1240, 1804, 1615, 1135, 1245, 1103, 1753, 1588, 2088, 1627, 1102, 1690, 1390, 2126, 1531, 1148, 1101, 1495, 1635, 1919, 1374, 916, 1157, 1508, 1307, 1283, 1161, 1442, 1674, 1538, 1182, 1443, 1277, 1670, 2153, 1932, 1371, 1377, 1173, 1738, 1598, 1485, 1378, 1474, 1435, 2119, 1795, 1188, 1688, 2059, 1495, 1288, 1743, 1388, 1053, 2092, 1722, 1816, 1445, 1210, 1924, 2089, 1902, 1651, 1727, 1291, 1895, 1919, 1600, 1772, 1957, 1065, 1230, 1867, 2086, 1825, 1586, 1587, 1477, 1179, 1348, 1307, 2252, 1724, 1092, 2008, 1174, 1241, 2074, 2114, 1346, 1453, 1621, 1443, 1511, 1947, 1472, 1677, 1099, 1574, 1215, 1497, 1757, 1440, 1226, 1171, 1427, 1869, 1364, 1507, 1158, 1525, 1612, 1580, 1167, 1526, 1478, 1808, 1957, 1576, 1616, 1482, 1633, 2009, 1345, 1853, 1727, 1677, 2114, 2018, 1281, 1139, 1638, 1423, 1453, 1198, 1990, 1919, 1650, 1761, 2052, 1416, 966, 1829, 2302, 1250, 1778, 1564, 1910, 1085, 1415, 1908, 2486, 1789, 1493, 1901, 1574, 2194, 1363, 1314, 1211, 1968, 1363, 2440, 1250, 1178, 1155, 1650, 1826, 1477, 2116, 1298, 1401, 2087, 1958, 1862, 1323, 1104, 2008, 1574, 1722, 957, 1956, 2013, 1313, 1060, 1459, 1833, 1370, 1711, 2525, 1232, 1020, 1812, 1461, 1161, 1672, 2047, 1598, 1215, 1631, 973, 1536, 1529, 2279, 1779, 1804, 1862, 1383, 1286, 1192, 2130, 2346, 1736, 2302, 1501, 1189, 1194, 1540, 1643, 1678, 1400, 1424, 1178, 1313, 1483, 1555, 1918, 1899, 1440, 1690, 1428, 1371, 1131, 1930, 2283, 1507, 2349, 1574, 1471, 1540, 1034, 1631, 1910, 2524, 1064, 1443, 1366, 1396, 1658, 1638, 1923, 1658, 1513, 1086, 1174, 1269, 1019, 1315, 2525, 1798, 1682, 1410, 2352, 1334, 1538, 1722, 1152, 1750, 1511, 1792, 1586, 1529, 1603, 2091, 1533, 1572, 1754, 1319, 1695, 1220, 2157, 1526, 2034, 1991, 1686, 1327, 1456, 1504, 2231, 1101, 1073, 1338, 1250, 1382, 1921, 1797, 1143, 1633, 1662, 1365, 1574, 1323, 1217, 1536, 1555, 2257, 1596, 1828, 1702, 2126, 2069, 1685, 1490, 1564, 1815, 1198, 1676, 1735, 1182, 1336, 1512, 2092, 1544, 1766, 1734, 1138, 1429, 1371, 2211, 1958, 2217, 1691, 1464, 1870, 1941, 1655, 1175, 1305, 1665, 1211, 1575, 1615, 1088, 1174, 1680, 1455, 1366, 1518, 2053, 1376, 1264, 2006, 1013, 1038, 1573, 1631, 1822, 1282, 1931, 1334, 1782, 1701, 1565, 1479, 1199, 2043, 1893, 1566, 1644, 1853, 1528, 1623, 1435, 1438, 1049, 1341, 1241], \"z\": [25, 26, 26, 17, 26, 28, 29, 21, 27, 21, 32, 19, 19, 22, 17, 15, 27, 16, 23, 22, 17, 26, 21, 27, 20, 28, 25, 24, 17, 26, 29, 25, 28, 32, 18, 17, 14, 22, 22, 31, 16, 21, 20, 25, 26, 19, 19, 14, 19, 23, 28, 18, 23, 23, 18, 19, 22, 22, 21, 20, 22, 24, 15, 22, 16, 23, 20, 19, 19, 24, 35, 21, 26, 16, 22, 27, 19, 16, 24, 19, 20, 17, 33, 17, 21, 22, 18, 21, 28, 19, 22, 20, 13, 16, 20, 17, 20, 14, 19, 20, 19, 21, 22, 21, 34, 25, 21, 26, 18, 21, 23, 13, 30, 28, 19, 32, 21, 30, 22, 21, 21, 15, 22, 11, 16, 14, 26, 30, 20, 28, 22, 25, 21, 23, 20, 21, 17, 29, 20, 18, 22, 14, 24, 28, 25, 22, 18, 20, 24, 17, 22, 27, 19, 19, 25, 17, 18, 22, 19, 20, 25, 25, 18, 22, 31, 18, 20, 25, 26, 19, 21, 25, 30, 18, 19, 23, 24, 19, 28, 23, 19, 26, 17, 23, 12, 20, 21, 20, 25, 32, 20, 20, 25, 22, 28, 26, 23, 33, 25, 21, 25, 16, 20, 20, 17, 21, 16, 19, 14, 18, 17, 24, 21, 20, 27, 24, 26, 11, 16, 18, 21, 26, 16, 25, 19, 26, 21, 24, 20, 24, 27, 13, 34, 23, 17, 27, 17, 19, 22, 22, 19, 23, 15, 18, 23, 28, 32, 23, 27, 28, 21, 27, 28, 20, 23, 20, 19, 20, 21, 16, 21, 23, 23, 23, 23, 23, 25, 20, 25, 23, 27, 15, 29, 29, 21, 25, 30, 22, 26, 22, 19, 15, 26, 19, 32, 23, 25, 26, 18, 18, 25, 21, 24, 20, 21, 19, 31, 18, 22, 17, 25, 34, 18, 22, 34, 23, 16, 19, 25, 32, 22, 23, 25, 19, 24, 28, 21, 26, 15, 19, 26, 24, 29, 26, 29, 17, 21, 24, 33, 28, 14, 20, 32, 23, 20, 22, 26, 18, 16, 20, 20, 15, 22, 24, 18, 31, 22, 26, 20, 19, 22, 23, 28, 15, 26, 28, 21, 21, 21, 19, 27, 16, 23, 17, 24, 25, 19, 28, 24, 28, 14, 27, 25, 32, 17, 21, 30, 23, 20, 10, 20, 21, 26, 27, 22, 24, 18, 23, 20, 19, 16, 26, 23, 18, 27, 19, 17, 24, 25, 25, 22, 18, 19, 21, 27, 18, 19]}, {\"hoverlabel\": {\"namelength\": 0}, \"hovertemplate\": \"color=0<br>Income=%{x}<br>Spending=%{y}<br>NumPurchases=%{z}\", \"legendgroup\": \"color=0\", \"marker\": {\"color\": \"#EF553B\", \"symbol\": \"circle\"}, \"mode\": \"markers\", \"name\": \"color=0\", \"scene\": \"scene\", \"showlegend\": true, \"type\": \"scatter3d\", \"x\": [46344.0, 26646.0, 33454.0, 30351.0, 7500.0, 17323.0, 41850.0, 37760.0, 33812.0, 37040.0, 18589.0, 53359.0, 38360.0, 10979.0, 38620.0, 40548.0, 46610.0, 49389.0, 23718.0, 42429.0, 20559.0, 21994.0, 7500.0, 7500.0, 41728.0, 35790.0, 27938.0, 25721.0, 32474.0, 28332.0, 40246.0, 26326.0, 29760.0, 26304.0, 23559.0, 38620.0, 29440.0, 36138.0, 54178.0, 42394.0, 23626.0, 30096.0, 51813.0, 50150.0, 47823.0, 34554.0, 24594.0, 49096.0, 38557.0, 50785.0, 30753.0, 21918.0, 32557.0, 19510.0, 30992.0, 54348.0, 41551.0, 9548.0, 33762.0, 35860.0, 36921.0, 41883.0, 23957.0, 38547.0, 35688.0, 49605.0, 34176.0, 49967.0, 60199.0, 55375.0, 30523.0, 23228.0, 43482.0, 52332.0, 26091.0, 33456.0, 28718.0, 50447.0, 53537.0, 52074.0, 38853.0, 38285.0, 51650.0, 16248.0, 30477.0, 28249.0, 25271.0, 32303.0, 45759.0, 24882.0, 38872.0, 31353.0, 46854.0, 40637.0, 18890.0, 29604.0, 48721.0, 44794.0, 46097.0, 52195.0, 44551.0, 45204.0, 30732.0, 42011.0, 34320.0, 38590.0, 15033.0, 22212.0, 23661.0, 7500.0, 22804.0, 31686.0, 31160.0, 29938.0, 26490.0, 30899.0, 45989.0, 18701.0, 40737.0, 15287.0, 44159.0, 37717.0, 43776.0, 38179.0, 38097.0, 22070.0, 31788.0, 61905.0, 29315.0, 33378.0, 24480.0, 37760.0, 44319.0, 30631.0, 35416.0, 32414.0, 38361.0, 16626.0, 29672.0, 35388.0, 42386.0, 35246.0, 46377.0, 39747.0, 23976.0, 27038.0, 42670.0, 12571.0, 22574.0, 54198.0, 28839.0, 40321.0, 66503.0, 30833.0, 34421.0, 47025.0, 14849.0, 27255.0, 54432.0, 29999.0, 24072.0, 33996.0, 35178.0, 22010.0, 30675.0, 41411.0, 27190.0, 44300.0, 30372.0, 33181.0, 38643.0, 50737.0, 28442.0, 37717.0, 31615.0, 35684.0, 48178.0, 29548.0, 38578.0, 46098.0, 22585.0, 30279.0, 30822.0, 33581.0, 19986.0, 27421.0, 35688.0, 36143.0, 10245.0, 38823.0, 62499.0, 51012.0, 43824.0, 15345.0, 23442.0, 14515.0, 31395.0, 42373.0, 30507.0, 48006.0, 27213.0, 65808.0, 30351.0, 23616.0, 46923.0, 19789.0, 37401.0, 30096.0, 18492.0, 48686.0, 10404.0, 30015.0, 50943.0, 32011.0, 7500.0, 28691.0, 56223.0, 18100.0, 30279.0, 20130.0, 23295.0, 42618.0, 24027.0, 36230.0, 42207.0, 50300.0, 50520.0, 33183.0, 31880.0, 37406.0, 38415.0, 20518.0, 41644.0, 38961.0, 37760.0, 32233.0, 43057.0, 14045.0, 28457.0, 46310.0, 55563.0, 27203.0, 48330.0, 24279.0, 50943.0, 34935.0, 39665.0, 36443.0, 26095.0, 30630.0, 42691.0, 25545.0, 32880.0, 50353.0, 65316.0, 28567.0, 47352.0, 44931.0, 57247.0, 22944.0, 25315.0, 43638.0, 42710.0, 24683.0, 47850.0, 19514.0, 27159.0, 39548.0, 21474.0, 22419.0, 43462.0, 15315.0, 33039.0, 48799.0, 52157.0, 29298.0, 47691.0, 38200.0, 44989.0, 38443.0, 38593.0, 64413.0, 36959.0, 51287.0, 13260.0, 47472.0, 54603.0, 45207.0, 47821.0, 27450.0, 39453.0, 26850.0, 24221.0, 39684.0, 33178.0, 59973.0, 17459.0, 23910.0, 42169.0, 26224.0, 31089.0, 30081.0, 49618.0, 21888.0, 42429.0, 26150.0, 30801.0, 26877.0, 45006.0, 18978.0, 22574.0, 35791.0, 162397.0, 54162.0, 30522.0, 31632.0, 36975.0, 13624.0, 34487.0, 28769.0, 32218.0, 46102.0, 56181.0, 46463.0, 55282.0, 29103.0, 50616.0, 49431.0, 153924.0, 61278.0, 26490.0, 46734.0, 19986.0, 25965.0, 14661.0, 18690.0, 45068.0, 21063.0, 29187.0, 54690.0, 26751.0, 36145.0, 41039.0, 38946.0, 42315.0, 13084.0, 47570.0, 61923.0, 34824.0, 26518.0, 41335.0, 35682.0, 35178.0, 25252.0, 33249.0, 50272.0, 25851.0, 45160.0, 18988.0, 7500.0, 44794.0, 35946.0, 45072.0, 70545.0, 17487.0, 34941.0, 48767.0, 38702.0, 17003.0, 33697.0, 40662.0, 38829.0, 35523.0, 31626.0, 48726.0, 46891.0, 33622.0, 41452.0, 40760.0, 51124.0, 36283.0, 20587.0, 30467.0, 31590.0, 20425.0, 17144.0, 16813.0, 51267.0, 46524.0, 45183.0, 19329.0, 46984.0, 34838.0, 56850.0, 26872.0, 21359.0, 30772.0, 22507.0, 25804.0, 22063.0, 22419.0, 37859.0, 16529.0, 55412.0, 25130.0, 35441.0, 49494.0, 45889.0, 34026.0, 40049.0, 34176.0, 19419.0, 49980.0, 15072.0, 49166.0, 30843.0, 38576.0, 37758.0, 23228.0, 44602.0, 7500.0, 38683.0, 49514.0, 19485.0, 30545.0, 21675.0, 42395.0, 39922.0, 17117.0, 24762.0, 35797.0, 36627.0, 51111.0, 46231.0, 42243.0, 31814.0, 26868.0, 37087.0, 21846.0, 54137.0, 57100.0, 58917.0, 45684.0, 47889.0, 45921.0, 35641.0, 42607.0, 46015.0, 39858.0, 34469.0, 24401.0, 46107.0, 25443.0, 32892.0, 14906.0, 68274.0, 39771.0, 27922.0, 52190.0, 44051.0, 42767.0, 46106.0, 16927.0, 59041.0, 41021.0, 40233.0, 50183.0, 33471.0, 34596.0, 40706.0, 15716.0, 35704.0, 46779.0, 4861.0, 33462.0, 35340.0, 24884.0, 64587.0, 34824.0, 26091.0, 46086.0, 22434.0, 36930.0, 19514.0, 36736.0, 49187.0, 30168.0, 34053.0, 38196.0, 59412.0, 54165.0, 32300.0, 20180.0, 34961.0, 28440.0, 33564.0, 17345.0, 28647.0, 15038.0, 32173.0, 31056.0, 28071.0, 37334.0, 46423.0, 37126.0, 38998.0, 34728.0, 33168.0, 33585.0, 35196.0, 28764.0, 25959.0, 27100.0, 42557.0, 53312.0, 35860.0, 16860.0, 22304.0, 32892.0, 39722.0, 26907.0, 50014.0, 41014.0, 40479.0, 24163.0, 43776.0, 39190.0, 38578.0, 57236.0, 27590.0, 54210.0, 53187.0, 30023.0, 50870.0, 15315.0, 54466.0, 16269.0, 33569.0, 36262.0, 22634.0, 31605.0, 52034.0, 48526.0, 46734.0, 46931.0, 16581.0, 25930.0, 42693.0, 49669.0, 36778.0, 10979.0, 49678.0, 37155.0, 21282.0, 33419.0, 21255.0, 42162.0, 26576.0, 7500.0, 54197.0, 23091.0, 44375.0, 40344.0, 48985.0, 35322.0, 14421.0, 20130.0, 23724.0, 47353.0, 33444.0, 28510.0, 43140.0, 15056.0, 26954.0, 22327.0, 44393.0, 31497.0, 45894.0, 58401.0, 62307.0, 43641.0, 46891.0, 54809.0, 51412.0, 15287.0, 18351.0, 40451.0, 36317.0, 42213.0, 56721.0, 42160.0, 33629.0, 34377.0, 8940.0, 26228.0, 40211.0, 33438.0, 22518.0, 38452.0, 44421.0, 38197.0, 41986.0, 28427.0, 37395.0, 55249.0, 28691.0, 44213.0, 25707.0, 59062.0, 27683.0, 7500.0, 40521.0, 20427.0, 39356.0, 35860.0, 31454.0, 47139.0, 19656.0, 45579.0, 38808.0, 23748.0, 37368.0, 40800.0, 37633.0, 39767.0, 26997.0, 33986.0, 46831.0, 15759.0, 22804.0, 43050.0, 42997.0, 48918.0, 60033.0, 34043.0, 7500.0, 157733.0, 23148.0, 44267.0, 45143.0, 59060.0, 27238.0, 46094.0, 40321.0, 37235.0, 46692.0, 37774.0, 18393.0, 24711.0, 45503.0, 27244.0, 48752.0, 51948.0, 35876.0, 40049.0, 39660.0, 50127.0, 18929.0, 24367.0, 33249.0, 26887.0, 50150.0, 18227.0, 69139.0, 38136.0, 33316.0, 17256.0, 37971.0, 41335.0, 67267.0, 57338.0, 50523.0, 35791.0, 21355.0, 46390.0, 54342.0, 20895.0, 26907.0, 44964.0, 22682.0, 38887.0, 41658.0, 29791.0, 39996.0, 26759.0, 51039.0, 60544.0, 37716.0, 36864.0, 36947.0, 47352.0, 36957.0, 43142.0, 34412.0, 22634.0, 51315.0, 36026.0, 24639.0, 34578.0, 54132.0, 18690.0, 28164.0, 34596.0, 43269.0, 38741.0, 31907.0, 27100.0, 31163.0, 34853.0, 31086.0, 60544.0, 20491.0, 42523.0, 39922.0, 33402.0, 36408.0, 21645.0, 51876.0, 46053.0, 40304.0, 43300.0, 26290.0, 46015.0, 16531.0, 28072.0, 41145.0, 23162.0, 34380.0, 34704.0, 39898.0, 59892.0, 41020.0, 19414.0, 19107.0, 42873.0, 35765.0, 32952.0, 31163.0, 46098.0, 20981.0, 51766.0, 33039.0, 37787.0, 27242.0, 37697.0, 37401.0, 3502.0, 28087.0, 19740.0, 46098.0, 23331.0, 23331.0, 9255.0, 31928.0, 51411.0, 42386.0, 30390.0, 30983.0, 37284.0, 57530.0, 37054.0, 47175.0, 31859.0, 27215.0, 39922.0, 24645.0, 44322.0, 38998.0, 27161.0, 38201.0, 45203.0, 34935.0, 34633.0, 45903.0, 35860.0, 40442.0, 61482.0, 34968.0, 31497.0, 13724.0, 45143.0, 52569.0, 17144.0, 36108.0, 36663.0, 44512.0, 27116.0, 54072.0, 12393.0, 33955.0, 31353.0, 28359.0, 57100.0, 69139.0, 51717.0, 18793.0, 54414.0, 54549.0, 19444.0, 36301.0, 42731.0, 52854.0, 22775.0, 44078.0, 30560.0, 35924.0, 24594.0, 39228.0, 56551.0, 22448.0, 34213.0, 25358.0, 35544.0, 36634.0, 34916.0, 43602.0, 33996.0, 41473.0, 36732.0, 37929.0, 20193.0, 27573.0, 15862.0, 33228.0, 38232.0, 22554.0, 23536.0, 49413.0, 42231.0, 18169.0, 24336.0, 18222.0, 42033.0, 41437.0, 38452.0, 18358.0, 9722.0, 38175.0, 52117.0, 54222.0, 41154.0, 18746.0, 35196.0, 22108.0, 44392.0, 17688.0, 38513.0, 16653.0, 42586.0, 23529.0, 46910.0, 18690.0, 37244.0, 42403.0, 55761.0, 45576.0, 28389.0, 44989.0, 31859.0, 30372.0, 16014.0, 41120.0, 39763.0, 38725.0, 13533.0, 21955.0, 36802.0, 28249.0, 47808.0, 25509.0, 51012.0, 42664.0, 42586.0, 29760.0, 28973.0, 39435.0, 20194.0, 42473.0, 34600.0, 46904.0, 36075.0, 34026.0, 48918.0, 37697.0, 34074.0, 28520.0, 62535.0, 36273.0, 59385.0, 44689.0, 18701.0, 37758.0, 21840.0, 32583.0, 44635.0, 33316.0, 25293.0, 22669.0, 29236.0, 44911.0, 48186.0, 54809.0, 41580.0, 47743.0, 32313.0, 27071.0, 30093.0, 25008.0, 22280.0, 58217.0, 21024.0, 11448.0, 32889.0, 34738.0, 30538.0, 26642.0, 44503.0, 49638.0, 23830.0, 30396.0, 50616.0, 30298.0, 44155.0, 42081.0, 31158.0, 49160.0, 24882.0, 45759.0, 22148.0, 29819.0, 45688.0, 33235.0, 35701.0, 31535.0, 18929.0, 36038.0, 20180.0, 34230.0, 31878.0, 22701.0, 61917.0, 21059.0, 29543.0, 34984.0, 34242.0, 25410.0, 28320.0, 23763.0, 34529.0, 36065.0, 39898.0, 51141.0, 29478.0, 56551.0, 44359.0, 40887.0, 48877.0, 39062.0, 34600.0, 54690.0, 32632.0, 38236.0, 36781.0, 31385.0, 24570.0, 25509.0, 58646.0, 21994.0, 57113.0, 51373.0, 23477.0, 39791.0, 13672.0, 67506.0, 24206.0, 28420.0, 22979.0, 33279.0, 46423.0, 30368.0, 68805.0, 39146.0, 37284.0, 36790.0, 27943.0, 22263.0, 30261.0, 28587.0, 43815.0, 48195.0, 32765.0, 29672.0, 23272.0, 7500.0, 17649.0, 40059.0, 38680.0, 29009.0, 45057.0, 43020.0, 53154.0, 32871.0, 36927.0, 48794.0, 23478.0, 38361.0, 42554.0, 42192.0, 31761.0, 34350.0, 25293.0, 27889.0, 22123.0, 27803.0, 30828.0, 34109.0, 22390.0, 71322.0, 48699.0, 54252.0, 53204.0, 14796.0, 14188.0, 20425.0, 58646.0, 48150.0, 34587.0, 43018.0, 27733.0, 25818.0, 37509.0, 25176.0, 43586.0, 50116.0, 33590.0, 30992.0, 156924.0, 16005.0, 40590.0, 20587.0, 62637.0, 29435.0, 19346.0, 35788.0, 36997.0, 23539.0, 29732.0, 41275.0, 63516.0, 42769.0, 49572.0, 17148.0, 40590.0, 30560.0, 32146.0, 41713.0, 34176.0, 59686.0, 62994.0, 15253.0, 31560.0, 41967.0, 38946.0, 26067.0, 42523.0, 26487.0, 53233.0, 25224.0, 40851.0, 27469.0, 8820.0, 43322.0, 37085.0, 16185.0, 18929.0, 35893.0, 32144.0, 14918.0, 45146.0, 38054.0, 5305.0, 36807.0, 28427.0, 22775.0, 40101.0, 7500.0, 33562.0, 24434.0, 11012.0, 26816.0, 34421.0, 52869.0], \"y\": [27, 53, 169, 46, 61, 46, 96, 317, 133, 316, 75, 257, 131, 30, 318, 120, 302, 65, 81, 67, 53, 22, 31, 122, 55, 72, 29, 34, 11, 65, 13, 18, 165, 16, 79, 318, 56, 151, 194, 32, 43, 45, 63, 410, 72, 55, 29, 187, 145, 114, 81, 33, 80, 30, 43, 90, 279, 29, 106, 49, 38, 312, 68, 22, 211, 127, 89, 306, 18, 162, 13, 121, 88, 259, 89, 36, 57, 148, 93, 119, 45, 10, 191, 57, 66, 43, 50, 39, 68, 80, 91, 31, 263, 38, 35, 53, 293, 65, 241, 17, 285, 114, 185, 189, 17, 22, 19, 69, 23, 57, 26, 17, 64, 26, 210, 33, 322, 44, 17, 31, 275, 25, 275, 90, 184, 67, 60, 231, 48, 99, 102, 317, 37, 70, 390, 52, 137, 68, 25, 32, 100, 62, 90, 273, 66, 107, 241, 53, 37, 235, 32, 102, 401, 28, 30, 20, 65, 37, 38, 160, 23, 71, 59, 33, 62, 139, 18, 42, 44, 16, 49, 99, 57, 25, 51, 30, 254, 29, 73, 120, 81, 37, 51, 17, 22, 324, 211, 19, 41, 114, 222, 209, 186, 47, 27, 96, 64, 163, 343, 41, 70, 272, 46, 79, 369, 78, 48, 45, 10, 20, 43, 57, 46, 122, 36, 34, 156, 14, 37, 34, 20, 192, 48, 59, 265, 270, 135, 120, 15, 17, 44, 25, 31, 70, 54, 296, 266, 20, 205, 309, 43, 64, 32, 263, 46, 137, 216, 138, 42, 52, 358, 210, 42, 442, 260, 46, 319, 96, 232, 76, 54, 201, 406, 41, 134, 69, 21, 54, 91, 162, 240, 64, 78, 331, 265, 11, 21, 17, 369, 38, 177, 279, 62, 182, 49, 75, 227, 215, 47, 143, 55, 63, 55, 81, 49, 382, 69, 67, 30, 63, 79, 42, 129, 213, 67, 28, 45, 268, 266, 37, 37, 35, 107, 42, 326, 95, 33, 36, 103, 191, 93, 16, 393, 235, 235, 48, 67, 365, 6, 165, 210, 223, 22, 74, 26, 60, 20, 59, 34, 198, 11, 172, 467, 257, 270, 29, 121, 126, 23, 57, 187, 57, 59, 18, 112, 233, 48, 21, 16, 71, 65, 11, 284, 334, 18, 97, 63, 109, 38, 28, 92, 99, 66, 86, 242, 183, 81, 16, 93, 43, 29, 25, 24, 38, 57, 47, 50, 270, 177, 315, 60, 41, 170, 63, 72, 48, 20, 570, 55, 55, 162, 36, 22, 63, 50, 39, 385, 46, 76, 290, 89, 70, 195, 53, 368, 35, 41, 40, 40, 292, 15, 341, 369, 10, 69, 45, 182, 156, 128, 86, 68, 16, 55, 263, 55, 83, 14, 401, 84, 203, 409, 282, 28, 67, 199, 178, 350, 46, 95, 62, 467, 125, 32, 46, 66, 305, 50, 41, 77, 171, 131, 54, 53, 96, 64, 149, 231, 93, 23, 81, 92, 94, 23, 6, 54, 45, 19, 108, 23, 89, 343, 58, 297, 69, 17, 116, 279, 103, 44, 406, 236, 39, 137, 79, 63, 71, 58, 94, 80, 22, 55, 313, 62, 92, 72, 54, 36, 122, 122, 497, 12, 56, 37, 270, 278, 49, 38, 18, 46, 47, 22, 396, 20, 15, 17, 23, 133, 73, 121, 12, 367, 267, 61, 63, 64, 16, 44, 63, 426, 96, 125, 332, 135, 330, 78, 24, 15, 57, 326, 77, 30, 315, 74, 46, 86, 61, 145, 27, 18, 237, 48, 301, 218, 75, 106, 16, 34, 75, 225, 18, 91, 235, 88, 17, 24, 60, 155, 51, 96, 160, 139, 183, 174, 195, 31, 43, 49, 133, 363, 296, 140, 152, 114, 101, 25, 87, 90, 61, 72, 189, 40, 63, 52, 39, 130, 34, 152, 21, 71, 351, 119, 21, 10, 23, 49, 48, 83, 84, 183, 246, 76, 30, 99, 38, 485, 434, 44, 78, 17, 26, 76, 15, 62, 198, 49, 57, 59, 37, 310, 311, 274, 57, 44, 102, 61, 397, 473, 50, 58, 170, 101, 316, 311, 129, 32, 299, 320, 85, 24, 112, 30, 410, 28, 227, 103, 131, 62, 30, 187, 251, 237, 91, 35, 68, 222, 177, 45, 22, 41, 95, 42, 72, 20, 15, 59, 417, 289, 188, 354, 146, 319, 152, 20, 209, 96, 222, 61, 44, 8, 42, 60, 78, 23, 19, 61, 449, 37, 38, 34, 48, 289, 30, 125, 156, 70, 22, 65, 310, 209, 57, 180, 77, 46, 44, 47, 13, 65, 175, 40, 134, 87, 217, 32, 46, 269, 75, 55, 38, 120, 73, 275, 78, 106, 106, 84, 48, 5, 112, 55, 120, 103, 269, 22, 72, 18, 100, 80, 167, 23, 92, 25, 240, 20, 102, 156, 17, 92, 54, 52, 268, 147, 137, 15, 66, 49, 169, 299, 221, 155, 58, 311, 95, 47, 339, 35, 32, 41, 39, 57, 270, 31, 16, 311, 227, 122, 77, 211, 233, 54, 78, 244, 116, 15, 41, 31, 34, 29, 20, 138, 55, 117, 32, 67, 335, 231, 68, 71, 76, 47, 265, 82, 244, 36, 71, 122, 41, 10, 304, 37, 21, 31, 67, 25, 32, 72, 57, 103, 153, 279, 264, 69, 64, 497, 31, 211, 11, 324, 69, 252, 54, 68, 60, 55, 42, 184, 145, 28, 369, 48, 44, 38, 81, 167, 45, 48, 55, 20, 43, 224, 101, 209, 24, 252, 165, 269, 102, 47, 144, 318, 253, 119, 76, 62, 84, 255, 43, 398, 76, 185, 34, 44, 40, 27, 9, 68, 131, 37, 173, 99, 215, 219, 174, 92, 275, 159, 35, 69, 34, 13, 103, 84, 14, 55, 20, 367, 42, 48, 39, 43, 34, 149, 28, 46, 382, 72, 236, 80, 68, 49, 39, 306, 70, 46, 51, 85, 47, 137, 21, 70, 24, 91, 44, 63, 38, 15, 38, 43, 42, 162, 74, 134, 157, 20, 138, 45, 161, 144, 44, 318, 198, 576, 88, 63, 27, 193, 101, 140, 22, 263, 393, 147, 174, 25, 331, 25, 13, 115, 16, 92, 52, 283, 165, 23, 66, 37, 21, 22, 78, 79, 265, 46, 25, 46, 100, 45, 414, 79, 44, 50, 223, 158, 43, 71, 54, 129, 137, 41, 100, 98, 48, 37, 26, 102, 176, 56, 22, 26, 350, 40, 264, 45, 51, 75, 57, 140, 266, 22, 133, 57, 28, 123, 13, 132, 66, 8, 43, 8, 103, 258, 25, 185, 180, 22, 44, 94, 81, 38, 61, 300, 88, 54, 68, 258, 31, 66, 174, 28, 274, 312, 29, 94, 54, 257, 56, 125, 69, 40, 46, 59, 17, 35, 141, 61, 106, 85, 199, 54, 43, 53, 45, 32, 16, 52, 15, 415, 53, 51, 50, 84, 22, 30, 172], \"z\": [6, 8, 10, 6, 6, 5, 9, 13, 8, 12, 8, 14, 9, 8, 11, 9, 17, 6, 9, 7, 7, 4, 8, 10, 5, 7, 6, 5, 4, 8, 4, 4, 12, 4, 9, 11, 7, 13, 10, 5, 10, 6, 7, 16, 7, 7, 5, 13, 9, 8, 7, 7, 9, 6, 5, 8, 16, 6, 9, 6, 7, 12, 6, 4, 16, 8, 11, 15, 4, 9, 4, 11, 9, 12, 9, 6, 7, 8, 8, 7, 7, 4, 10, 9, 6, 6, 5, 7, 7, 5, 8, 6, 15, 6, 4, 5, 17, 6, 15, 4, 12, 7, 13, 12, 4, 4, 5, 8, 5, 11, 5, 6, 7, 6, 11, 6, 16, 10, 4, 6, 15, 4, 17, 11, 11, 8, 10, 12, 10, 9, 10, 13, 7, 7, 16, 5, 10, 9, 4, 5, 7, 11, 7, 13, 10, 7, 11, 11, 7, 16, 7, 8, 15, 6, 4, 4, 9, 5, 5, 12, 4, 6, 5, 7, 5, 8, 4, 6, 8, 4, 7, 7, 10, 4, 7, 5, 16, 5, 9, 11, 5, 5, 5, 4, 4, 14, 16, 4, 8, 7, 12, 10, 12, 6, 5, 11, 10, 13, 11, 5, 9, 14, 6, 8, 16, 9, 7, 6, 4, 4, 7, 7, 5, 10, 7, 5, 10, 4, 5, 5, 4, 11, 7, 7, 14, 13, 9, 9, 4, 4, 6, 5, 6, 6, 6, 12, 15, 5, 10, 14, 6, 6, 5, 9, 5, 8, 12, 11, 5, 7, 13, 10, 5, 15, 12, 7, 16, 7, 12, 9, 9, 11, 14, 8, 8, 10, 6, 7, 8, 8, 16, 8, 7, 15, 12, 4, 4, 4, 16, 6, 11, 12, 7, 11, 10, 8, 16, 15, 5, 7, 7, 11, 6, 7, 5, 15, 9, 6, 6, 9, 10, 5, 11, 12, 7, 5, 6, 12, 12, 5, 7, 6, 1, 5, 17, 6, 5, 7, 9, 12, 7, 4, 14, 17, 11, 6, 7, 15, 0, 10, 11, 12, 4, 6, 5, 5, 4, 7, 5, 12, 4, 12, 15, 12, 12, 5, 9, 8, 4, 8, 12, 6, 5, 4, 8, 13, 7, 4, 6, 12, 6, 4, 16, 13, 4, 8, 9, 9, 9, 4, 8, 8, 8, 6, 12, 8, 9, 4, 8, 6, 6, 5, 4, 5, 7, 12, 6, 15, 9, 13, 10, 5, 10, 6, 5, 7, 4, 19, 7, 7, 8, 6, 5, 6, 7, 6, 14, 5, 9, 14, 11, 11, 11, 11, 13, 6, 5, 6, 7, 17, 4, 17, 13, 4, 7, 10, 12, 9, 11, 9, 7, 4, 7, 15, 7, 7, 4, 17, 11, 11, 13, 16, 4, 6, 10, 10, 14, 5, 7, 9, 16, 7, 5, 8, 9, 13, 6, 6, 9, 12, 7, 5, 12, 8, 7, 13, 17, 10, 4, 11, 10, 9, 4, 0, 6, 7, 4, 8, 4, 9, 16, 7, 16, 10, 4, 8, 18, 7, 9, 15, 11, 5, 8, 10, 6, 6, 7, 7, 7, 5, 5, 13, 11, 9, 6, 8, 5, 10, 7, 18, 4, 7, 5, 15, 12, 6, 8, 4, 8, 7, 6, 15, 4, 4, 6, 4, 9, 9, 10, 4, 14, 13, 6, 6, 8, 4, 9, 5, 12, 6, 9, 16, 8, 14, 7, 4, 4, 5, 14, 9, 8, 14, 7, 7, 8, 11, 9, 4, 4, 12, 10, 12, 12, 6, 9, 4, 5, 7, 13, 4, 9, 11, 12, 4, 5, 7, 10, 5, 6, 9, 10, 8, 12, 11, 6, 6, 5, 9, 15, 15, 11, 13, 8, 10, 4, 7, 11, 7, 9, 14, 5, 10, 7, 5, 8, 5, 12, 5, 7, 16, 11, 4, 4, 4, 6, 8, 7, 9, 10, 14, 9, 4, 8, 6, 17, 13, 5, 7, 4, 5, 8, 4, 7, 10, 5, 10, 2, 6, 16, 15, 14, 9, 5, 8, 5, 15, 16, 8, 7, 9, 8, 17, 13, 8, 5, 14, 13, 6, 4, 8, 5, 16, 4, 11, 8, 10, 7, 5, 12, 11, 12, 8, 6, 7, 10, 12, 6, 6, 5, 10, 5, 6, 7, 4, 8, 14, 15, 10, 14, 11, 16, 11, 4, 11, 6, 10, 7, 9, 4, 5, 5, 9, 4, 4, 7, 14, 5, 5, 7, 6, 15, 4, 7, 9, 9, 4, 9, 13, 12, 6, 11, 10, 5, 9, 5, 4, 8, 12, 5, 9, 7, 10, 5, 6, 15, 8, 6, 5, 11, 7, 12, 7, 7, 7, 7, 7, 0, 9, 7, 11, 8, 17, 5, 9, 4, 7, 6, 8, 4, 7, 6, 17, 4, 11, 9, 4, 8, 8, 5, 15, 8, 8, 4, 8, 6, 12, 12, 17, 10, 5, 15, 7, 12, 15, 6, 6, 7, 5, 6, 15, 6, 4, 14, 11, 8, 9, 13, 12, 10, 7, 13, 9, 4, 7, 5, 5, 5, 4, 10, 9, 9, 6, 6, 15, 13, 9, 6, 6, 9, 13, 7, 14, 5, 6, 11, 10, 4, 13, 5, 4, 4, 6, 4, 5, 9, 10, 11, 11, 13, 12, 6, 8, 18, 7, 14, 4, 17, 9, 16, 5, 7, 5, 5, 5, 10, 8, 4, 16, 5, 8, 10, 9, 10, 7, 7, 8, 5, 6, 10, 9, 10, 5, 16, 12, 13, 7, 7, 10, 17, 14, 7, 9, 7, 7, 14, 5, 14, 8, 10, 6, 10, 6, 5, 4, 7, 10, 5, 10, 9, 12, 12, 12, 9, 14, 11, 7, 6, 6, 4, 7, 7, 4, 9, 5, 17, 7, 7, 5, 5, 6, 10, 6, 5, 15, 7, 12, 5, 7, 5, 9, 14, 7, 5, 5, 6, 8, 8, 4, 6, 5, 7, 9, 8, 6, 4, 6, 5, 5, 9, 9, 9, 9, 5, 10, 9, 10, 8, 5, 17, 12, 18, 11, 6, 4, 11, 9, 8, 4, 16, 12, 10, 10, 6, 12, 5, 4, 10, 4, 9, 7, 12, 11, 4, 6, 8, 6, 4, 9, 6, 17, 8, 4, 5, 10, 9, 12, 6, 7, 6, 12, 9, 5, 8, 5, 7, 10, 7, 7, 9, 5, 5, 5, 7, 9, 8, 4, 4, 13, 5, 15, 5, 6, 7, 7, 8, 13, 6, 7, 7, 4, 9, 4, 10, 7, 4, 5, 0, 8, 15, 5, 10, 11, 5, 7, 12, 7, 5, 11, 16, 8, 7, 11, 15, 5, 8, 13, 5, 12, 13, 6, 8, 5, 12, 9, 7, 9, 5, 7, 5, 4, 10, 8, 10, 8, 6, 15, 10, 5, 6, 7, 1, 4, 7, 4, 17, 11, 9, 7, 9, 4, 4, 11]}, {\"hoverlabel\": {\"namelength\": 0}, \"hovertemplate\": \"color=2<br>Income=%{x}<br>Spending=%{y}<br>NumPurchases=%{z}\", \"legendgroup\": \"color=2\", \"marker\": {\"color\": \"#00cc96\", \"symbol\": \"circle\"}, \"mode\": \"markers\", \"name\": \"color=2\", \"scene\": \"scene\", \"showlegend\": true, \"type\": \"scatter3d\", \"x\": [71613.0, 58293.0, 62513.0, 55635.0, 63033.0, 59354.0, 65324.0, 40689.0, 68657.0, 67353.0, 48948.0, 80011.0, 79941.0, 65486.0, 66373.0, 70287.0, 55954.0, 66653.0, 61823.0, 67680.0, 70666.0, 69096.0, 66991.0, 65031.0, 60631.0, 56046.0, 81361.0, 50388.0, 79593.0, 47916.0, 78497.0, 85693.0, 65846.0, 87195.0, 52413.0, 89058.0, 77298.0, 57288.0, 86037.0, 43974.0, 36550.0, 56129.0, 71488.0, 77376.0, 62998.0, 61331.0, 73448.0, 86111.0, 68352.0, 59809.0, 59354.0, 65747.0, 46344.0, 80317.0, 62551.0, 66951.0, 78497.0, 66835.0, 61286.0, 66973.0, 51148.0, 69661.0, 86718.0, 69142.0, 75922.0, 63693.0, 77972.0, 44377.0, 46014.0, 70951.0, 41443.0, 72460.0, 77622.0, 51369.0, 37070.0, 62745.0, 79761.0, 64961.0, 102692.0, 69674.0, 72940.0, 66313.0, 60714.0, 77882.0, 69867.0, 63841.0, 51369.0, 65640.0, 75278.0, 50898.0, 79946.0, 68627.0, 58821.0, 80950.0, 64100.0, 64795.0, 40464.0, 62204.0, 59292.0, 82623.0, 84835.0, 71113.0, 69759.0, 72099.0, 65073.0, 46681.0, 62187.0, 51479.0, 54803.0, 79530.0, 52614.0, 43795.0, 63381.0, 74293.0, 70777.0, 75276.0, 55521.0, 50437.0, 53858.0, 75072.0, 75865.0, 49505.0, 61314.0, 42387.0, 67309.0, 75236.0, 67272.0, 51529.0, 81246.0, 55707.0, 57959.0, 56796.0, 70829.0, 65991.0, 38988.0, 66664.0, 60597.0, 70165.0, 53790.0, 49269.0, 56937.0, 62503.0, 55842.0, 62010.0, 41124.0, 83151.0, 78825.0, 60093.0, 58308.0, 55614.0, 59432.0, 67911.0, 65275.0, 65665.0, 81217.0, 61250.0, 60152.0, 48920.0, 44124.0, 71367.0, 49154.0, 47682.0, 72679.0, 57954.0, 76982.0, 54058.0, 60504.0, 81698.0, 54880.0, 81741.0, 71499.0, 62466.0, 40689.0, 61794.0, 53863.0, 69882.0, 62807.0, 72906.0, 61467.0, 81168.0, 48240.0, 45837.0, 54456.0, 72298.0, 72635.0, 84196.0, 65488.0, 62466.0, 84574.0, 63381.0, 45906.0, 66886.0, 73059.0, 56253.0, 58330.0, 59304.0, 59247.0, 66731.0, 77353.0, 52614.0, 70337.0, 65295.0, 68118.0, 65777.0, 66476.0, 69476.0, 50611.0, 61209.0, 45938.0, 78468.0, 78901.0, 71427.0, 43185.0, 66375.0, 55250.0, 58398.0, 87305.0, 58710.0, 74806.0, 59111.0, 80395.0, 75012.0, 56962.0, 89891.0, 53593.0, 66373.0, 67432.0, 62882.0, 82224.0, 71163.0, 51518.0, 58330.0, 63855.0, 79146.0, 75127.0, 62058.0, 72063.0, 42720.0, 71466.0, 42564.0, 43783.0, 40780.0, 82017.0, 70421.0, 60161.0, 61872.0, 49681.0, 55267.0, 59666.0, 73170.0, 52750.0, 91820.0, 65968.0, 65685.0, 57091.0, 48789.0, 56575.0, 71391.0, 56628.0, 82504.0, 55284.0, 65324.0, 46374.0, 60474.0, 55357.0, 85710.0, 57906.0, 43456.0, 53172.0, 62450.0, 61346.0, 42835.0, 86424.0, 51195.0, 51390.0, 76630.0, 48948.0, 64090.0, 81320.0, 66825.0, 86429.0, 75114.0, 62820.0, 73113.0, 72354.0, 77583.0, 74293.0, 79632.0, 75127.0, 71796.0, 55239.0, 60554.0, 64831.0, 56067.0, 82025.0, 57937.0, 67893.0, 59754.0, 53700.0, 54237.0, 70647.0, 52597.0, 54753.0, 44010.0, 84219.0, 59052.0, 83715.0, 56962.0, 63693.0, 65352.0, 79689.0, 42021.0, 64449.0, 52845.0, 78028.0, 56337.0, 36130.0, 65569.0, 56320.0, 74538.0, 68695.0, 79593.0, 47703.0, 61180.0, 76081.0, 77037.0, 44529.0, 70596.0, 67605.0, 42000.0, 65526.0, 67023.0, 59925.0, 46610.0, 66294.0, 36715.0, 54233.0, 84460.0, 71691.0, 71367.0, 61825.0, 79803.0, 80910.0, 56775.0, 38508.0, 65463.0, 66480.0, 76773.0, 47025.0, 70566.0, 39552.0, 63998.0, 56129.0, 63285.0, 54450.0, 57744.0, 46049.0, 56715.0, 57304.0, 54450.0, 59594.0, 80685.0, 62710.0, 77142.0, 81657.0, 66726.0, 54386.0, 48070.0, 63841.0, 78075.0, 59184.0, 58113.0, 66636.0, 50965.0, 65748.0, 77044.0, 61559.0, 77297.0, 61284.0, 54730.0, 64722.0, 76624.0, 66000.0, 67433.0, 74716.0, 68118.0, 55158.0, 62972.0, 74190.0, 53378.0, 55956.0, 64191.0, 57183.0, 46149.0, 49118.0, 57091.0, 52531.0, 57811.0, 71626.0, 60894.0, 50200.0, 65695.0, 74805.0, 47009.0, 77382.0, 71604.0, 88097.0, 71853.0, 43263.0, 62061.0, 70515.0, 69627.0, 62159.0, 58554.0, 53034.0, 52203.0, 59601.0, 75154.0, 47025.0, 50611.0, 56242.0, 48904.0, 56243.0, 57420.0, 53761.0, 63915.0, 63841.0, 65685.0, 44511.0, 67087.0, 57045.0, 69389.0, 57537.0, 65704.0, 70844.0, 78041.0, 52852.0, 70038.0, 69401.0, 77343.0, 32727.0, 68695.0, 38410.0, 64866.0, 57957.0, 49476.0, 50725.0, 94871.0, 65148.0, 60474.0, 62807.0, 75484.0, 70379.0, 64014.0, 49854.0, 60585.0, 57867.0, 65492.0, 53253.0, 42014.0, 54108.0, 63206.0, 57136.0, 46772.0, 78931.0, 53977.0, 84219.0, 55759.0, 69930.0, 58597.0, 82032.0, 53083.0, 69283.0, 67786.0, 59235.0, 74881.0, 65819.0, 51983.0, 66033.0, 76800.0, 63943.0, 76081.0, 70179.0, 49681.0, 79865.0, 47958.0, 75315.0, 55517.0, 42014.0, 60482.0, 78093.0, 82460.0, 81361.0, 74268.0, 48432.0, 53843.0, 71855.0, 51250.0, 60432.0, 65526.0, 55434.0, 66664.0, 50664.0, 47111.0, 41003.0, 73059.0, 46681.0, 59821.0, 50002.0, 69755.0, 56386.0, 75774.0, 58494.0, 58684.0, 57136.0, 62670.0, 50334.0, 50729.0, 64892.0, 63246.0, 72635.0, 49544.0, 56534.0, 58350.0, 81217.0, 49090.0, 62335.0, 86580.0, 61064.0, 55012.0, 64813.0, 80398.0, 60230.0, 55424.0, 74881.0, 75342.0, 79146.0, 77437.0, 54984.0, 37292.0, 70321.0, 58086.0, 81795.0, 66835.0, 69901.0, 51569.0, 77981.0, 62905.0, 59481.0, 67131.0, 71853.0, 70596.0, 85431.0, 65370.0, 71232.0, 49094.0, 77298.0, 63404.0, 75774.0, 78416.0, 37070.0, 53977.0, 90369.0, 79734.0, 63207.0, 72071.0, 58582.0, 72282.0, 50387.0, 62568.0, 63967.0, 52513.0, 54111.0, 78394.0, 54693.0, 80336.0, 62972.0, 84953.0, 68148.0, 65735.0, 86836.0, 57705.0, 72159.0, 54006.0, 69063.0, 61825.0, 70886.0, 60208.0, 69932.0, 60200.0, 33051.0, 72905.0, 69702.0, 62772.0, 52413.0, 76532.0, 61671.0, 69719.0, 59292.0, 73395.0, 62820.0, 60491.0, 92556.0, 57107.0, 70932.0, 80982.0, 70617.0, 62694.0, 67472.0, 75903.0, 54998.0, 54356.0, 72570.0, 70792.0, 63211.0, 83891.0, 56939.0, 80872.0, 61798.0, 76842.0, 46998.0, 70053.0, 64474.0, 55686.0, 40794.0, 53201.0, 58116.0, 96547.0, 79205.0, 56559.0, 32644.0, 41638.0, 65814.0, 34445.0, 49912.0, 68117.0, 67225.0, 55914.0, 60905.0, 75330.0, 60689.0, 49767.0, 83273.0, 37150.0, 81044.0, 55801.0, 76320.0, 70179.0, 70038.0, 67046.0, 54591.0, 71866.0, 42000.0, 64713.0, 51651.0, 56796.0, 87000.0, 53367.0, 79244.0, 49912.0, 80144.0, 67911.0, 72967.0, 58275.0, 44953.0, 45736.0, 53230.0, 61286.0, 65487.0, 58692.0, 65333.0, 58482.0, 47320.0, 72071.0, 91172.0, 69263.0, 60934.0, 71965.0, 65210.0, 48432.0, 52914.0, 44325.0, 67716.0, 76234.0, 65487.0, 55593.0, 50501.0, 57731.0, 48432.0, 73807.0, 61014.0, 41769.0, 82032.0, 58025.0, 57642.0, 58554.0, 63777.0, 57967.0, 64014.0, 69245.0], \"y\": [776, 422, 716, 590, 1102, 310, 544, 444, 1196, 913, 902, 1395, 984, 507, 606, 1093, 518, 612, 884, 606, 1076, 653, 1253, 863, 661, 692, 778, 372, 1366, 606, 978, 1169, 1120, 1097, 910, 850, 969, 608, 730, 551, 577, 660, 559, 661, 463, 632, 725, 1385, 871, 877, 459, 460, 429, 1231, 421, 1117, 978, 1033, 608, 1282, 315, 834, 1270, 535, 1295, 1150, 1101, 264, 541, 1198, 482, 1047, 714, 576, 433, 1117, 605, 1009, 1112, 845, 981, 770, 957, 818, 925, 908, 576, 461, 930, 859, 1478, 825, 728, 1213, 546, 680, 630, 946, 507, 940, 1190, 835, 1029, 1188, 900, 425, 636, 494, 693, 1348, 990, 492, 1005, 1127, 787, 1040, 446, 490, 915, 1073, 1242, 751, 1008, 684, 1082, 1068, 733, 467, 1379, 428, 868, 1001, 431, 971, 348, 1289, 893, 926, 542, 890, 906, 973, 518, 530, 506, 747, 895, 735, 900, 682, 663, 976, 746, 945, 1157, 730, 943, 347, 397, 777, 411, 521, 1168, 493, 1062, 662, 526, 1008, 795, 1572, 795, 889, 444, 611, 473, 1478, 819, 1151, 594, 1193, 882, 373, 404, 939, 981, 1237, 963, 889, 1375, 1005, 486, 599, 1095, 597, 1064, 1048, 574, 1029, 670, 990, 576, 664, 928, 1146, 689, 1044, 493, 957, 636, 1004, 734, 614, 637, 948, 903, 596, 1152, 1185, 965, 869, 1380, 1027, 411, 836, 480, 606, 1335, 1338, 902, 960, 449, 1064, 1006, 564, 833, 450, 758, 654, 1230, 813, 629, 377, 729, 767, 1071, 573, 458, 405, 1027, 726, 860, 1497, 495, 769, 577, 680, 542, 1043, 761, 1066, 764, 544, 446, 1180, 727, 1062, 401, 393, 486, 995, 989, 595, 1226, 564, 353, 1003, 902, 797, 928, 858, 1449, 1253, 976, 1001, 1228, 1149, 1127, 1113, 833, 960, 779, 811, 1120, 725, 1187, 683, 995, 475, 694, 361, 1079, 578, 728, 662, 1198, 491, 926, 411, 1150, 405, 1315, 573, 805, 936, 528, 724, 488, 859, 702, 1461, 1091, 1366, 655, 704, 1033, 1123, 691, 968, 938, 653, 506, 906, 766, 467, 967, 357, 981, 523, 1192, 777, 424, 868, 756, 937, 443, 562, 312, 1156, 635, 757, 384, 1168, 660, 1103, 684, 411, 515, 1020, 1026, 684, 499, 1004, 606, 990, 1097, 438, 470, 504, 908, 988, 1072, 758, 1084, 685, 545, 1065, 530, 789, 811, 405, 805, 899, 711, 992, 860, 928, 418, 587, 641, 793, 999, 825, 610, 362, 1229, 496, 794, 802, 1305, 832, 401, 656, 820, 448, 1121, 1196, 844, 1149, 441, 800, 1258, 861, 634, 586, 447, 939, 797, 1143, 415, 493, 971, 371, 396, 322, 325, 789, 908, 769, 727, 794, 454, 797, 545, 817, 294, 1319, 879, 1244, 690, 1134, 529, 1091, 534, 556, 637, 795, 586, 1078, 1115, 1180, 819, 1159, 860, 444, 380, 736, 612, 1045, 436, 436, 747, 928, 642, 1048, 943, 907, 1198, 854, 1662, 733, 1234, 271, 904, 1156, 1128, 964, 1383, 793, 677, 641, 1106, 1033, 1034, 458, 792, 407, 841, 633, 436, 507, 1105, 974, 778, 892, 424, 562, 1141, 710, 401, 506, 882, 1289, 561, 1092, 601, 1095, 425, 734, 638, 894, 612, 823, 396, 813, 1179, 825, 694, 496, 902, 772, 981, 404, 815, 1001, 1157, 688, 708, 746, 1080, 660, 745, 1597, 1067, 877, 964, 563, 564, 1125, 358, 460, 1376, 792, 1382, 1033, 882, 467, 664, 622, 461, 976, 1149, 968, 1165, 461, 917, 502, 969, 902, 823, 1179, 433, 907, 1588, 914, 1502, 1338, 763, 1331, 525, 953, 882, 1149, 388, 1428, 929, 1052, 587, 1024, 1042, 395, 557, 486, 1401, 581, 928, 424, 960, 656, 1049, 685, 835, 1515, 1039, 946, 450, 820, 732, 801, 507, 397, 976, 1028, 1263, 416, 909, 1191, 1280, 749, 414, 901, 455, 775, 1089, 1272, 1173, 816, 561, 1336, 463, 1130, 377, 1012, 823, 982, 434, 415, 443, 809, 895, 484, 413, 441, 747, 839, 874, 930, 868, 1260, 392, 1109, 639, 692, 1392, 467, 1208, 527, 932, 1034, 1244, 993, 519, 715, 653, 602, 433, 1001, 961, 400, 1216, 874, 1367, 976, 497, 615, 1021, 437, 732, 608, 1169, 395, 798, 731, 414, 1338, 1092, 568, 873, 1213, 731, 424, 575, 542, 1016, 907, 1169, 546, 500, 704, 424, 849, 1147, 521, 1234, 470, 679, 586, 653, 468, 444, 843], \"z\": [21, 19, 22, 21, 16, 15, 20, 20, 18, 28, 24, 21, 16, 17, 23, 21, 19, 22, 24, 19, 16, 18, 21, 30, 24, 21, 27, 17, 19, 22, 25, 27, 16, 20, 26, 14, 24, 20, 25, 21, 20, 22, 16, 23, 19, 23, 19, 23, 25, 15, 16, 19, 17, 18, 18, 15, 25, 24, 18, 28, 16, 23, 17, 19, 18, 29, 20, 19, 26, 17, 20, 16, 22, 16, 23, 29, 19, 16, 29, 25, 13, 23, 23, 12, 17, 22, 16, 15, 23, 33, 22, 12, 21, 23, 18, 21, 24, 22, 18, 16, 15, 26, 18, 18, 14, 16, 21, 22, 19, 26, 16, 17, 26, 16, 23, 23, 24, 19, 17, 19, 19, 29, 24, 21, 39, 25, 23, 17, 17, 16, 27, 27, 16, 27, 19, 19, 16, 22, 20, 25, 30, 26, 17, 19, 21, 19, 29, 21, 15, 20, 22, 27, 21, 24, 22, 25, 23, 16, 17, 17, 19, 19, 17, 23, 16, 20, 18, 25, 21, 19, 26, 26, 20, 20, 18, 20, 23, 17, 20, 18, 25, 18, 17, 14, 21, 20, 14, 26, 32, 26, 15, 17, 26, 22, 24, 28, 21, 17, 20, 16, 17, 20, 23, 17, 20, 15, 22, 13, 20, 28, 20, 20, 20, 14, 26, 20, 17, 31, 16, 21, 24, 23, 21, 26, 23, 23, 19, 20, 21, 24, 17, 24, 24, 19, 19, 18, 21, 25, 19, 24, 22, 17, 17, 23, 26, 21, 21, 17, 20, 16, 27, 22, 18, 21, 18, 18, 20, 28, 20, 17, 23, 20, 18, 31, 22, 26, 17, 17, 16, 16, 23, 23, 28, 24, 18, 25, 24, 20, 18, 16, 18, 19, 14, 15, 19, 19, 16, 20, 19, 17, 26, 23, 22, 20, 12, 20, 16, 16, 22, 16, 26, 20, 21, 24, 18, 18, 24, 21, 29, 16, 27, 22, 24, 25, 20, 22, 21, 23, 21, 22, 16, 19, 21, 18, 14, 27, 25, 21, 17, 20, 17, 24, 23, 14, 13, 19, 26, 22, 17, 17, 15, 13, 15, 25, 20, 19, 19, 16, 23, 22, 20, 25, 22, 25, 31, 16, 26, 15, 25, 31, 17, 21, 22, 17, 16, 17, 17, 19, 22, 14, 27, 22, 17, 22, 18, 31, 17, 22, 22, 18, 25, 23, 10, 28, 17, 23, 18, 16, 19, 29, 16, 24, 25, 18, 28, 18, 21, 25, 19, 26, 19, 21, 26, 17, 26, 17, 20, 17, 16, 24, 17, 23, 19, 22, 22, 27, 15, 16, 17, 22, 28, 17, 20, 15, 17, 23, 22, 21, 26, 22, 18, 22, 19, 23, 17, 18, 26, 17, 17, 17, 17, 16, 18, 21, 25, 22, 21, 18, 21, 31, 23, 18, 25, 22, 18, 30, 25, 26, 19, 20, 32, 14, 26, 30, 24, 27, 18, 26, 22, 32, 17, 17, 27, 16, 28, 27, 20, 24, 20, 16, 17, 14, 26, 21, 21, 16, 23, 23, 20, 17, 17, 15, 27, 13, 19, 20, 25, 24, 19, 17, 24, 19, 24, 21, 17, 26, 16, 26, 19, 22, 25, 21, 16, 21, 20, 22, 23, 24, 24, 22, 21, 16, 25, 27, 22, 21, 21, 11, 28, 25, 20, 26, 17, 25, 27, 18, 19, 23, 17, 19, 25, 23, 23, 24, 23, 19, 21, 20, 16, 26, 17, 21, 17, 19, 25, 20, 24, 15, 21, 26, 23, 27, 17, 14, 12, 20, 22, 22, 19, 16, 23, 25, 15, 16, 31, 25, 16, 18, 15, 19, 23, 18, 21, 18, 14, 15, 14, 29, 26, 25, 21, 20, 26, 23, 17, 25, 28, 11, 18, 15, 14, 28, 21, 23, 22, 30, 14, 24, 15, 23, 20, 24, 23, 19, 20, 22, 18, 19, 16, 17, 18, 26, 22, 16, 16, 22, 16, 21, 16, 18, 18, 17, 23, 27, 26, 25, 23, 29, 15, 29, 22, 18, 29, 21, 22, 21, 15, 26, 17, 15, 19, 20, 20, 19, 17, 27, 18, 21, 22, 26, 19, 27, 19, 23, 24, 19, 23, 18, 17, 15, 28, 22, 20, 20, 14, 18, 23, 17, 22, 19, 15, 21, 28, 23, 17, 17, 20, 26, 19, 23, 20, 22, 17, 18, 22, 22, 26, 19, 22, 23]}],\n",
              "                        {\"legend\": {\"tracegroupgap\": 0}, \"margin\": {\"t\": 60}, \"scene\": {\"domain\": {\"x\": [0.0, 1.0], \"y\": [0.0, 1.0]}, \"xaxis\": {\"title\": {\"text\": \"Income\"}}, \"yaxis\": {\"title\": {\"text\": \"Spending\"}}, \"zaxis\": {\"title\": {\"text\": \"NumPurchases\"}}}, \"template\": {\"data\": {\"bar\": [{\"error_x\": {\"color\": \"#2a3f5f\"}, \"error_y\": {\"color\": \"#2a3f5f\"}, \"marker\": {\"line\": {\"color\": \"#E5ECF6\", \"width\": 0.5}}, \"type\": \"bar\"}], \"barpolar\": [{\"marker\": {\"line\": {\"color\": \"#E5ECF6\", \"width\": 0.5}}, \"type\": \"barpolar\"}], \"carpet\": [{\"aaxis\": {\"endlinecolor\": \"#2a3f5f\", \"gridcolor\": \"white\", \"linecolor\": \"white\", \"minorgridcolor\": \"white\", \"startlinecolor\": \"#2a3f5f\"}, \"baxis\": {\"endlinecolor\": \"#2a3f5f\", \"gridcolor\": \"white\", \"linecolor\": \"white\", \"minorgridcolor\": \"white\", \"startlinecolor\": \"#2a3f5f\"}, \"type\": \"carpet\"}], \"choropleth\": [{\"colorbar\": {\"outlinewidth\": 0, \"ticks\": \"\"}, \"type\": \"choropleth\"}], \"contour\": [{\"colorbar\": {\"outlinewidth\": 0, \"ticks\": \"\"}, \"colorscale\": [[0.0, \"#0d0887\"], [0.1111111111111111, \"#46039f\"], [0.2222222222222222, \"#7201a8\"], [0.3333333333333333, \"#9c179e\"], [0.4444444444444444, \"#bd3786\"], [0.5555555555555556, \"#d8576b\"], [0.6666666666666666, \"#ed7953\"], [0.7777777777777778, \"#fb9f3a\"], [0.8888888888888888, \"#fdca26\"], [1.0, \"#f0f921\"]], \"type\": \"contour\"}], \"contourcarpet\": [{\"colorbar\": {\"outlinewidth\": 0, \"ticks\": \"\"}, \"type\": \"contourcarpet\"}], \"heatmap\": [{\"colorbar\": {\"outlinewidth\": 0, \"ticks\": \"\"}, \"colorscale\": [[0.0, \"#0d0887\"], [0.1111111111111111, \"#46039f\"], [0.2222222222222222, \"#7201a8\"], [0.3333333333333333, \"#9c179e\"], [0.4444444444444444, \"#bd3786\"], [0.5555555555555556, \"#d8576b\"], [0.6666666666666666, \"#ed7953\"], [0.7777777777777778, \"#fb9f3a\"], [0.8888888888888888, \"#fdca26\"], [1.0, \"#f0f921\"]], \"type\": \"heatmap\"}], \"heatmapgl\": [{\"colorbar\": {\"outlinewidth\": 0, \"ticks\": \"\"}, \"colorscale\": [[0.0, \"#0d0887\"], [0.1111111111111111, \"#46039f\"], [0.2222222222222222, \"#7201a8\"], [0.3333333333333333, \"#9c179e\"], [0.4444444444444444, \"#bd3786\"], [0.5555555555555556, \"#d8576b\"], [0.6666666666666666, \"#ed7953\"], [0.7777777777777778, \"#fb9f3a\"], [0.8888888888888888, \"#fdca26\"], [1.0, \"#f0f921\"]], \"type\": \"heatmapgl\"}], \"histogram\": [{\"marker\": {\"colorbar\": {\"outlinewidth\": 0, \"ticks\": \"\"}}, \"type\": \"histogram\"}], \"histogram2d\": [{\"colorbar\": {\"outlinewidth\": 0, \"ticks\": \"\"}, \"colorscale\": [[0.0, \"#0d0887\"], [0.1111111111111111, \"#46039f\"], [0.2222222222222222, \"#7201a8\"], [0.3333333333333333, \"#9c179e\"], [0.4444444444444444, \"#bd3786\"], [0.5555555555555556, \"#d8576b\"], [0.6666666666666666, \"#ed7953\"], [0.7777777777777778, \"#fb9f3a\"], [0.8888888888888888, \"#fdca26\"], [1.0, \"#f0f921\"]], \"type\": \"histogram2d\"}], \"histogram2dcontour\": [{\"colorbar\": {\"outlinewidth\": 0, \"ticks\": \"\"}, \"colorscale\": [[0.0, \"#0d0887\"], [0.1111111111111111, \"#46039f\"], [0.2222222222222222, \"#7201a8\"], [0.3333333333333333, \"#9c179e\"], [0.4444444444444444, \"#bd3786\"], [0.5555555555555556, \"#d8576b\"], [0.6666666666666666, \"#ed7953\"], [0.7777777777777778, \"#fb9f3a\"], [0.8888888888888888, \"#fdca26\"], [1.0, \"#f0f921\"]], \"type\": \"histogram2dcontour\"}], \"mesh3d\": [{\"colorbar\": {\"outlinewidth\": 0, \"ticks\": \"\"}, \"type\": \"mesh3d\"}], \"parcoords\": [{\"line\": {\"colorbar\": {\"outlinewidth\": 0, \"ticks\": \"\"}}, \"type\": \"parcoords\"}], \"pie\": [{\"automargin\": true, \"type\": \"pie\"}], \"scatter\": [{\"marker\": {\"colorbar\": {\"outlinewidth\": 0, \"ticks\": \"\"}}, \"type\": \"scatter\"}], \"scatter3d\": [{\"line\": {\"colorbar\": {\"outlinewidth\": 0, \"ticks\": \"\"}}, \"marker\": {\"colorbar\": {\"outlinewidth\": 0, \"ticks\": \"\"}}, \"type\": \"scatter3d\"}], \"scattercarpet\": [{\"marker\": {\"colorbar\": {\"outlinewidth\": 0, \"ticks\": \"\"}}, \"type\": \"scattercarpet\"}], \"scattergeo\": [{\"marker\": {\"colorbar\": {\"outlinewidth\": 0, \"ticks\": \"\"}}, \"type\": \"scattergeo\"}], \"scattergl\": [{\"marker\": {\"colorbar\": {\"outlinewidth\": 0, \"ticks\": \"\"}}, \"type\": \"scattergl\"}], \"scattermapbox\": [{\"marker\": {\"colorbar\": {\"outlinewidth\": 0, \"ticks\": \"\"}}, \"type\": \"scattermapbox\"}], \"scatterpolar\": [{\"marker\": {\"colorbar\": {\"outlinewidth\": 0, \"ticks\": \"\"}}, \"type\": \"scatterpolar\"}], \"scatterpolargl\": [{\"marker\": {\"colorbar\": {\"outlinewidth\": 0, \"ticks\": \"\"}}, \"type\": \"scatterpolargl\"}], \"scatterternary\": [{\"marker\": {\"colorbar\": {\"outlinewidth\": 0, \"ticks\": \"\"}}, \"type\": \"scatterternary\"}], \"surface\": [{\"colorbar\": {\"outlinewidth\": 0, \"ticks\": \"\"}, \"colorscale\": [[0.0, \"#0d0887\"], [0.1111111111111111, \"#46039f\"], [0.2222222222222222, \"#7201a8\"], [0.3333333333333333, \"#9c179e\"], [0.4444444444444444, \"#bd3786\"], [0.5555555555555556, \"#d8576b\"], [0.6666666666666666, \"#ed7953\"], [0.7777777777777778, \"#fb9f3a\"], [0.8888888888888888, \"#fdca26\"], [1.0, \"#f0f921\"]], \"type\": \"surface\"}], \"table\": [{\"cells\": {\"fill\": {\"color\": \"#EBF0F8\"}, \"line\": {\"color\": \"white\"}}, \"header\": {\"fill\": {\"color\": \"#C8D4E3\"}, \"line\": {\"color\": \"white\"}}, \"type\": \"table\"}]}, \"layout\": {\"annotationdefaults\": {\"arrowcolor\": \"#2a3f5f\", \"arrowhead\": 0, \"arrowwidth\": 1}, \"coloraxis\": {\"colorbar\": {\"outlinewidth\": 0, \"ticks\": \"\"}}, \"colorscale\": {\"diverging\": [[0, \"#8e0152\"], [0.1, \"#c51b7d\"], [0.2, \"#de77ae\"], [0.3, \"#f1b6da\"], [0.4, \"#fde0ef\"], [0.5, \"#f7f7f7\"], [0.6, \"#e6f5d0\"], [0.7, \"#b8e186\"], [0.8, \"#7fbc41\"], [0.9, \"#4d9221\"], [1, \"#276419\"]], \"sequential\": [[0.0, \"#0d0887\"], [0.1111111111111111, \"#46039f\"], [0.2222222222222222, \"#7201a8\"], [0.3333333333333333, \"#9c179e\"], [0.4444444444444444, \"#bd3786\"], [0.5555555555555556, \"#d8576b\"], [0.6666666666666666, \"#ed7953\"], [0.7777777777777778, \"#fb9f3a\"], [0.8888888888888888, \"#fdca26\"], [1.0, \"#f0f921\"]], \"sequentialminus\": [[0.0, \"#0d0887\"], [0.1111111111111111, \"#46039f\"], [0.2222222222222222, \"#7201a8\"], [0.3333333333333333, \"#9c179e\"], [0.4444444444444444, \"#bd3786\"], [0.5555555555555556, \"#d8576b\"], [0.6666666666666666, \"#ed7953\"], [0.7777777777777778, \"#fb9f3a\"], [0.8888888888888888, \"#fdca26\"], [1.0, \"#f0f921\"]]}, \"colorway\": [\"#636efa\", \"#EF553B\", \"#00cc96\", \"#ab63fa\", \"#FFA15A\", \"#19d3f3\", \"#FF6692\", \"#B6E880\", \"#FF97FF\", \"#FECB52\"], \"font\": {\"color\": \"#2a3f5f\"}, \"geo\": {\"bgcolor\": \"white\", \"lakecolor\": \"white\", \"landcolor\": \"#E5ECF6\", \"showlakes\": true, \"showland\": true, \"subunitcolor\": \"white\"}, \"hoverlabel\": {\"align\": \"left\"}, \"hovermode\": \"closest\", \"mapbox\": {\"style\": \"light\"}, \"paper_bgcolor\": \"white\", \"plot_bgcolor\": \"#E5ECF6\", \"polar\": {\"angularaxis\": {\"gridcolor\": \"white\", \"linecolor\": \"white\", \"ticks\": \"\"}, \"bgcolor\": \"#E5ECF6\", \"radialaxis\": {\"gridcolor\": \"white\", \"linecolor\": \"white\", \"ticks\": \"\"}}, \"scene\": {\"xaxis\": {\"backgroundcolor\": \"#E5ECF6\", \"gridcolor\": \"white\", \"gridwidth\": 2, \"linecolor\": \"white\", \"showbackground\": true, \"ticks\": \"\", \"zerolinecolor\": \"white\"}, \"yaxis\": {\"backgroundcolor\": \"#E5ECF6\", \"gridcolor\": \"white\", \"gridwidth\": 2, \"linecolor\": \"white\", \"showbackground\": true, \"ticks\": \"\", \"zerolinecolor\": \"white\"}, \"zaxis\": {\"backgroundcolor\": \"#E5ECF6\", \"gridcolor\": \"white\", \"gridwidth\": 2, \"linecolor\": \"white\", \"showbackground\": true, \"ticks\": \"\", \"zerolinecolor\": \"white\"}}, \"shapedefaults\": {\"line\": {\"color\": \"#2a3f5f\"}}, \"ternary\": {\"aaxis\": {\"gridcolor\": \"white\", \"linecolor\": \"white\", \"ticks\": \"\"}, \"baxis\": {\"gridcolor\": \"white\", \"linecolor\": \"white\", \"ticks\": \"\"}, \"bgcolor\": \"#E5ECF6\", \"caxis\": {\"gridcolor\": \"white\", \"linecolor\": \"white\", \"ticks\": \"\"}}, \"title\": {\"x\": 0.05}, \"xaxis\": {\"automargin\": true, \"gridcolor\": \"white\", \"linecolor\": \"white\", \"ticks\": \"\", \"title\": {\"standoff\": 15}, \"zerolinecolor\": \"white\", \"zerolinewidth\": 2}, \"yaxis\": {\"automargin\": true, \"gridcolor\": \"white\", \"linecolor\": \"white\", \"ticks\": \"\", \"title\": {\"standoff\": 15}, \"zerolinecolor\": \"white\", \"zerolinewidth\": 2}}}},\n",
              "                        {\"responsive\": true}\n",
              "                    ).then(function(){\n",
              "                            \n",
              "var gd = document.getElementById('cf27e154-1728-4ab5-a7e9-40e6049d793b');\n",
              "var x = new MutationObserver(function (mutations, observer) {{\n",
              "        var display = window.getComputedStyle(gd).display;\n",
              "        if (!display || display === 'none') {{\n",
              "            console.log([gd, 'removed!']);\n",
              "            Plotly.purge(gd);\n",
              "            observer.disconnect();\n",
              "        }}\n",
              "}});\n",
              "\n",
              "// Listen for the removal of the full notebook cells\n",
              "var notebookContainer = gd.closest('#notebook-container');\n",
              "if (notebookContainer) {{\n",
              "    x.observe(notebookContainer, {childList: true});\n",
              "}}\n",
              "\n",
              "// Listen for the clearing of the current output cell\n",
              "var outputEl = gd.closest('.output');\n",
              "if (outputEl) {{\n",
              "    x.observe(outputEl, {childList: true});\n",
              "}}\n",
              "\n",
              "                        })\n",
              "                };\n",
              "                \n",
              "            </script>\n",
              "        </div>\n",
              "</body>\n",
              "</html>"
            ]
          },
          "metadata": {}
        }
      ]
    },
    {
      "cell_type": "code",
      "source": [
        "scaler=StandardScaler()\n",
        "dataset_temp=customer_data[['Income','Seniority','Spending']]\n",
        "X_std=scaler.fit_transform(dataset_temp)\n",
        "X = normalize(X_std,norm='l2')\n",
        "\n",
        "gmm=GaussianMixture(n_components=4, covariance_type='spherical',max_iter=2000, random_state=5).fit(X)\n",
        "labels = gmm.predict(X)\n",
        "dataset_temp['Cluster'] = labels\n",
        "dataset_temp=dataset_temp.replace({0:'Stars',1:'Need attention',2:'High potential',3:'Leaky bucket'})\n",
        "customer_data = customer_data.merge(dataset_temp.Cluster, left_index=True, right_index=True)\n",
        "\n",
        "pd.options.display.float_format = \"{:.0f}\".format\n",
        "summary=customer_data[['Income','Spending','Seniority','Cluster']]\n",
        "summary.set_index(\"Cluster\", inplace = True)\n",
        "summary=summary.groupby('Cluster').describe().transpose()\n",
        "summary.head()"
      ],
      "metadata": {
        "id": "kiDMn9oh_y7N",
        "outputId": "867a06fc-0372-4fc5-9251-67f4eb072a5a",
        "colab": {
          "base_uri": "https://localhost:8080/",
          "height": 206
        }
      },
      "execution_count": 128,
      "outputs": [
        {
          "output_type": "execute_result",
          "data": {
            "text/html": [
              "\n",
              "  <div id=\"df-966335e0-1f86-46db-9c49-9e76984ac689\">\n",
              "    <div class=\"colab-df-container\">\n",
              "      <div>\n",
              "<style scoped>\n",
              "    .dataframe tbody tr th:only-of-type {\n",
              "        vertical-align: middle;\n",
              "    }\n",
              "\n",
              "    .dataframe tbody tr th {\n",
              "        vertical-align: top;\n",
              "    }\n",
              "\n",
              "    .dataframe thead th {\n",
              "        text-align: right;\n",
              "    }\n",
              "</style>\n",
              "<table border=\"1\" class=\"dataframe\">\n",
              "  <thead>\n",
              "    <tr style=\"text-align: right;\">\n",
              "      <th></th>\n",
              "      <th>Cluster</th>\n",
              "      <th>High potential</th>\n",
              "      <th>Leaky bucket</th>\n",
              "      <th>Need attention</th>\n",
              "      <th>Stars</th>\n",
              "    </tr>\n",
              "  </thead>\n",
              "  <tbody>\n",
              "    <tr>\n",
              "      <th rowspan=\"5\" valign=\"top\">Income</th>\n",
              "      <th>count</th>\n",
              "      <td>625</td>\n",
              "      <td>458</td>\n",
              "      <td>530</td>\n",
              "      <td>586</td>\n",
              "    </tr>\n",
              "    <tr>\n",
              "      <th>mean</th>\n",
              "      <td>38091</td>\n",
              "      <td>72962</td>\n",
              "      <td>69295</td>\n",
              "      <td>34723</td>\n",
              "    </tr>\n",
              "    <tr>\n",
              "      <th>std</th>\n",
              "      <td>11964</td>\n",
              "      <td>12494</td>\n",
              "      <td>11349</td>\n",
              "      <td>11890</td>\n",
              "    </tr>\n",
              "    <tr>\n",
              "      <th>min</th>\n",
              "      <td>4861</td>\n",
              "      <td>49090</td>\n",
              "      <td>44802</td>\n",
              "      <td>3502</td>\n",
              "    </tr>\n",
              "    <tr>\n",
              "      <th>25%</th>\n",
              "      <td>29478</td>\n",
              "      <td>65231</td>\n",
              "      <td>60695</td>\n",
              "      <td>26488</td>\n",
              "    </tr>\n",
              "  </tbody>\n",
              "</table>\n",
              "</div>\n",
              "      <button class=\"colab-df-convert\" onclick=\"convertToInteractive('df-966335e0-1f86-46db-9c49-9e76984ac689')\"\n",
              "              title=\"Convert this dataframe to an interactive table.\"\n",
              "              style=\"display:none;\">\n",
              "        \n",
              "  <svg xmlns=\"http://www.w3.org/2000/svg\" height=\"24px\"viewBox=\"0 0 24 24\"\n",
              "       width=\"24px\">\n",
              "    <path d=\"M0 0h24v24H0V0z\" fill=\"none\"/>\n",
              "    <path d=\"M18.56 5.44l.94 2.06.94-2.06 2.06-.94-2.06-.94-.94-2.06-.94 2.06-2.06.94zm-11 1L8.5 8.5l.94-2.06 2.06-.94-2.06-.94L8.5 2.5l-.94 2.06-2.06.94zm10 10l.94 2.06.94-2.06 2.06-.94-2.06-.94-.94-2.06-.94 2.06-2.06.94z\"/><path d=\"M17.41 7.96l-1.37-1.37c-.4-.4-.92-.59-1.43-.59-.52 0-1.04.2-1.43.59L10.3 9.45l-7.72 7.72c-.78.78-.78 2.05 0 2.83L4 21.41c.39.39.9.59 1.41.59.51 0 1.02-.2 1.41-.59l7.78-7.78 2.81-2.81c.8-.78.8-2.07 0-2.86zM5.41 20L4 18.59l7.72-7.72 1.47 1.35L5.41 20z\"/>\n",
              "  </svg>\n",
              "      </button>\n",
              "      \n",
              "  <style>\n",
              "    .colab-df-container {\n",
              "      display:flex;\n",
              "      flex-wrap:wrap;\n",
              "      gap: 12px;\n",
              "    }\n",
              "\n",
              "    .colab-df-convert {\n",
              "      background-color: #E8F0FE;\n",
              "      border: none;\n",
              "      border-radius: 50%;\n",
              "      cursor: pointer;\n",
              "      display: none;\n",
              "      fill: #1967D2;\n",
              "      height: 32px;\n",
              "      padding: 0 0 0 0;\n",
              "      width: 32px;\n",
              "    }\n",
              "\n",
              "    .colab-df-convert:hover {\n",
              "      background-color: #E2EBFA;\n",
              "      box-shadow: 0px 1px 2px rgba(60, 64, 67, 0.3), 0px 1px 3px 1px rgba(60, 64, 67, 0.15);\n",
              "      fill: #174EA6;\n",
              "    }\n",
              "\n",
              "    [theme=dark] .colab-df-convert {\n",
              "      background-color: #3B4455;\n",
              "      fill: #D2E3FC;\n",
              "    }\n",
              "\n",
              "    [theme=dark] .colab-df-convert:hover {\n",
              "      background-color: #434B5C;\n",
              "      box-shadow: 0px 1px 3px 1px rgba(0, 0, 0, 0.15);\n",
              "      filter: drop-shadow(0px 1px 2px rgba(0, 0, 0, 0.3));\n",
              "      fill: #FFFFFF;\n",
              "    }\n",
              "  </style>\n",
              "\n",
              "      <script>\n",
              "        const buttonEl =\n",
              "          document.querySelector('#df-966335e0-1f86-46db-9c49-9e76984ac689 button.colab-df-convert');\n",
              "        buttonEl.style.display =\n",
              "          google.colab.kernel.accessAllowed ? 'block' : 'none';\n",
              "\n",
              "        async function convertToInteractive(key) {\n",
              "          const element = document.querySelector('#df-966335e0-1f86-46db-9c49-9e76984ac689');\n",
              "          const dataTable =\n",
              "            await google.colab.kernel.invokeFunction('convertToInteractive',\n",
              "                                                     [key], {});\n",
              "          if (!dataTable) return;\n",
              "\n",
              "          const docLinkHtml = 'Like what you see? Visit the ' +\n",
              "            '<a target=\"_blank\" href=https://colab.research.google.com/notebooks/data_table.ipynb>data table notebook</a>'\n",
              "            + ' to learn more about interactive tables.';\n",
              "          element.innerHTML = '';\n",
              "          dataTable['output_type'] = 'display_data';\n",
              "          await google.colab.output.renderOutput(dataTable, element);\n",
              "          const docLink = document.createElement('div');\n",
              "          docLink.innerHTML = docLinkHtml;\n",
              "          element.appendChild(docLink);\n",
              "        }\n",
              "      </script>\n",
              "    </div>\n",
              "  </div>\n",
              "  "
            ],
            "text/plain": [
              "Cluster       High potential  Leaky bucket  Need attention  Stars\n",
              "Income count             625           458             530    586\n",
              "       mean            38091         72962           69295  34723\n",
              "       std             11964         12494           11349  11890\n",
              "       min              4861         49090           44802   3502\n",
              "       25%             29478         65231           60695  26488"
            ]
          },
          "metadata": {},
          "execution_count": 128
        }
      ]
    },
    {
      "cell_type": "code",
      "source": [
        "PLOT = go.Figure()\n",
        "\n",
        "PLOT.add_trace(go.scatter_3d(x = customer_data['Income'],\n",
        "                            y = customer_data['Seniority'],\n",
        "                            z = customer_data['Spending'],                        \n",
        "                            mode = 'markers',marker_size = 6, marker_line_width = 1,ids=y_pred\n",
        "                            ))\n",
        "PLOT.update_traces(hovertemplate='Income: %{x} <br>Seniority: %{y} <br>Spending: %{z}')\n",
        "\n",
        "    \n",
        "PLOT.update_layout(width = 800, height = 800, autosize = True, showlegend = True,\n",
        "                   scene = dict(xaxis=dict(title = 'Income', titlefont_color = 'black'),\n",
        "                                yaxis=dict(title = 'Seniority', titlefont_color = 'black'),\n",
        "                                zaxis=dict(title = 'Spending', titlefont_color = 'black')),\n",
        "                   font = dict(family = \"Gilroy\", color  = 'black', size = 12))"
      ],
      "metadata": {
        "id": "SRqZbZiZAryo",
        "outputId": "4af7a86b-75e8-48c5-fc68-10ae45dc783e",
        "colab": {
          "base_uri": "https://localhost:8080/",
          "height": 234
        }
      },
      "execution_count": 138,
      "outputs": [
        {
          "output_type": "error",
          "ename": "AttributeError",
          "evalue": "ignored",
          "traceback": [
            "\u001b[0;31m---------------------------------------------------------------------------\u001b[0m",
            "\u001b[0;31mAttributeError\u001b[0m                            Traceback (most recent call last)",
            "\u001b[0;32m<ipython-input-138-be1fb276ccf9>\u001b[0m in \u001b[0;36m<module>\u001b[0;34m()\u001b[0m\n\u001b[1;32m      1\u001b[0m \u001b[0mPLOT\u001b[0m \u001b[0;34m=\u001b[0m \u001b[0mgo\u001b[0m\u001b[0;34m.\u001b[0m\u001b[0mFigure\u001b[0m\u001b[0;34m(\u001b[0m\u001b[0;34m)\u001b[0m\u001b[0;34m\u001b[0m\u001b[0;34m\u001b[0m\u001b[0m\n\u001b[1;32m      2\u001b[0m \u001b[0;34m\u001b[0m\u001b[0m\n\u001b[0;32m----> 3\u001b[0;31m PLOT.add_trace(go.scatter_3d(x = customer_data['Income'],\n\u001b[0m\u001b[1;32m      4\u001b[0m                             \u001b[0my\u001b[0m \u001b[0;34m=\u001b[0m \u001b[0mcustomer_data\u001b[0m\u001b[0;34m[\u001b[0m\u001b[0;34m'Seniority'\u001b[0m\u001b[0;34m]\u001b[0m\u001b[0;34m,\u001b[0m\u001b[0;34m\u001b[0m\u001b[0;34m\u001b[0m\u001b[0m\n\u001b[1;32m      5\u001b[0m                             \u001b[0mz\u001b[0m \u001b[0;34m=\u001b[0m \u001b[0mcustomer_data\u001b[0m\u001b[0;34m[\u001b[0m\u001b[0;34m'Spending'\u001b[0m\u001b[0;34m]\u001b[0m\u001b[0;34m,\u001b[0m\u001b[0;34m\u001b[0m\u001b[0;34m\u001b[0m\u001b[0m\n",
            "\u001b[0;31mAttributeError\u001b[0m: module 'plotly.graph_objects' has no attribute 'scatter_3d'"
          ]
        }
      ]
    },
    {
      "cell_type": "markdown",
      "source": [
        "# Data Preparation for Customer Personality Analysis"
      ],
      "metadata": {
        "id": "4eAD8rTsBpXQ"
      }
    },
    {
      "cell_type": "markdown",
      "source": [
        "Now I will prepare the data for the Apriori algorithm. Here I will be defining three segments of the customers according to the age, income and seniority:"
      ],
      "metadata": {
        "id": "RGlByT4KBwv1"
      }
    },
    {
      "cell_type": "code",
      "source": [
        "#Create Age segment\n",
        "cut_labels_Age = ['Young', 'Adult', 'Mature', 'Senior']\n",
        "cut_bins = [0, 30, 45, 65, 120]\n",
        "customer_data['Age_group'] = pd.cut(customer_data['Age'], bins=cut_bins, labels=cut_labels_Age)\n",
        "#Create Income segment\n",
        "cut_labels_Income = ['Low income', 'Low to medium income', 'Medium to high income', 'High income']\n",
        "customer_data['Income_group'] = pd.qcut(customer_data['Income'], q=4, labels=cut_labels_Income)\n",
        "#Create Seniority segment\n",
        "cut_labels_Seniority = ['New customers', 'Discovering customers', 'Experienced customers', 'Old customers']\n",
        "customer_data['Seniority_group'] = pd.qcut(customer_data['Seniority'], q=4, labels=cut_labels_Seniority)\n",
        "customer_data=customer_data.drop(columns=['Age','Income','Seniority'])"
      ],
      "metadata": {
        "id": "OiOvNnt3B3U8"
      },
      "execution_count": 94,
      "outputs": []
    },
    {
      "cell_type": "markdown",
      "source": [
        "Now I will define new segments according to the spending of customers on each product which will be based on:\n",
        "\n",
        "Non Buyer\n",
        "\n",
        "Low Buyer\n",
        "\n",
        "Frequent Buyer\n",
        "\n",
        "Biggest Buyer"
      ],
      "metadata": {
        "id": "HcZJrdGdCIcT"
      }
    },
    {
      "cell_type": "code",
      "source": [
        "cut_labels = ['Low consumer', 'Frequent consumer', 'Biggest consumer']\n",
        "customer_data['Wines_segment'] = pd.qcut(customer_data['Wines'][customer_data['Wines']>0],q=[0, .25, .75, 1], labels=cut_labels).astype(\"object\")\n",
        "customer_data['Fruits_segment'] = pd.qcut(customer_data['Fruits'][customer_data['Fruits']>0],q=[0, .25, .75, 1], labels=cut_labels).astype(\"object\")\n",
        "customer_data['Meat_segment'] = pd.qcut(customer_data['Meat'][customer_data['Meat']>0],q=[0, .25, .75, 1], labels=cut_labels).astype(\"object\")\n",
        "customer_data['Fish_segment'] = pd.qcut(customer_data['Fish'][customer_data['Fish']>0],q=[0, .25, .75, 1], labels=cut_labels).astype(\"object\")\n",
        "customer_data['Sweets_segment'] = pd.qcut(customer_data['Sweets'][customer_data['Sweets']>0],q=[0, .25, .75, 1], labels=cut_labels).astype(\"object\")\n",
        "customer_data['Gold_segment'] = pd.qcut(customer_data['Gold'][customer_data['Gold']>0],q=[0, .25, .75, 1], labels=cut_labels).astype(\"object\")\n",
        "customer_data.replace(np.nan, \"Non consumer\",inplace=True)\n",
        "customer_data.drop(columns=['Spending','Wines','Fruits','Meat','Fish','Sweets','Gold'],inplace=True)\n",
        "customer_data = customer_data.astype(object)"
      ],
      "metadata": {
        "id": "4SX17ehcBrrz",
        "colab": {
          "base_uri": "https://localhost:8080/",
          "height": 571
        },
        "outputId": "1fe7ac35-b46f-4523-9318-3e92ec9ca6da"
      },
      "execution_count": 95,
      "outputs": [
        {
          "output_type": "error",
          "ename": "KeyError",
          "evalue": "ignored",
          "traceback": [
            "\u001b[0;31m---------------------------------------------------------------------------\u001b[0m",
            "\u001b[0;31mKeyError\u001b[0m                                  Traceback (most recent call last)",
            "\u001b[0;32m/usr/local/lib/python3.7/dist-packages/pandas/core/indexes/base.py\u001b[0m in \u001b[0;36mget_loc\u001b[0;34m(self, key, method, tolerance)\u001b[0m\n\u001b[1;32m   2897\u001b[0m             \u001b[0;32mtry\u001b[0m\u001b[0;34m:\u001b[0m\u001b[0;34m\u001b[0m\u001b[0;34m\u001b[0m\u001b[0m\n\u001b[0;32m-> 2898\u001b[0;31m                 \u001b[0;32mreturn\u001b[0m \u001b[0mself\u001b[0m\u001b[0;34m.\u001b[0m\u001b[0m_engine\u001b[0m\u001b[0;34m.\u001b[0m\u001b[0mget_loc\u001b[0m\u001b[0;34m(\u001b[0m\u001b[0mcasted_key\u001b[0m\u001b[0;34m)\u001b[0m\u001b[0;34m\u001b[0m\u001b[0;34m\u001b[0m\u001b[0m\n\u001b[0m\u001b[1;32m   2899\u001b[0m             \u001b[0;32mexcept\u001b[0m \u001b[0mKeyError\u001b[0m \u001b[0;32mas\u001b[0m \u001b[0merr\u001b[0m\u001b[0;34m:\u001b[0m\u001b[0;34m\u001b[0m\u001b[0;34m\u001b[0m\u001b[0m\n",
            "\u001b[0;32mpandas/_libs/index.pyx\u001b[0m in \u001b[0;36mpandas._libs.index.IndexEngine.get_loc\u001b[0;34m()\u001b[0m\n",
            "\u001b[0;32mpandas/_libs/index.pyx\u001b[0m in \u001b[0;36mpandas._libs.index.IndexEngine.get_loc\u001b[0;34m()\u001b[0m\n",
            "\u001b[0;32mpandas/_libs/hashtable_class_helper.pxi\u001b[0m in \u001b[0;36mpandas._libs.hashtable.PyObjectHashTable.get_item\u001b[0;34m()\u001b[0m\n",
            "\u001b[0;32mpandas/_libs/hashtable_class_helper.pxi\u001b[0m in \u001b[0;36mpandas._libs.hashtable.PyObjectHashTable.get_item\u001b[0;34m()\u001b[0m\n",
            "\u001b[0;31mKeyError\u001b[0m: 'Wines'",
            "\nThe above exception was the direct cause of the following exception:\n",
            "\u001b[0;31mKeyError\u001b[0m                                  Traceback (most recent call last)",
            "\u001b[0;32m<ipython-input-95-aaf223e51c35>\u001b[0m in \u001b[0;36m<module>\u001b[0;34m()\u001b[0m\n\u001b[1;32m      1\u001b[0m \u001b[0mcut_labels\u001b[0m \u001b[0;34m=\u001b[0m \u001b[0;34m[\u001b[0m\u001b[0;34m'Low consumer'\u001b[0m\u001b[0;34m,\u001b[0m \u001b[0;34m'Frequent consumer'\u001b[0m\u001b[0;34m,\u001b[0m \u001b[0;34m'Biggest consumer'\u001b[0m\u001b[0;34m]\u001b[0m\u001b[0;34m\u001b[0m\u001b[0;34m\u001b[0m\u001b[0m\n\u001b[0;32m----> 2\u001b[0;31m \u001b[0mcustomer_data\u001b[0m\u001b[0;34m[\u001b[0m\u001b[0;34m'Wines_segment'\u001b[0m\u001b[0;34m]\u001b[0m \u001b[0;34m=\u001b[0m \u001b[0mpd\u001b[0m\u001b[0;34m.\u001b[0m\u001b[0mqcut\u001b[0m\u001b[0;34m(\u001b[0m\u001b[0mcustomer_data\u001b[0m\u001b[0;34m[\u001b[0m\u001b[0;34m'Wines'\u001b[0m\u001b[0;34m]\u001b[0m\u001b[0;34m[\u001b[0m\u001b[0mcustomer_data\u001b[0m\u001b[0;34m[\u001b[0m\u001b[0;34m'Wines'\u001b[0m\u001b[0;34m]\u001b[0m\u001b[0;34m>\u001b[0m\u001b[0;36m0\u001b[0m\u001b[0;34m]\u001b[0m\u001b[0;34m,\u001b[0m\u001b[0mq\u001b[0m\u001b[0;34m=\u001b[0m\u001b[0;34m[\u001b[0m\u001b[0;36m0\u001b[0m\u001b[0;34m,\u001b[0m \u001b[0;36m.25\u001b[0m\u001b[0;34m,\u001b[0m \u001b[0;36m.75\u001b[0m\u001b[0;34m,\u001b[0m \u001b[0;36m1\u001b[0m\u001b[0;34m]\u001b[0m\u001b[0;34m,\u001b[0m \u001b[0mlabels\u001b[0m\u001b[0;34m=\u001b[0m\u001b[0mcut_labels\u001b[0m\u001b[0;34m)\u001b[0m\u001b[0;34m.\u001b[0m\u001b[0mastype\u001b[0m\u001b[0;34m(\u001b[0m\u001b[0;34m\"object\"\u001b[0m\u001b[0;34m)\u001b[0m\u001b[0;34m\u001b[0m\u001b[0;34m\u001b[0m\u001b[0m\n\u001b[0m\u001b[1;32m      3\u001b[0m \u001b[0mcustomer_data\u001b[0m\u001b[0;34m[\u001b[0m\u001b[0;34m'Fruits_segment'\u001b[0m\u001b[0;34m]\u001b[0m \u001b[0;34m=\u001b[0m \u001b[0mpd\u001b[0m\u001b[0;34m.\u001b[0m\u001b[0mqcut\u001b[0m\u001b[0;34m(\u001b[0m\u001b[0mcustomer_data\u001b[0m\u001b[0;34m[\u001b[0m\u001b[0;34m'Fruits'\u001b[0m\u001b[0;34m]\u001b[0m\u001b[0;34m[\u001b[0m\u001b[0mcustomer_data\u001b[0m\u001b[0;34m[\u001b[0m\u001b[0;34m'Fruits'\u001b[0m\u001b[0;34m]\u001b[0m\u001b[0;34m>\u001b[0m\u001b[0;36m0\u001b[0m\u001b[0;34m]\u001b[0m\u001b[0;34m,\u001b[0m\u001b[0mq\u001b[0m\u001b[0;34m=\u001b[0m\u001b[0;34m[\u001b[0m\u001b[0;36m0\u001b[0m\u001b[0;34m,\u001b[0m \u001b[0;36m.25\u001b[0m\u001b[0;34m,\u001b[0m \u001b[0;36m.75\u001b[0m\u001b[0;34m,\u001b[0m \u001b[0;36m1\u001b[0m\u001b[0;34m]\u001b[0m\u001b[0;34m,\u001b[0m \u001b[0mlabels\u001b[0m\u001b[0;34m=\u001b[0m\u001b[0mcut_labels\u001b[0m\u001b[0;34m)\u001b[0m\u001b[0;34m.\u001b[0m\u001b[0mastype\u001b[0m\u001b[0;34m(\u001b[0m\u001b[0;34m\"object\"\u001b[0m\u001b[0;34m)\u001b[0m\u001b[0;34m\u001b[0m\u001b[0;34m\u001b[0m\u001b[0m\n\u001b[1;32m      4\u001b[0m \u001b[0mcustomer_data\u001b[0m\u001b[0;34m[\u001b[0m\u001b[0;34m'Meat_segment'\u001b[0m\u001b[0;34m]\u001b[0m \u001b[0;34m=\u001b[0m \u001b[0mpd\u001b[0m\u001b[0;34m.\u001b[0m\u001b[0mqcut\u001b[0m\u001b[0;34m(\u001b[0m\u001b[0mcustomer_data\u001b[0m\u001b[0;34m[\u001b[0m\u001b[0;34m'Meat'\u001b[0m\u001b[0;34m]\u001b[0m\u001b[0;34m[\u001b[0m\u001b[0mcustomer_data\u001b[0m\u001b[0;34m[\u001b[0m\u001b[0;34m'Meat'\u001b[0m\u001b[0;34m]\u001b[0m\u001b[0;34m>\u001b[0m\u001b[0;36m0\u001b[0m\u001b[0;34m]\u001b[0m\u001b[0;34m,\u001b[0m\u001b[0mq\u001b[0m\u001b[0;34m=\u001b[0m\u001b[0;34m[\u001b[0m\u001b[0;36m0\u001b[0m\u001b[0;34m,\u001b[0m \u001b[0;36m.25\u001b[0m\u001b[0;34m,\u001b[0m \u001b[0;36m.75\u001b[0m\u001b[0;34m,\u001b[0m \u001b[0;36m1\u001b[0m\u001b[0;34m]\u001b[0m\u001b[0;34m,\u001b[0m \u001b[0mlabels\u001b[0m\u001b[0;34m=\u001b[0m\u001b[0mcut_labels\u001b[0m\u001b[0;34m)\u001b[0m\u001b[0;34m.\u001b[0m\u001b[0mastype\u001b[0m\u001b[0;34m(\u001b[0m\u001b[0;34m\"object\"\u001b[0m\u001b[0;34m)\u001b[0m\u001b[0;34m\u001b[0m\u001b[0;34m\u001b[0m\u001b[0m\n\u001b[1;32m      5\u001b[0m \u001b[0mcustomer_data\u001b[0m\u001b[0;34m[\u001b[0m\u001b[0;34m'Fish_segment'\u001b[0m\u001b[0;34m]\u001b[0m \u001b[0;34m=\u001b[0m \u001b[0mpd\u001b[0m\u001b[0;34m.\u001b[0m\u001b[0mqcut\u001b[0m\u001b[0;34m(\u001b[0m\u001b[0mcustomer_data\u001b[0m\u001b[0;34m[\u001b[0m\u001b[0;34m'Fish'\u001b[0m\u001b[0;34m]\u001b[0m\u001b[0;34m[\u001b[0m\u001b[0mcustomer_data\u001b[0m\u001b[0;34m[\u001b[0m\u001b[0;34m'Fish'\u001b[0m\u001b[0;34m]\u001b[0m\u001b[0;34m>\u001b[0m\u001b[0;36m0\u001b[0m\u001b[0;34m]\u001b[0m\u001b[0;34m,\u001b[0m\u001b[0mq\u001b[0m\u001b[0;34m=\u001b[0m\u001b[0;34m[\u001b[0m\u001b[0;36m0\u001b[0m\u001b[0;34m,\u001b[0m \u001b[0;36m.25\u001b[0m\u001b[0;34m,\u001b[0m \u001b[0;36m.75\u001b[0m\u001b[0;34m,\u001b[0m \u001b[0;36m1\u001b[0m\u001b[0;34m]\u001b[0m\u001b[0;34m,\u001b[0m \u001b[0mlabels\u001b[0m\u001b[0;34m=\u001b[0m\u001b[0mcut_labels\u001b[0m\u001b[0;34m)\u001b[0m\u001b[0;34m.\u001b[0m\u001b[0mastype\u001b[0m\u001b[0;34m(\u001b[0m\u001b[0;34m\"object\"\u001b[0m\u001b[0;34m)\u001b[0m\u001b[0;34m\u001b[0m\u001b[0;34m\u001b[0m\u001b[0m\n",
            "\u001b[0;32m/usr/local/lib/python3.7/dist-packages/pandas/core/frame.py\u001b[0m in \u001b[0;36m__getitem__\u001b[0;34m(self, key)\u001b[0m\n\u001b[1;32m   2904\u001b[0m             \u001b[0;32mif\u001b[0m \u001b[0mself\u001b[0m\u001b[0;34m.\u001b[0m\u001b[0mcolumns\u001b[0m\u001b[0;34m.\u001b[0m\u001b[0mnlevels\u001b[0m \u001b[0;34m>\u001b[0m \u001b[0;36m1\u001b[0m\u001b[0;34m:\u001b[0m\u001b[0;34m\u001b[0m\u001b[0;34m\u001b[0m\u001b[0m\n\u001b[1;32m   2905\u001b[0m                 \u001b[0;32mreturn\u001b[0m \u001b[0mself\u001b[0m\u001b[0;34m.\u001b[0m\u001b[0m_getitem_multilevel\u001b[0m\u001b[0;34m(\u001b[0m\u001b[0mkey\u001b[0m\u001b[0;34m)\u001b[0m\u001b[0;34m\u001b[0m\u001b[0;34m\u001b[0m\u001b[0m\n\u001b[0;32m-> 2906\u001b[0;31m             \u001b[0mindexer\u001b[0m \u001b[0;34m=\u001b[0m \u001b[0mself\u001b[0m\u001b[0;34m.\u001b[0m\u001b[0mcolumns\u001b[0m\u001b[0;34m.\u001b[0m\u001b[0mget_loc\u001b[0m\u001b[0;34m(\u001b[0m\u001b[0mkey\u001b[0m\u001b[0;34m)\u001b[0m\u001b[0;34m\u001b[0m\u001b[0;34m\u001b[0m\u001b[0m\n\u001b[0m\u001b[1;32m   2907\u001b[0m             \u001b[0;32mif\u001b[0m \u001b[0mis_integer\u001b[0m\u001b[0;34m(\u001b[0m\u001b[0mindexer\u001b[0m\u001b[0;34m)\u001b[0m\u001b[0;34m:\u001b[0m\u001b[0;34m\u001b[0m\u001b[0;34m\u001b[0m\u001b[0m\n\u001b[1;32m   2908\u001b[0m                 \u001b[0mindexer\u001b[0m \u001b[0;34m=\u001b[0m \u001b[0;34m[\u001b[0m\u001b[0mindexer\u001b[0m\u001b[0;34m]\u001b[0m\u001b[0;34m\u001b[0m\u001b[0;34m\u001b[0m\u001b[0m\n",
            "\u001b[0;32m/usr/local/lib/python3.7/dist-packages/pandas/core/indexes/base.py\u001b[0m in \u001b[0;36mget_loc\u001b[0;34m(self, key, method, tolerance)\u001b[0m\n\u001b[1;32m   2898\u001b[0m                 \u001b[0;32mreturn\u001b[0m \u001b[0mself\u001b[0m\u001b[0;34m.\u001b[0m\u001b[0m_engine\u001b[0m\u001b[0;34m.\u001b[0m\u001b[0mget_loc\u001b[0m\u001b[0;34m(\u001b[0m\u001b[0mcasted_key\u001b[0m\u001b[0;34m)\u001b[0m\u001b[0;34m\u001b[0m\u001b[0;34m\u001b[0m\u001b[0m\n\u001b[1;32m   2899\u001b[0m             \u001b[0;32mexcept\u001b[0m \u001b[0mKeyError\u001b[0m \u001b[0;32mas\u001b[0m \u001b[0merr\u001b[0m\u001b[0;34m:\u001b[0m\u001b[0;34m\u001b[0m\u001b[0;34m\u001b[0m\u001b[0m\n\u001b[0;32m-> 2900\u001b[0;31m                 \u001b[0;32mraise\u001b[0m \u001b[0mKeyError\u001b[0m\u001b[0;34m(\u001b[0m\u001b[0mkey\u001b[0m\u001b[0;34m)\u001b[0m \u001b[0;32mfrom\u001b[0m \u001b[0merr\u001b[0m\u001b[0;34m\u001b[0m\u001b[0;34m\u001b[0m\u001b[0m\n\u001b[0m\u001b[1;32m   2901\u001b[0m \u001b[0;34m\u001b[0m\u001b[0m\n\u001b[1;32m   2902\u001b[0m         \u001b[0;32mif\u001b[0m \u001b[0mtolerance\u001b[0m \u001b[0;32mis\u001b[0m \u001b[0;32mnot\u001b[0m \u001b[0;32mNone\u001b[0m\u001b[0;34m:\u001b[0m\u001b[0;34m\u001b[0m\u001b[0;34m\u001b[0m\u001b[0m\n",
            "\u001b[0;31mKeyError\u001b[0m: 'Wines'"
          ]
        }
      ]
    },
    {
      "cell_type": "markdown",
      "source": [
        "# Apriori Algorithm"
      ],
      "metadata": {
        "id": "NoWBUP4oDLDx"
      }
    },
    {
      "cell_type": "markdown",
      "source": [
        "The Apriori algorithm is the simplest technique to identify the underlying relationships between different types of elements. The idea behind this algorithm is that all nonempty subsets of a frequent category must also be frequent. Here I will be using the Apriori algorithm for the task of customer personality analysis with Python. Here I will use this algorithm to identify the biggest customer of wines:"
      ],
      "metadata": {
        "id": "1zam4zDQDOeH"
      }
    },
    {
      "cell_type": "code",
      "source": [
        "pd.set_option('display.max_columns', None)\n",
        "pd.set_option('display.max_rows', None)\n",
        "pd.set_option('display.max_colwidth', 999)\n",
        "pd.options.display.float_format = \"{:.3f}\".format\n",
        "association=customer_data.copy() \n",
        "df = pd.get_dummies(association)\n",
        "min_support = 0.08\n",
        "max_len = 10\n",
        "frequent_items = apriori(df, use_colnames=True, min_support=min_support, max_len=max_len + 1)\n",
        "rules = association_rules(frequent_items, metric='lift', min_threshold=1)\n",
        "\n",
        "product='Wines'\n",
        "segment='Biggest consumer'\n",
        "target = '{\\'%s_segment_%s\\'}' %(product,segment)\n",
        "results_personnal_care = rules[rules['consequents'].astype(str).str.contains(target, na=False)].sort_values(by='confidence', ascending=False)\n",
        "results_personnal_care.head()"
      ],
      "metadata": {
        "id": "NZC1m_ohDF6z",
        "outputId": "bd419eb6-c751-46c2-88df-95062b976218",
        "colab": {
          "base_uri": "https://localhost:8080/",
          "height": 389
        }
      },
      "execution_count": null,
      "outputs": [
        {
          "output_type": "execute_result",
          "data": {
            "text/html": [
              "\n",
              "  <div id=\"df-356c48b9-e04c-4a75-8f08-13e878cd52bd\">\n",
              "    <div class=\"colab-df-container\">\n",
              "      <div>\n",
              "<style scoped>\n",
              "    .dataframe tbody tr th:only-of-type {\n",
              "        vertical-align: middle;\n",
              "    }\n",
              "\n",
              "    .dataframe tbody tr th {\n",
              "        vertical-align: top;\n",
              "    }\n",
              "\n",
              "    .dataframe thead th {\n",
              "        text-align: right;\n",
              "    }\n",
              "</style>\n",
              "<table border=\"1\" class=\"dataframe\">\n",
              "  <thead>\n",
              "    <tr style=\"text-align: right;\">\n",
              "      <th></th>\n",
              "      <th>antecedents</th>\n",
              "      <th>consequents</th>\n",
              "      <th>antecedent support</th>\n",
              "      <th>consequent support</th>\n",
              "      <th>support</th>\n",
              "      <th>confidence</th>\n",
              "      <th>lift</th>\n",
              "      <th>leverage</th>\n",
              "      <th>conviction</th>\n",
              "    </tr>\n",
              "  </thead>\n",
              "  <tbody>\n",
              "    <tr>\n",
              "      <th>9357</th>\n",
              "      <td>(Cluster_Need attention, Education_Postgraduate, Age_group_Mature)</td>\n",
              "      <td>(Wines_segment_Biggest consumer)</td>\n",
              "      <td>0.121</td>\n",
              "      <td>0.249</td>\n",
              "      <td>0.084</td>\n",
              "      <td>0.698</td>\n",
              "      <td>2.805</td>\n",
              "      <td>0.054</td>\n",
              "      <td>2.486</td>\n",
              "    </tr>\n",
              "    <tr>\n",
              "      <th>4858</th>\n",
              "      <td>(Income_group_High income, Cluster_Need attention)</td>\n",
              "      <td>(Wines_segment_Biggest consumer)</td>\n",
              "      <td>0.121</td>\n",
              "      <td>0.249</td>\n",
              "      <td>0.084</td>\n",
              "      <td>0.697</td>\n",
              "      <td>2.800</td>\n",
              "      <td>0.054</td>\n",
              "      <td>2.476</td>\n",
              "    </tr>\n",
              "    <tr>\n",
              "      <th>4854</th>\n",
              "      <td>(Cluster_Need attention, Age_group_Mature)</td>\n",
              "      <td>(Wines_segment_Biggest consumer)</td>\n",
              "      <td>0.130</td>\n",
              "      <td>0.249</td>\n",
              "      <td>0.090</td>\n",
              "      <td>0.692</td>\n",
              "      <td>2.782</td>\n",
              "      <td>0.058</td>\n",
              "      <td>2.439</td>\n",
              "    </tr>\n",
              "    <tr>\n",
              "      <th>4872</th>\n",
              "      <td>(Seniority_group_Old customers, Cluster_Need attention)</td>\n",
              "      <td>(Wines_segment_Biggest consumer)</td>\n",
              "      <td>0.123</td>\n",
              "      <td>0.249</td>\n",
              "      <td>0.085</td>\n",
              "      <td>0.691</td>\n",
              "      <td>2.779</td>\n",
              "      <td>0.054</td>\n",
              "      <td>2.433</td>\n",
              "    </tr>\n",
              "    <tr>\n",
              "      <th>9385</th>\n",
              "      <td>(Cluster_Need attention, Meat_segment_Biggest consumer, Education_Postgraduate)</td>\n",
              "      <td>(Wines_segment_Biggest consumer)</td>\n",
              "      <td>0.122</td>\n",
              "      <td>0.249</td>\n",
              "      <td>0.081</td>\n",
              "      <td>0.664</td>\n",
              "      <td>2.670</td>\n",
              "      <td>0.051</td>\n",
              "      <td>2.237</td>\n",
              "    </tr>\n",
              "  </tbody>\n",
              "</table>\n",
              "</div>\n",
              "      <button class=\"colab-df-convert\" onclick=\"convertToInteractive('df-356c48b9-e04c-4a75-8f08-13e878cd52bd')\"\n",
              "              title=\"Convert this dataframe to an interactive table.\"\n",
              "              style=\"display:none;\">\n",
              "        \n",
              "  <svg xmlns=\"http://www.w3.org/2000/svg\" height=\"24px\"viewBox=\"0 0 24 24\"\n",
              "       width=\"24px\">\n",
              "    <path d=\"M0 0h24v24H0V0z\" fill=\"none\"/>\n",
              "    <path d=\"M18.56 5.44l.94 2.06.94-2.06 2.06-.94-2.06-.94-.94-2.06-.94 2.06-2.06.94zm-11 1L8.5 8.5l.94-2.06 2.06-.94-2.06-.94L8.5 2.5l-.94 2.06-2.06.94zm10 10l.94 2.06.94-2.06 2.06-.94-2.06-.94-.94-2.06-.94 2.06-2.06.94z\"/><path d=\"M17.41 7.96l-1.37-1.37c-.4-.4-.92-.59-1.43-.59-.52 0-1.04.2-1.43.59L10.3 9.45l-7.72 7.72c-.78.78-.78 2.05 0 2.83L4 21.41c.39.39.9.59 1.41.59.51 0 1.02-.2 1.41-.59l7.78-7.78 2.81-2.81c.8-.78.8-2.07 0-2.86zM5.41 20L4 18.59l7.72-7.72 1.47 1.35L5.41 20z\"/>\n",
              "  </svg>\n",
              "      </button>\n",
              "      \n",
              "  <style>\n",
              "    .colab-df-container {\n",
              "      display:flex;\n",
              "      flex-wrap:wrap;\n",
              "      gap: 12px;\n",
              "    }\n",
              "\n",
              "    .colab-df-convert {\n",
              "      background-color: #E8F0FE;\n",
              "      border: none;\n",
              "      border-radius: 50%;\n",
              "      cursor: pointer;\n",
              "      display: none;\n",
              "      fill: #1967D2;\n",
              "      height: 32px;\n",
              "      padding: 0 0 0 0;\n",
              "      width: 32px;\n",
              "    }\n",
              "\n",
              "    .colab-df-convert:hover {\n",
              "      background-color: #E2EBFA;\n",
              "      box-shadow: 0px 1px 2px rgba(60, 64, 67, 0.3), 0px 1px 3px 1px rgba(60, 64, 67, 0.15);\n",
              "      fill: #174EA6;\n",
              "    }\n",
              "\n",
              "    [theme=dark] .colab-df-convert {\n",
              "      background-color: #3B4455;\n",
              "      fill: #D2E3FC;\n",
              "    }\n",
              "\n",
              "    [theme=dark] .colab-df-convert:hover {\n",
              "      background-color: #434B5C;\n",
              "      box-shadow: 0px 1px 3px 1px rgba(0, 0, 0, 0.15);\n",
              "      filter: drop-shadow(0px 1px 2px rgba(0, 0, 0, 0.3));\n",
              "      fill: #FFFFFF;\n",
              "    }\n",
              "  </style>\n",
              "\n",
              "      <script>\n",
              "        const buttonEl =\n",
              "          document.querySelector('#df-356c48b9-e04c-4a75-8f08-13e878cd52bd button.colab-df-convert');\n",
              "        buttonEl.style.display =\n",
              "          google.colab.kernel.accessAllowed ? 'block' : 'none';\n",
              "\n",
              "        async function convertToInteractive(key) {\n",
              "          const element = document.querySelector('#df-356c48b9-e04c-4a75-8f08-13e878cd52bd');\n",
              "          const dataTable =\n",
              "            await google.colab.kernel.invokeFunction('convertToInteractive',\n",
              "                                                     [key], {});\n",
              "          if (!dataTable) return;\n",
              "\n",
              "          const docLinkHtml = 'Like what you see? Visit the ' +\n",
              "            '<a target=\"_blank\" href=https://colab.research.google.com/notebooks/data_table.ipynb>data table notebook</a>'\n",
              "            + ' to learn more about interactive tables.';\n",
              "          element.innerHTML = '';\n",
              "          dataTable['output_type'] = 'display_data';\n",
              "          await google.colab.output.renderOutput(dataTable, element);\n",
              "          const docLink = document.createElement('div');\n",
              "          docLink.innerHTML = docLinkHtml;\n",
              "          element.appendChild(docLink);\n",
              "        }\n",
              "      </script>\n",
              "    </div>\n",
              "  </div>\n",
              "  "
            ],
            "text/plain": [
              "                                                                          antecedents  \\\n",
              "9357               (Cluster_Need attention, Education_Postgraduate, Age_group_Mature)   \n",
              "4858                               (Income_group_High income, Cluster_Need attention)   \n",
              "4854                                       (Cluster_Need attention, Age_group_Mature)   \n",
              "4872                          (Seniority_group_Old customers, Cluster_Need attention)   \n",
              "9385  (Cluster_Need attention, Meat_segment_Biggest consumer, Education_Postgraduate)   \n",
              "\n",
              "                           consequents  antecedent support  \\\n",
              "9357  (Wines_segment_Biggest consumer)               0.121   \n",
              "4858  (Wines_segment_Biggest consumer)               0.121   \n",
              "4854  (Wines_segment_Biggest consumer)               0.130   \n",
              "4872  (Wines_segment_Biggest consumer)               0.123   \n",
              "9385  (Wines_segment_Biggest consumer)               0.122   \n",
              "\n",
              "      consequent support  support  confidence  lift  leverage  conviction  \n",
              "9357               0.249    0.084       0.698 2.805     0.054       2.486  \n",
              "4858               0.249    0.084       0.697 2.800     0.054       2.476  \n",
              "4854               0.249    0.090       0.692 2.782     0.058       2.439  \n",
              "4872               0.249    0.085       0.691 2.779     0.054       2.433  \n",
              "9385               0.249    0.081       0.664 2.670     0.051       2.237  "
            ]
          },
          "metadata": {},
          "execution_count": 72
        }
      ]
    },
    {
      "cell_type": "markdown",
      "source": [
        "Conclusion\n",
        "So according to the output and overall analysis conducted on this data science project on customer personality analysis with Python, we can conclude that the biggest customers of wines are:\n",
        "\n",
        "Customers with an average income of around $69,500.\n",
        "\n",
        "Customers with an average total spend of approximately $1,252.\n",
        "\n",
        "Customers registered with the company for approximately 21 months.\n",
        "\n",
        "Customers with a graduate degree.\n",
        "\n",
        "And customers who are also heavy consumers of meat products."
      ],
      "metadata": {
        "id": "FQ4uJ0DuEIGH"
      }
    },
    {
      "cell_type": "markdown",
      "source": [
        "# Bibliography\n",
        "\n",
        "Grigsby, M. (2018). Marketing Analytics: A Practical Guide to Improving Consumer Insights Using Data Techniques. Kogan Page Publishers."
      ],
      "metadata": {
        "id": "pgkx6sIdOAUO"
      }
    },
    {
      "cell_type": "code",
      "source": [
        ""
      ],
      "metadata": {
        "id": "_wQa2P3_N_cP"
      },
      "execution_count": null,
      "outputs": []
    }
  ]
}