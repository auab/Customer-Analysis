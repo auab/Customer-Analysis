{
  "nbformat": 4,
  "nbformat_minor": 0,
  "metadata": {
    "colab": {
      "name": "Untitled0.ipynb",
      "provenance": [],
      "toc_visible": true,
      "authorship_tag": "ABX9TyNgsWThfBgienGYaJ1VRZSa",
      "include_colab_link": true
    },
    "kernelspec": {
      "name": "python3",
      "display_name": "Python 3"
    },
    "language_info": {
      "name": "python"
    }
  },
  "cells": [
    {
      "cell_type": "markdown",
      "metadata": {
        "id": "view-in-github",
        "colab_type": "text"
      },
      "source": [
        "<a href=\"https://colab.research.google.com/github/auab/Customer-Analysis/blob/main/main.ipynb\" target=\"_parent\"><img src=\"https://colab.research.google.com/assets/colab-badge.svg\" alt=\"Open In Colab\"/></a>"
      ]
    },
    {
      "cell_type": "markdown",
      "source": [
        "# Introduction \n"
      ],
      "metadata": {
        "id": "mn3CGvi4OxJx"
      }
    },
    {
      "cell_type": "markdown",
      "metadata": {
        "id": "LEfachZ2hlE6"
      },
      "source": [
        "Understand the costumer is very important for any company, from these who creates the product to the ones who creates the advertises. In the customer-centric culture, the data plays a big role in this process of knowing the client and one technique used in this task is the **customer segmentation**.\n",
        "\n",
        "The idea of this project is to create a customer segmentation using a dataset avaiable in kaggle, describe the steps taken and choices made  and discuss the obtained result."
      ]
    },
    {
      "cell_type": "markdown",
      "source": [
        "## Segmentation\n",
        "<strong><em>Definition</strong>: Segmentation is a process of taxonomy, a way to divide something into parts, a way to divide market into sub-markets</em>\n",
        "\n",
        "Here we'll use data to define the numbers of segments and how they are divided, but it could also be done by a business rule, like *highest use*, *medium use* and *low use* of a specific product.\n",
        "\n",
        "### Why segement?\n",
        "It was said in the beginning that a segmentation is important to understand the customer, but how it can be used? *Grigsby* (2018) lists thre typical uses of segmentation: finding similar members, making modelling better and using marketing strategy to attack each segment differently.\n",
        "\n",
        "Know the prupose of the segmentation is important for the steps that will be taken and for the results discussion. Here we'll consider that the result of the segmentation will be used for marketing strategy, more specifically, advertisement purposes"
      ],
      "metadata": {
        "id": "DMd8hEr645zl"
      }
    },
    {
      "cell_type": "markdown",
      "source": [
        "## The dataset\n",
        "The dataset used here was extracted from Kaggle and it's available (with data description) in <a href=\"https://www.kaggle.com/imakash3011/customer-personality-analysis\">here</a>. I also made it available the <a href='https://github.com/auab/Customer-Analysis'>github repository</a> of this project\n",
        "\n",
        "### Dataset description\n",
        "\n",
        "The database is divided in three types of features: \n",
        "* **People**: it contains mainly demographic features\n",
        "* **Products**: the ammount spent in a specific product category in the last two years\n",
        "* **Promotion**: the customer response to promotions campaings\n",
        "* **Places**: the place where the customer buys the product\n",
        "\n",
        "The deatiled description including the features names is presented below:"
      ],
      "metadata": {
        "id": "z7jdGyVL81SA"
      }
    },
    {
      "cell_type": "markdown",
      "source": [
        "\n",
        "**People**\n",
        "\n",
        "ID: Customer's unique identifier<br />\n",
        "Year_Birth: Customer's birth year<br />\n",
        "Education: Customer's education level<br />\n",
        "Marital_Status: Customer's marital status<br />\n",
        "Income: Customer's yearly household income<br />\n",
        "Kidhome: Number of children in customer's household<br />\n",
        "Teenhome: Number of teenagers in customer's household<br />\n",
        "Dt_Customer: Date of customer's enrollment with the company<br />\n",
        "Recency: Number of days since customer's last purchase<br />\n",
        "Complain: 1 if the customer complained in the last 2 years, 0 otherwise<br /><br />\n",
        "\n",
        "**Products**\n",
        "\n",
        "MntWines: Amount spent on wine in last 2 years<br />\n",
        "MntFruits: Amount spent on fruits in last 2 years<br />\n",
        "MntMeatProducts: Amount spent on meat in last 2 years<br />\n",
        "MntFishProducts: Amount spent on fish in last 2 years<br />\n",
        "MntSweetProducts: Amount spent on sweets in last 2 years<br />\n",
        "MntGoldProds: Amount spent on gold in last 2 years<br /><br />\n",
        "\n",
        "\n",
        "**Promotion**\n",
        "\n",
        "\n",
        "NumDealsPurchases: Number of purchases made with a discount<br />\n",
        "AcceptedCmp1: 1 if customer accepted the offer in the 1st campaign, 0 otherwise<br />\n",
        "AcceptedCmp2: 1 if customer accepted the offer in the 2nd campaign, 0 otherwise<br />\n",
        "AcceptedCmp3: 1 if customer accepted the offer in the 3rd campaign, 0 otherwise<br />\n",
        "AcceptedCmp4: 1 if customer accepted the offer in the 4th campaign, 0 otherwise<br />\n",
        "AcceptedCmp5: 1 if customer accepted the offer in the 5th campaign, 0 otherwise<br />\n",
        "Response: 1 if customer accepted the offer in the last campaign, 0 otherwise<br /><br />\n",
        "\n",
        "\n",
        "**Place**\n",
        "\n",
        "\n",
        "NumWebPurchases: Number of purchases made through the company’s website<br />\n",
        "NumCatalogPurchases: Number of purchases made using a catalogue<br />\n",
        "NumStorePurchases: Number of purchases made directly in stores<br />\n",
        "NumWebVisitsMonth: Number of visits to company’s website in the last month"
      ],
      "metadata": {
        "id": "TAiHB_rhArdj"
      }
    },
    {
      "cell_type": "markdown",
      "source": [
        "# Initial Imports"
      ],
      "metadata": {
        "id": "Lf-rwyne2FIt"
      }
    },
    {
      "cell_type": "code",
      "metadata": {
        "id": "xC_Ei5uPp3tq"
      },
      "source": [
        "import pandas as pd\n",
        "import datetime\n",
        "import matplotlib.pyplot as plt\n",
        "import numpy as np\n",
        "from sklearn.preprocessing import StandardScaler, normalize\n",
        "from sklearn.mixture import GaussianMixture\n",
        "import plotly.graph_objects as go\n",
        "from mlxtend.frequent_patterns import apriori\n",
        "from mlxtend.frequent_patterns import association_rules\n",
        "import warnings\n",
        "warnings.filterwarnings('ignore')"
      ],
      "execution_count": 1,
      "outputs": []
    },
    {
      "cell_type": "code",
      "metadata": {
        "colab": {
          "base_uri": "https://localhost:8080/",
          "height": 0
        },
        "id": "rDkeDudPeCHj",
        "outputId": "f054064d-93a8-467a-d43d-974cb651cf12"
      },
      "source": [
        "customer_data = pd.read_csv('https://raw.githubusercontent.com/auab/Customer-Analysis/main/marketing_campaign.csv',sep='\\t')\n",
        "customer_data.head()"
      ],
      "execution_count": 2,
      "outputs": [
        {
          "output_type": "execute_result",
          "data": {
            "text/html": [
              "\n",
              "  <div id=\"df-2415c2de-8c97-464d-9b34-c0371c753840\">\n",
              "    <div class=\"colab-df-container\">\n",
              "      <div>\n",
              "<style scoped>\n",
              "    .dataframe tbody tr th:only-of-type {\n",
              "        vertical-align: middle;\n",
              "    }\n",
              "\n",
              "    .dataframe tbody tr th {\n",
              "        vertical-align: top;\n",
              "    }\n",
              "\n",
              "    .dataframe thead th {\n",
              "        text-align: right;\n",
              "    }\n",
              "</style>\n",
              "<table border=\"1\" class=\"dataframe\">\n",
              "  <thead>\n",
              "    <tr style=\"text-align: right;\">\n",
              "      <th></th>\n",
              "      <th>ID</th>\n",
              "      <th>Year_Birth</th>\n",
              "      <th>Education</th>\n",
              "      <th>Marital_Status</th>\n",
              "      <th>Income</th>\n",
              "      <th>Kidhome</th>\n",
              "      <th>Teenhome</th>\n",
              "      <th>Dt_Customer</th>\n",
              "      <th>Recency</th>\n",
              "      <th>MntWines</th>\n",
              "      <th>MntFruits</th>\n",
              "      <th>MntMeatProducts</th>\n",
              "      <th>MntFishProducts</th>\n",
              "      <th>MntSweetProducts</th>\n",
              "      <th>MntGoldProds</th>\n",
              "      <th>NumDealsPurchases</th>\n",
              "      <th>NumWebPurchases</th>\n",
              "      <th>NumCatalogPurchases</th>\n",
              "      <th>NumStorePurchases</th>\n",
              "      <th>NumWebVisitsMonth</th>\n",
              "      <th>AcceptedCmp3</th>\n",
              "      <th>AcceptedCmp4</th>\n",
              "      <th>AcceptedCmp5</th>\n",
              "      <th>AcceptedCmp1</th>\n",
              "      <th>AcceptedCmp2</th>\n",
              "      <th>Complain</th>\n",
              "      <th>Z_CostContact</th>\n",
              "      <th>Z_Revenue</th>\n",
              "      <th>Response</th>\n",
              "    </tr>\n",
              "  </thead>\n",
              "  <tbody>\n",
              "    <tr>\n",
              "      <th>0</th>\n",
              "      <td>5524</td>\n",
              "      <td>1957</td>\n",
              "      <td>Graduation</td>\n",
              "      <td>Single</td>\n",
              "      <td>58138.0</td>\n",
              "      <td>0</td>\n",
              "      <td>0</td>\n",
              "      <td>04-09-2012</td>\n",
              "      <td>58</td>\n",
              "      <td>635</td>\n",
              "      <td>88</td>\n",
              "      <td>546</td>\n",
              "      <td>172</td>\n",
              "      <td>88</td>\n",
              "      <td>88</td>\n",
              "      <td>3</td>\n",
              "      <td>8</td>\n",
              "      <td>10</td>\n",
              "      <td>4</td>\n",
              "      <td>7</td>\n",
              "      <td>0</td>\n",
              "      <td>0</td>\n",
              "      <td>0</td>\n",
              "      <td>0</td>\n",
              "      <td>0</td>\n",
              "      <td>0</td>\n",
              "      <td>3</td>\n",
              "      <td>11</td>\n",
              "      <td>1</td>\n",
              "    </tr>\n",
              "    <tr>\n",
              "      <th>1</th>\n",
              "      <td>2174</td>\n",
              "      <td>1954</td>\n",
              "      <td>Graduation</td>\n",
              "      <td>Single</td>\n",
              "      <td>46344.0</td>\n",
              "      <td>1</td>\n",
              "      <td>1</td>\n",
              "      <td>08-03-2014</td>\n",
              "      <td>38</td>\n",
              "      <td>11</td>\n",
              "      <td>1</td>\n",
              "      <td>6</td>\n",
              "      <td>2</td>\n",
              "      <td>1</td>\n",
              "      <td>6</td>\n",
              "      <td>2</td>\n",
              "      <td>1</td>\n",
              "      <td>1</td>\n",
              "      <td>2</td>\n",
              "      <td>5</td>\n",
              "      <td>0</td>\n",
              "      <td>0</td>\n",
              "      <td>0</td>\n",
              "      <td>0</td>\n",
              "      <td>0</td>\n",
              "      <td>0</td>\n",
              "      <td>3</td>\n",
              "      <td>11</td>\n",
              "      <td>0</td>\n",
              "    </tr>\n",
              "    <tr>\n",
              "      <th>2</th>\n",
              "      <td>4141</td>\n",
              "      <td>1965</td>\n",
              "      <td>Graduation</td>\n",
              "      <td>Together</td>\n",
              "      <td>71613.0</td>\n",
              "      <td>0</td>\n",
              "      <td>0</td>\n",
              "      <td>21-08-2013</td>\n",
              "      <td>26</td>\n",
              "      <td>426</td>\n",
              "      <td>49</td>\n",
              "      <td>127</td>\n",
              "      <td>111</td>\n",
              "      <td>21</td>\n",
              "      <td>42</td>\n",
              "      <td>1</td>\n",
              "      <td>8</td>\n",
              "      <td>2</td>\n",
              "      <td>10</td>\n",
              "      <td>4</td>\n",
              "      <td>0</td>\n",
              "      <td>0</td>\n",
              "      <td>0</td>\n",
              "      <td>0</td>\n",
              "      <td>0</td>\n",
              "      <td>0</td>\n",
              "      <td>3</td>\n",
              "      <td>11</td>\n",
              "      <td>0</td>\n",
              "    </tr>\n",
              "    <tr>\n",
              "      <th>3</th>\n",
              "      <td>6182</td>\n",
              "      <td>1984</td>\n",
              "      <td>Graduation</td>\n",
              "      <td>Together</td>\n",
              "      <td>26646.0</td>\n",
              "      <td>1</td>\n",
              "      <td>0</td>\n",
              "      <td>10-02-2014</td>\n",
              "      <td>26</td>\n",
              "      <td>11</td>\n",
              "      <td>4</td>\n",
              "      <td>20</td>\n",
              "      <td>10</td>\n",
              "      <td>3</td>\n",
              "      <td>5</td>\n",
              "      <td>2</td>\n",
              "      <td>2</td>\n",
              "      <td>0</td>\n",
              "      <td>4</td>\n",
              "      <td>6</td>\n",
              "      <td>0</td>\n",
              "      <td>0</td>\n",
              "      <td>0</td>\n",
              "      <td>0</td>\n",
              "      <td>0</td>\n",
              "      <td>0</td>\n",
              "      <td>3</td>\n",
              "      <td>11</td>\n",
              "      <td>0</td>\n",
              "    </tr>\n",
              "    <tr>\n",
              "      <th>4</th>\n",
              "      <td>5324</td>\n",
              "      <td>1981</td>\n",
              "      <td>PhD</td>\n",
              "      <td>Married</td>\n",
              "      <td>58293.0</td>\n",
              "      <td>1</td>\n",
              "      <td>0</td>\n",
              "      <td>19-01-2014</td>\n",
              "      <td>94</td>\n",
              "      <td>173</td>\n",
              "      <td>43</td>\n",
              "      <td>118</td>\n",
              "      <td>46</td>\n",
              "      <td>27</td>\n",
              "      <td>15</td>\n",
              "      <td>5</td>\n",
              "      <td>5</td>\n",
              "      <td>3</td>\n",
              "      <td>6</td>\n",
              "      <td>5</td>\n",
              "      <td>0</td>\n",
              "      <td>0</td>\n",
              "      <td>0</td>\n",
              "      <td>0</td>\n",
              "      <td>0</td>\n",
              "      <td>0</td>\n",
              "      <td>3</td>\n",
              "      <td>11</td>\n",
              "      <td>0</td>\n",
              "    </tr>\n",
              "  </tbody>\n",
              "</table>\n",
              "</div>\n",
              "      <button class=\"colab-df-convert\" onclick=\"convertToInteractive('df-2415c2de-8c97-464d-9b34-c0371c753840')\"\n",
              "              title=\"Convert this dataframe to an interactive table.\"\n",
              "              style=\"display:none;\">\n",
              "        \n",
              "  <svg xmlns=\"http://www.w3.org/2000/svg\" height=\"24px\"viewBox=\"0 0 24 24\"\n",
              "       width=\"24px\">\n",
              "    <path d=\"M0 0h24v24H0V0z\" fill=\"none\"/>\n",
              "    <path d=\"M18.56 5.44l.94 2.06.94-2.06 2.06-.94-2.06-.94-.94-2.06-.94 2.06-2.06.94zm-11 1L8.5 8.5l.94-2.06 2.06-.94-2.06-.94L8.5 2.5l-.94 2.06-2.06.94zm10 10l.94 2.06.94-2.06 2.06-.94-2.06-.94-.94-2.06-.94 2.06-2.06.94z\"/><path d=\"M17.41 7.96l-1.37-1.37c-.4-.4-.92-.59-1.43-.59-.52 0-1.04.2-1.43.59L10.3 9.45l-7.72 7.72c-.78.78-.78 2.05 0 2.83L4 21.41c.39.39.9.59 1.41.59.51 0 1.02-.2 1.41-.59l7.78-7.78 2.81-2.81c.8-.78.8-2.07 0-2.86zM5.41 20L4 18.59l7.72-7.72 1.47 1.35L5.41 20z\"/>\n",
              "  </svg>\n",
              "      </button>\n",
              "      \n",
              "  <style>\n",
              "    .colab-df-container {\n",
              "      display:flex;\n",
              "      flex-wrap:wrap;\n",
              "      gap: 12px;\n",
              "    }\n",
              "\n",
              "    .colab-df-convert {\n",
              "      background-color: #E8F0FE;\n",
              "      border: none;\n",
              "      border-radius: 50%;\n",
              "      cursor: pointer;\n",
              "      display: none;\n",
              "      fill: #1967D2;\n",
              "      height: 32px;\n",
              "      padding: 0 0 0 0;\n",
              "      width: 32px;\n",
              "    }\n",
              "\n",
              "    .colab-df-convert:hover {\n",
              "      background-color: #E2EBFA;\n",
              "      box-shadow: 0px 1px 2px rgba(60, 64, 67, 0.3), 0px 1px 3px 1px rgba(60, 64, 67, 0.15);\n",
              "      fill: #174EA6;\n",
              "    }\n",
              "\n",
              "    [theme=dark] .colab-df-convert {\n",
              "      background-color: #3B4455;\n",
              "      fill: #D2E3FC;\n",
              "    }\n",
              "\n",
              "    [theme=dark] .colab-df-convert:hover {\n",
              "      background-color: #434B5C;\n",
              "      box-shadow: 0px 1px 3px 1px rgba(0, 0, 0, 0.15);\n",
              "      filter: drop-shadow(0px 1px 2px rgba(0, 0, 0, 0.3));\n",
              "      fill: #FFFFFF;\n",
              "    }\n",
              "  </style>\n",
              "\n",
              "      <script>\n",
              "        const buttonEl =\n",
              "          document.querySelector('#df-2415c2de-8c97-464d-9b34-c0371c753840 button.colab-df-convert');\n",
              "        buttonEl.style.display =\n",
              "          google.colab.kernel.accessAllowed ? 'block' : 'none';\n",
              "\n",
              "        async function convertToInteractive(key) {\n",
              "          const element = document.querySelector('#df-2415c2de-8c97-464d-9b34-c0371c753840');\n",
              "          const dataTable =\n",
              "            await google.colab.kernel.invokeFunction('convertToInteractive',\n",
              "                                                     [key], {});\n",
              "          if (!dataTable) return;\n",
              "\n",
              "          const docLinkHtml = 'Like what you see? Visit the ' +\n",
              "            '<a target=\"_blank\" href=https://colab.research.google.com/notebooks/data_table.ipynb>data table notebook</a>'\n",
              "            + ' to learn more about interactive tables.';\n",
              "          element.innerHTML = '';\n",
              "          dataTable['output_type'] = 'display_data';\n",
              "          await google.colab.output.renderOutput(dataTable, element);\n",
              "          const docLink = document.createElement('div');\n",
              "          docLink.innerHTML = docLinkHtml;\n",
              "          element.appendChild(docLink);\n",
              "        }\n",
              "      </script>\n",
              "    </div>\n",
              "  </div>\n",
              "  "
            ],
            "text/plain": [
              "     ID  Year_Birth   Education  ... Z_CostContact  Z_Revenue  Response\n",
              "0  5524        1957  Graduation  ...             3         11         1\n",
              "1  2174        1954  Graduation  ...             3         11         0\n",
              "2  4141        1965  Graduation  ...             3         11         0\n",
              "3  6182        1984  Graduation  ...             3         11         0\n",
              "4  5324        1981         PhD  ...             3         11         0\n",
              "\n",
              "[5 rows x 29 columns]"
            ]
          },
          "metadata": {},
          "execution_count": 2
        }
      ]
    },
    {
      "cell_type": "markdown",
      "metadata": {
        "id": "yOdBpexXhfo2"
      },
      "source": [
        "# 2. Exploratory Analysis\n"
      ]
    },
    {
      "cell_type": "markdown",
      "source": [
        "The first step is see if there are NA variables and outliers. Depending on how many they are, a differente approach will be used to deal with it"
      ],
      "metadata": {
        "id": "8ffqAPLLO3Qn"
      }
    },
    {
      "cell_type": "code",
      "metadata": {
        "colab": {
          "base_uri": "https://localhost:8080/"
        },
        "id": "Ab55y7PFoZBX",
        "outputId": "531a9278-395b-40de-daed-050115964e0b"
      },
      "source": [
        "customer_data.info()"
      ],
      "execution_count": 3,
      "outputs": [
        {
          "output_type": "stream",
          "name": "stdout",
          "text": [
            "<class 'pandas.core.frame.DataFrame'>\n",
            "RangeIndex: 2240 entries, 0 to 2239\n",
            "Data columns (total 29 columns):\n",
            " #   Column               Non-Null Count  Dtype  \n",
            "---  ------               --------------  -----  \n",
            " 0   ID                   2240 non-null   int64  \n",
            " 1   Year_Birth           2240 non-null   int64  \n",
            " 2   Education            2240 non-null   object \n",
            " 3   Marital_Status       2240 non-null   object \n",
            " 4   Income               2216 non-null   float64\n",
            " 5   Kidhome              2240 non-null   int64  \n",
            " 6   Teenhome             2240 non-null   int64  \n",
            " 7   Dt_Customer          2240 non-null   object \n",
            " 8   Recency              2240 non-null   int64  \n",
            " 9   MntWines             2240 non-null   int64  \n",
            " 10  MntFruits            2240 non-null   int64  \n",
            " 11  MntMeatProducts      2240 non-null   int64  \n",
            " 12  MntFishProducts      2240 non-null   int64  \n",
            " 13  MntSweetProducts     2240 non-null   int64  \n",
            " 14  MntGoldProds         2240 non-null   int64  \n",
            " 15  NumDealsPurchases    2240 non-null   int64  \n",
            " 16  NumWebPurchases      2240 non-null   int64  \n",
            " 17  NumCatalogPurchases  2240 non-null   int64  \n",
            " 18  NumStorePurchases    2240 non-null   int64  \n",
            " 19  NumWebVisitsMonth    2240 non-null   int64  \n",
            " 20  AcceptedCmp3         2240 non-null   int64  \n",
            " 21  AcceptedCmp4         2240 non-null   int64  \n",
            " 22  AcceptedCmp5         2240 non-null   int64  \n",
            " 23  AcceptedCmp1         2240 non-null   int64  \n",
            " 24  AcceptedCmp2         2240 non-null   int64  \n",
            " 25  Complain             2240 non-null   int64  \n",
            " 26  Z_CostContact        2240 non-null   int64  \n",
            " 27  Z_Revenue            2240 non-null   int64  \n",
            " 28  Response             2240 non-null   int64  \n",
            "dtypes: float64(1), int64(25), object(3)\n",
            "memory usage: 507.6+ KB\n"
          ]
        }
      ]
    },
    {
      "cell_type": "markdown",
      "source": [
        "The analysis show that the **Income** column has NA, values. Since they are not so many, the treatment choosen here is simply drop the rows."
      ],
      "metadata": {
        "id": "DdsDDwD65iv3"
      }
    },
    {
      "cell_type": "code",
      "source": [
        "customer_data=customer_data.dropna(subset=['Income'])"
      ],
      "metadata": {
        "id": "zOSC6hIh5g9Z"
      },
      "execution_count": 4,
      "outputs": []
    },
    {
      "cell_type": "markdown",
      "source": [
        "A way to observe if there are outlier instances is to plot histograms and analyze how they are depicted. The expected format for a graph without outliers is an historgram with bars very close to each other ocuppying almost all the x-axis intervals presented in the figure (assuming that the x-axis range was set considering the max. and min. value of the feature)."
      ],
      "metadata": {
        "id": "v3HynZCHPeG5"
      }
    },
    {
      "cell_type": "code",
      "metadata": {
        "colab": {
          "base_uri": "https://localhost:8080/",
          "height": 843
        },
        "id": "pohJR2_rkAF3",
        "outputId": "b45130d3-2e9b-4c07-a16a-005ce7227eb6"
      },
      "source": [
        "customer_data.hist(bins=50, figsize=(20,15))\n",
        "plt.show()"
      ],
      "execution_count": 5,
      "outputs": [
        {
          "output_type": "display_data",
          "data": {
            "image/png": "[encoded data removed]",
            "text/plain": [
              "<Figure size 1440x1080 with 30 Axes>"
            ]
          },
          "metadata": {
            "needs_background": "light"
          }
        }
      ]
    },
    {
      "cell_type": "markdown",
      "source": [
        "Such graphs indicates different treatments for each case. Each feature demands a new graph to understand the situation. Let's start with Year_Birth"
      ],
      "metadata": {
        "id": "MMkLrNPMQ7v5"
      }
    },
    {
      "cell_type": "code",
      "source": [
        "customer_data['Year_Birth'].hist(bins=50, figsize=(10,7.5))\n",
        "plt.show()\n",
        "abnormal_birth_year = len(customer_data[customer_data['Year_Birth']<1910])\n",
        "print('There are '+str(abnormal_birth_year)+' abnormal birth years')"
      ],
      "metadata": {
        "id": "d7pg3-YeSG9n",
        "outputId": "044782b7-e57b-4f6e-9cfa-cf66bc0508d7",
        "colab": {
          "base_uri": "https://localhost:8080/",
          "height": 474
        }
      },
      "execution_count": 25,
      "outputs": [
        {
          "output_type": "display_data",
          "data": {
            "image/png": "[encoded data removed]",
            "text/plain": [
              "<Figure size 720x540 with 1 Axes>"
            ]
          },
          "metadata": {
            "needs_background": "light"
          }
        },
        {
          "output_type": "stream",
          "name": "stdout",
          "text": [
            "There are 0 abnormal birth years\n"
          ]
        }
      ]
    },
    {
      "cell_type": "markdown",
      "source": [
        "Since there are only 3 values, we can drop the instances without great harm."
      ],
      "metadata": {
        "id": "eaGRtNU0V9rM"
      }
    },
    {
      "cell_type": "code",
      "source": [
        "customer_data = customer_data[customer_data['Year_Birth']>1910]"
      ],
      "metadata": {
        "id": "PY79tXQUTG8h"
      },
      "execution_count": 19,
      "outputs": []
    },
    {
      "cell_type": "markdown",
      "source": [
        "The next is Income"
      ],
      "metadata": {
        "id": "oQOb6SdkW1rQ"
      }
    },
    {
      "cell_type": "code",
      "source": [
        "customer_data['Income'].hist(bins=50, figsize=(10,7.5))\n",
        "plt.show()\n",
        "abnormal_income = len(customer_data[customer_data['Income']>600000])\n",
        "print('There are '+str(abnormal_income)+' abnormal income values')"
      ],
      "metadata": {
        "id": "It45kRlzW7nO",
        "outputId": "7c7ff5fb-d991-41a1-a24a-c6fbe597d1eb",
        "colab": {
          "base_uri": "https://localhost:8080/",
          "height": 474
        }
      },
      "execution_count": 24,
      "outputs": [
        {
          "output_type": "display_data",
          "data": {
            "image/png": "[encoded data removed]",
            "text/plain": [
              "<Figure size 720x540 with 1 Axes>"
            ]
          },
          "metadata": {
            "needs_background": "light"
          }
        },
        {
          "output_type": "stream",
          "name": "stdout",
          "text": [
            "There are 0 abnormal income values\n"
          ]
        }
      ]
    },
    {
      "cell_type": "markdown",
      "source": [
        "Only 1 instance. Drop again."
      ],
      "metadata": {
        "id": "aNp32kbBXnVP"
      }
    },
    {
      "cell_type": "code",
      "source": [
        "customer_data = customer_data[customer_data['Income']<600000]"
      ],
      "metadata": {
        "id": "Ifp9EYcLXrvf"
      },
      "execution_count": 23,
      "outputs": []
    },
    {
      "cell_type": "code",
      "metadata": {
        "id": "m3jAdk9VlB7M"
      },
      "source": [
        "current_year = datetime.datetime.now().year\n",
        "customer_data = customer_data.apply(lambda feature: current_year - feature if feature.name == 'Year_Birth' else feature).\\\n",
        "                              rename(columns={'Year_Birth':'Age'})"
      ],
      "execution_count": null,
      "outputs": []
    },
    {
      "cell_type": "markdown",
      "source": [
        "Also, can be seen that there are some outliers in this column, they will also be removed in a first analysis."
      ],
      "metadata": {
        "id": "DQB6FcJz6Vyt"
      }
    },
    {
      "cell_type": "code",
      "source": [
        "customer_data=customer_data[customer_data['Income']<600000]"
      ],
      "metadata": {
        "id": "Jw8S8o4m6VMw"
      },
      "execution_count": null,
      "outputs": []
    },
    {
      "cell_type": "markdown",
      "source": [
        "Now we'll create newfeatures to make easier the next steps"
      ],
      "metadata": {
        "id": "Nfm4xKSDvuOQ"
      }
    },
    {
      "cell_type": "code",
      "metadata": {
        "id": "v6-Ntya2fZWY"
      },
      "source": [
        "customer_data['Spending'] = customer_data[['MntFruits','MntWines','MntMeatProducts','MntFishProducts','MntSweetProducts','MntGoldProds']].sum(axis=1)\n",
        "customer_data['Seniority']=pd.to_datetime(customer_data['Dt_Customer'], dayfirst=True,format = '%d-%m-%Y')\n",
        "today = datetime.date.today()\n",
        "customer_data['Seniority'] = pd.to_numeric(customer_data['Seniority'].dt.date.apply(lambda x: (today - x)).dt.days, downcast='integer')/30\n",
        "customer_data.rename(columns={'NumWebPurchases': \"Web\",'NumCatalogPurchases':'Catalog','NumStorePurchases':'Store'},inplace=True)\n",
        "customer_data['Marital_Status'].replace({'Divorced':'Alone','Single':'Alone','Married':'In couple','Together':'In couple','Absurd':'Alone','Widow':'Alone','YOLO':'Alone'},inplace=True)\n",
        "customer_data['Education'].replace({'Basic':'Undergraduate','2n Cycle':'Undergraduate','Graduation':'Postgraduate','Master':'Postgraduate','PhD':'Postgraduate'},inplace=True)\n",
        "customer_data['Children']=customer_data[['Kidhome','Teenhome']].sum(axis=1)\n",
        "customer_data['Has_child'] = np.where(customer_data['Children']> 0, 'Has child', 'No child')\n",
        "customer_data=customer_data.rename(columns={'MntWines': \"Wines\",'MntFruits':'Fruits','MntMeatProducts':'Meat','MntFishProducts':'Fish','MntSweetProducts':'Sweets','MntGoldProds':'Gold'})"
      ],
      "execution_count": null,
      "outputs": []
    },
    {
      "cell_type": "code",
      "metadata": {
        "colab": {
          "base_uri": "https://localhost:8080/",
          "height": 206
        },
        "id": "SjDqFpo7j4-a",
        "outputId": "e3e0046b-eaf5-4d33-ff06-238e79b73587"
      },
      "source": [
        "customer_data=customer_data[['Age','Education','Marital_Status','Income','Spending','Seniority','Has_child','Children','Wines','Fruits','Meat','Fish','Sweets','Gold']]\n",
        "customer_data.head()\n"
      ],
      "execution_count": null,
      "outputs": [
        {
          "output_type": "execute_result",
          "data": {
            "text/html": [
              "\n",
              "  <div id=\"df-99edcc08-08f1-491a-9844-8adb1d33a359\">\n",
              "    <div class=\"colab-df-container\">\n",
              "      <div>\n",
              "<style scoped>\n",
              "    .dataframe tbody tr th:only-of-type {\n",
              "        vertical-align: middle;\n",
              "    }\n",
              "\n",
              "    .dataframe tbody tr th {\n",
              "        vertical-align: top;\n",
              "    }\n",
              "\n",
              "    .dataframe thead th {\n",
              "        text-align: right;\n",
              "    }\n",
              "</style>\n",
              "<table border=\"1\" class=\"dataframe\">\n",
              "  <thead>\n",
              "    <tr style=\"text-align: right;\">\n",
              "      <th></th>\n",
              "      <th>Age</th>\n",
              "      <th>Education</th>\n",
              "      <th>Marital_Status</th>\n",
              "      <th>Income</th>\n",
              "      <th>Spending</th>\n",
              "      <th>Seniority</th>\n",
              "      <th>Has_child</th>\n",
              "      <th>Children</th>\n",
              "      <th>Wines</th>\n",
              "      <th>Fruits</th>\n",
              "      <th>Meat</th>\n",
              "      <th>Fish</th>\n",
              "      <th>Sweets</th>\n",
              "      <th>Gold</th>\n",
              "    </tr>\n",
              "  </thead>\n",
              "  <tbody>\n",
              "    <tr>\n",
              "      <th>0</th>\n",
              "      <td>64</td>\n",
              "      <td>Postgraduate</td>\n",
              "      <td>Alone</td>\n",
              "      <td>58138.0</td>\n",
              "      <td>1617</td>\n",
              "      <td>113.266667</td>\n",
              "      <td>No child</td>\n",
              "      <td>0</td>\n",
              "      <td>635</td>\n",
              "      <td>88</td>\n",
              "      <td>546</td>\n",
              "      <td>172</td>\n",
              "      <td>88</td>\n",
              "      <td>88</td>\n",
              "    </tr>\n",
              "    <tr>\n",
              "      <th>1</th>\n",
              "      <td>67</td>\n",
              "      <td>Postgraduate</td>\n",
              "      <td>Alone</td>\n",
              "      <td>46344.0</td>\n",
              "      <td>27</td>\n",
              "      <td>94.933333</td>\n",
              "      <td>Has child</td>\n",
              "      <td>2</td>\n",
              "      <td>11</td>\n",
              "      <td>1</td>\n",
              "      <td>6</td>\n",
              "      <td>2</td>\n",
              "      <td>1</td>\n",
              "      <td>6</td>\n",
              "    </tr>\n",
              "    <tr>\n",
              "      <th>2</th>\n",
              "      <td>56</td>\n",
              "      <td>Postgraduate</td>\n",
              "      <td>In couple</td>\n",
              "      <td>71613.0</td>\n",
              "      <td>776</td>\n",
              "      <td>101.566667</td>\n",
              "      <td>No child</td>\n",
              "      <td>0</td>\n",
              "      <td>426</td>\n",
              "      <td>49</td>\n",
              "      <td>127</td>\n",
              "      <td>111</td>\n",
              "      <td>21</td>\n",
              "      <td>42</td>\n",
              "    </tr>\n",
              "    <tr>\n",
              "      <th>3</th>\n",
              "      <td>37</td>\n",
              "      <td>Postgraduate</td>\n",
              "      <td>In couple</td>\n",
              "      <td>26646.0</td>\n",
              "      <td>53</td>\n",
              "      <td>95.800000</td>\n",
              "      <td>Has child</td>\n",
              "      <td>1</td>\n",
              "      <td>11</td>\n",
              "      <td>4</td>\n",
              "      <td>20</td>\n",
              "      <td>10</td>\n",
              "      <td>3</td>\n",
              "      <td>5</td>\n",
              "    </tr>\n",
              "    <tr>\n",
              "      <th>4</th>\n",
              "      <td>40</td>\n",
              "      <td>Postgraduate</td>\n",
              "      <td>In couple</td>\n",
              "      <td>58293.0</td>\n",
              "      <td>422</td>\n",
              "      <td>96.533333</td>\n",
              "      <td>Has child</td>\n",
              "      <td>1</td>\n",
              "      <td>173</td>\n",
              "      <td>43</td>\n",
              "      <td>118</td>\n",
              "      <td>46</td>\n",
              "      <td>27</td>\n",
              "      <td>15</td>\n",
              "    </tr>\n",
              "  </tbody>\n",
              "</table>\n",
              "</div>\n",
              "      <button class=\"colab-df-convert\" onclick=\"convertToInteractive('df-99edcc08-08f1-491a-9844-8adb1d33a359')\"\n",
              "              title=\"Convert this dataframe to an interactive table.\"\n",
              "              style=\"display:none;\">\n",
              "        \n",
              "  <svg xmlns=\"http://www.w3.org/2000/svg\" height=\"24px\"viewBox=\"0 0 24 24\"\n",
              "       width=\"24px\">\n",
              "    <path d=\"M0 0h24v24H0V0z\" fill=\"none\"/>\n",
              "    <path d=\"M18.56 5.44l.94 2.06.94-2.06 2.06-.94-2.06-.94-.94-2.06-.94 2.06-2.06.94zm-11 1L8.5 8.5l.94-2.06 2.06-.94-2.06-.94L8.5 2.5l-.94 2.06-2.06.94zm10 10l.94 2.06.94-2.06 2.06-.94-2.06-.94-.94-2.06-.94 2.06-2.06.94z\"/><path d=\"M17.41 7.96l-1.37-1.37c-.4-.4-.92-.59-1.43-.59-.52 0-1.04.2-1.43.59L10.3 9.45l-7.72 7.72c-.78.78-.78 2.05 0 2.83L4 21.41c.39.39.9.59 1.41.59.51 0 1.02-.2 1.41-.59l7.78-7.78 2.81-2.81c.8-.78.8-2.07 0-2.86zM5.41 20L4 18.59l7.72-7.72 1.47 1.35L5.41 20z\"/>\n",
              "  </svg>\n",
              "      </button>\n",
              "      \n",
              "  <style>\n",
              "    .colab-df-container {\n",
              "      display:flex;\n",
              "      flex-wrap:wrap;\n",
              "      gap: 12px;\n",
              "    }\n",
              "\n",
              "    .colab-df-convert {\n",
              "      background-color: #E8F0FE;\n",
              "      border: none;\n",
              "      border-radius: 50%;\n",
              "      cursor: pointer;\n",
              "      display: none;\n",
              "      fill: #1967D2;\n",
              "      height: 32px;\n",
              "      padding: 0 0 0 0;\n",
              "      width: 32px;\n",
              "    }\n",
              "\n",
              "    .colab-df-convert:hover {\n",
              "      background-color: #E2EBFA;\n",
              "      box-shadow: 0px 1px 2px rgba(60, 64, 67, 0.3), 0px 1px 3px 1px rgba(60, 64, 67, 0.15);\n",
              "      fill: #174EA6;\n",
              "    }\n",
              "\n",
              "    [theme=dark] .colab-df-convert {\n",
              "      background-color: #3B4455;\n",
              "      fill: #D2E3FC;\n",
              "    }\n",
              "\n",
              "    [theme=dark] .colab-df-convert:hover {\n",
              "      background-color: #434B5C;\n",
              "      box-shadow: 0px 1px 3px 1px rgba(0, 0, 0, 0.15);\n",
              "      filter: drop-shadow(0px 1px 2px rgba(0, 0, 0, 0.3));\n",
              "      fill: #FFFFFF;\n",
              "    }\n",
              "  </style>\n",
              "\n",
              "      <script>\n",
              "        const buttonEl =\n",
              "          document.querySelector('#df-99edcc08-08f1-491a-9844-8adb1d33a359 button.colab-df-convert');\n",
              "        buttonEl.style.display =\n",
              "          google.colab.kernel.accessAllowed ? 'block' : 'none';\n",
              "\n",
              "        async function convertToInteractive(key) {\n",
              "          const element = document.querySelector('#df-99edcc08-08f1-491a-9844-8adb1d33a359');\n",
              "          const dataTable =\n",
              "            await google.colab.kernel.invokeFunction('convertToInteractive',\n",
              "                                                     [key], {});\n",
              "          if (!dataTable) return;\n",
              "\n",
              "          const docLinkHtml = 'Like what you see? Visit the ' +\n",
              "            '<a target=\"_blank\" href=https://colab.research.google.com/notebooks/data_table.ipynb>data table notebook</a>'\n",
              "            + ' to learn more about interactive tables.';\n",
              "          element.innerHTML = '';\n",
              "          dataTable['output_type'] = 'display_data';\n",
              "          await google.colab.output.renderOutput(dataTable, element);\n",
              "          const docLink = document.createElement('div');\n",
              "          docLink.innerHTML = docLinkHtml;\n",
              "          element.appendChild(docLink);\n",
              "        }\n",
              "      </script>\n",
              "    </div>\n",
              "  </div>\n",
              "  "
            ],
            "text/plain": [
              "   Age     Education Marital_Status   Income  ...  Meat  Fish Sweets  Gold\n",
              "0   64  Postgraduate          Alone  58138.0  ...   546   172     88    88\n",
              "1   67  Postgraduate          Alone  46344.0  ...     6     2      1     6\n",
              "2   56  Postgraduate      In couple  71613.0  ...   127   111     21    42\n",
              "3   37  Postgraduate      In couple  26646.0  ...    20    10      3     5\n",
              "4   40  Postgraduate      In couple  58293.0  ...   118    46     27    15\n",
              "\n",
              "[5 rows x 14 columns]"
            ]
          },
          "metadata": {},
          "execution_count": 55
        }
      ]
    },
    {
      "cell_type": "markdown",
      "source": [
        ""
      ],
      "metadata": {
        "id": "ZGlAIXvV_tXL"
      }
    },
    {
      "cell_type": "markdown",
      "source": [
        "# Clustering"
      ],
      "metadata": {
        "id": "a1rfMNzX_w1q"
      }
    },
    {
      "cell_type": "markdown",
      "source": [
        "To take a look at the clustering of clients in the dataset, I’ll define the segments of the clients. Here we will use 4 equally weighted customer segments:\n",
        "\n",
        "Stars: Old customers with high income and high spending nature.\n",
        "\n",
        "Neet Attention: New customers with below-average income and low spending nature. \n",
        "\n",
        "High Potential: New customers with high income and high spending nature.\n",
        "\n",
        "Leaky Bucket: Old customers with below-average income and a low spending nature."
      ],
      "metadata": {
        "id": "d6ojOI-d__zi"
      }
    },
    {
      "cell_type": "code",
      "source": [
        "scaler=StandardScaler()\n",
        "dataset_temp=customer_data[['Income','Seniority','Spending']]\n",
        "X_std=scaler.fit_transform(dataset_temp)\n",
        "X = normalize(X_std,norm='l2')\n",
        "\n",
        "gmm=GaussianMixture(n_components=4, covariance_type='spherical',max_iter=2000, random_state=5).fit(X)\n",
        "labels = gmm.predict(X)\n",
        "dataset_temp['Cluster'] = labels\n",
        "dataset_temp=dataset_temp.replace({0:'Stars',1:'Need attention',2:'High potential',3:'Leaky bucket'})\n",
        "customer_data = customer_data.merge(dataset_temp.Cluster, left_index=True, right_index=True)\n",
        "\n",
        "pd.options.display.float_format = \"{:.0f}\".format\n",
        "summary=customer_data[['Income','Spending','Seniority','Cluster']]\n",
        "summary.set_index(\"Cluster\", inplace = True)\n",
        "summary=summary.groupby('Cluster').describe().transpose()\n",
        "summary.head()"
      ],
      "metadata": {
        "id": "kiDMn9oh_y7N",
        "outputId": "7f788f52-b9a8-4f80-e41d-3ca0bfb59e86",
        "colab": {
          "base_uri": "https://localhost:8080/",
          "height": 310
        }
      },
      "execution_count": null,
      "outputs": [
        {
          "output_type": "stream",
          "name": "stderr",
          "text": [
            "/usr/local/lib/python3.7/dist-packages/ipykernel_launcher.py:8: SettingWithCopyWarning: \n",
            "A value is trying to be set on a copy of a slice from a DataFrame.\n",
            "Try using .loc[row_indexer,col_indexer] = value instead\n",
            "\n",
            "See the caveats in the documentation: https://pandas.pydata.org/pandas-docs/stable/user_guide/indexing.html#returning-a-view-versus-a-copy\n",
            "  \n"
          ]
        },
        {
          "output_type": "execute_result",
          "data": {
            "text/html": [
              "\n",
              "  <div id=\"df-472ea89c-50c5-4804-a626-957e341c949e\">\n",
              "    <div class=\"colab-df-container\">\n",
              "      <div>\n",
              "<style scoped>\n",
              "    .dataframe tbody tr th:only-of-type {\n",
              "        vertical-align: middle;\n",
              "    }\n",
              "\n",
              "    .dataframe tbody tr th {\n",
              "        vertical-align: top;\n",
              "    }\n",
              "\n",
              "    .dataframe thead th {\n",
              "        text-align: right;\n",
              "    }\n",
              "</style>\n",
              "<table border=\"1\" class=\"dataframe\">\n",
              "  <thead>\n",
              "    <tr style=\"text-align: right;\">\n",
              "      <th></th>\n",
              "      <th>Cluster</th>\n",
              "      <th>High potential</th>\n",
              "      <th>Leaky bucket</th>\n",
              "      <th>Need attention</th>\n",
              "      <th>Stars</th>\n",
              "    </tr>\n",
              "  </thead>\n",
              "  <tbody>\n",
              "    <tr>\n",
              "      <th rowspan=\"5\" valign=\"top\">Income</th>\n",
              "      <th>count</th>\n",
              "      <td>584</td>\n",
              "      <td>641</td>\n",
              "      <td>528</td>\n",
              "      <td>462</td>\n",
              "    </tr>\n",
              "    <tr>\n",
              "      <th>mean</th>\n",
              "      <td>34757</td>\n",
              "      <td>37705</td>\n",
              "      <td>69542</td>\n",
              "      <td>73438</td>\n",
              "    </tr>\n",
              "    <tr>\n",
              "      <th>std</th>\n",
              "      <td>12075</td>\n",
              "      <td>12397</td>\n",
              "      <td>12006</td>\n",
              "      <td>13753</td>\n",
              "    </tr>\n",
              "    <tr>\n",
              "      <th>min</th>\n",
              "      <td>2447</td>\n",
              "      <td>1730</td>\n",
              "      <td>44802</td>\n",
              "      <td>49090</td>\n",
              "    </tr>\n",
              "    <tr>\n",
              "      <th>25%</th>\n",
              "      <td>26489</td>\n",
              "      <td>28839</td>\n",
              "      <td>60880</td>\n",
              "      <td>65298</td>\n",
              "    </tr>\n",
              "  </tbody>\n",
              "</table>\n",
              "</div>\n",
              "      <button class=\"colab-df-convert\" onclick=\"convertToInteractive('df-472ea89c-50c5-4804-a626-957e341c949e')\"\n",
              "              title=\"Convert this dataframe to an interactive table.\"\n",
              "              style=\"display:none;\">\n",
              "        \n",
              "  <svg xmlns=\"http://www.w3.org/2000/svg\" height=\"24px\"viewBox=\"0 0 24 24\"\n",
              "       width=\"24px\">\n",
              "    <path d=\"M0 0h24v24H0V0z\" fill=\"none\"/>\n",
              "    <path d=\"M18.56 5.44l.94 2.06.94-2.06 2.06-.94-2.06-.94-.94-2.06-.94 2.06-2.06.94zm-11 1L8.5 8.5l.94-2.06 2.06-.94-2.06-.94L8.5 2.5l-.94 2.06-2.06.94zm10 10l.94 2.06.94-2.06 2.06-.94-2.06-.94-.94-2.06-.94 2.06-2.06.94z\"/><path d=\"M17.41 7.96l-1.37-1.37c-.4-.4-.92-.59-1.43-.59-.52 0-1.04.2-1.43.59L10.3 9.45l-7.72 7.72c-.78.78-.78 2.05 0 2.83L4 21.41c.39.39.9.59 1.41.59.51 0 1.02-.2 1.41-.59l7.78-7.78 2.81-2.81c.8-.78.8-2.07 0-2.86zM5.41 20L4 18.59l7.72-7.72 1.47 1.35L5.41 20z\"/>\n",
              "  </svg>\n",
              "      </button>\n",
              "      \n",
              "  <style>\n",
              "    .colab-df-container {\n",
              "      display:flex;\n",
              "      flex-wrap:wrap;\n",
              "      gap: 12px;\n",
              "    }\n",
              "\n",
              "    .colab-df-convert {\n",
              "      background-color: #E8F0FE;\n",
              "      border: none;\n",
              "      border-radius: 50%;\n",
              "      cursor: pointer;\n",
              "      display: none;\n",
              "      fill: #1967D2;\n",
              "      height: 32px;\n",
              "      padding: 0 0 0 0;\n",
              "      width: 32px;\n",
              "    }\n",
              "\n",
              "    .colab-df-convert:hover {\n",
              "      background-color: #E2EBFA;\n",
              "      box-shadow: 0px 1px 2px rgba(60, 64, 67, 0.3), 0px 1px 3px 1px rgba(60, 64, 67, 0.15);\n",
              "      fill: #174EA6;\n",
              "    }\n",
              "\n",
              "    [theme=dark] .colab-df-convert {\n",
              "      background-color: #3B4455;\n",
              "      fill: #D2E3FC;\n",
              "    }\n",
              "\n",
              "    [theme=dark] .colab-df-convert:hover {\n",
              "      background-color: #434B5C;\n",
              "      box-shadow: 0px 1px 3px 1px rgba(0, 0, 0, 0.15);\n",
              "      filter: drop-shadow(0px 1px 2px rgba(0, 0, 0, 0.3));\n",
              "      fill: #FFFFFF;\n",
              "    }\n",
              "  </style>\n",
              "\n",
              "      <script>\n",
              "        const buttonEl =\n",
              "          document.querySelector('#df-472ea89c-50c5-4804-a626-957e341c949e button.colab-df-convert');\n",
              "        buttonEl.style.display =\n",
              "          google.colab.kernel.accessAllowed ? 'block' : 'none';\n",
              "\n",
              "        async function convertToInteractive(key) {\n",
              "          const element = document.querySelector('#df-472ea89c-50c5-4804-a626-957e341c949e');\n",
              "          const dataTable =\n",
              "            await google.colab.kernel.invokeFunction('convertToInteractive',\n",
              "                                                     [key], {});\n",
              "          if (!dataTable) return;\n",
              "\n",
              "          const docLinkHtml = 'Like what you see? Visit the ' +\n",
              "            '<a target=\"_blank\" href=https://colab.research.google.com/notebooks/data_table.ipynb>data table notebook</a>'\n",
              "            + ' to learn more about interactive tables.';\n",
              "          element.innerHTML = '';\n",
              "          dataTable['output_type'] = 'display_data';\n",
              "          await google.colab.output.renderOutput(dataTable, element);\n",
              "          const docLink = document.createElement('div');\n",
              "          docLink.innerHTML = docLinkHtml;\n",
              "          element.appendChild(docLink);\n",
              "        }\n",
              "      </script>\n",
              "    </div>\n",
              "  </div>\n",
              "  "
            ],
            "text/plain": [
              "Cluster       High potential  Leaky bucket  Need attention  Stars\n",
              "Income count             584           641             528    462\n",
              "       mean            34757         37705           69542  73438\n",
              "       std             12075         12397           12006  13753\n",
              "       min              2447          1730           44802  49090\n",
              "       25%             26489         28839           60880  65298"
            ]
          },
          "metadata": {},
          "execution_count": 61
        }
      ]
    },
    {
      "cell_type": "code",
      "source": [
        "PLOT = go.Figure()\n",
        "for C in list(customer_data.Cluster.unique()):\n",
        "    \n",
        "\n",
        "    PLOT.add_trace(go.Scatter3d(x = customer_data[customer_data.Cluster == C]['Income'],\n",
        "                                y = customer_data[customer_data.Cluster == C]['Seniority'],\n",
        "                                z = customer_data[customer_data.Cluster == C]['Spending'],                        \n",
        "                                mode = 'markers',marker_size = 6, marker_line_width = 1,\n",
        "                                name = str(C)))\n",
        "PLOT.update_traces(hovertemplate='Income: %{x} <br>Seniority: %{y} <br>Spending: %{z}')\n",
        "\n",
        "    \n",
        "PLOT.update_layout(width = 800, height = 800, autosize = True, showlegend = True,\n",
        "                   scene = dict(xaxis=dict(title = 'Income', titlefont_color = 'black'),\n",
        "                                yaxis=dict(title = 'Seniority', titlefont_color = 'black'),\n",
        "                                zaxis=dict(title = 'Spending', titlefont_color = 'black')),\n",
        "                   font = dict(family = \"Gilroy\", color  = 'black', size = 12))"
      ],
      "metadata": {
        "id": "SRqZbZiZAryo",
        "outputId": "7243cca6-5b5d-4241-da88-f4664367bd2c",
        "colab": {
          "base_uri": "https://localhost:8080/",
          "height": 817
        }
      },
      "execution_count": null,
      "outputs": [
        {
          "output_type": "display_data",
          "data": {
            "text/html": [
              "<html>\n",
              "<head><meta charset=\"utf-8\" /></head>\n",
              "<body>\n",
              "    <div>\n",
              "            <script src=\"https://cdnjs.cloudflare.com/ajax/libs/mathjax/2.7.5/MathJax.js?config=TeX-AMS-MML_SVG\"></script><script type=\"text/javascript\">if (window.MathJax) {MathJax.Hub.Config({SVG: {font: \"STIX-Web\"}});}</script>\n",
              "                <script type=\"text/javascript\">window.PlotlyConfig = {MathJaxConfig: 'local'};</script>\n",
              "        <script src=\"https://cdn.plot.ly/plotly-latest.min.js\"></script>    \n",
              "            <div id=\"dd571cdb-4ebd-4eeb-a06e-97b5fe83a738\" class=\"plotly-graph-div\" style=\"height:800px; width:800px;\"></div>\n",
              "            <script type=\"text/javascript\">\n",
              "                \n",
              "                    window.PLOTLYENV=window.PLOTLYENV || {};\n",
              "                    \n",
              "                if (document.getElementById(\"dd571cdb-4ebd-4eeb-a06e-97b5fe83a738\")) {\n",
              "                    Plotly.newPlot(\n",
              "                        'dd571cdb-4ebd-4eeb-a06e-97b5fe83a738',\n",
              "                        [{\"hovertemplate\": \"Income: %{x} <br>Seniority: %{y} <br>Spending: %{z}\", \"marker\": {\"line\": {\"width\": 1}, \"size\": 6}, \"mode\": \"markers\", \"name\": \"Need attention\", \"type\": \"scatter3d\", \"x\": [58138.0, 55635.0, 82800.0, 76995.0, 58607.0, 68657.0, 48948.0, 80011.0, 72550.0, 79143.0, 66373.0, 82384.0, 70287.0, 75777.0, 66653.0, 61823.0, 67680.0, 74854.0, 66991.0, 65031.0, 60631.0, 75251.0, 75825.0, 56046.0, 85693.0, 65846.0, 52413.0, 89058.0, 68126.0, 86037.0, 56129.0, 101970.0, 71488.0, 79607.0, 61331.0, 62981.0, 92859.0, 86111.0, 59809.0, 61010.0, 69372.0, 70356.0, 74165.0, 80427.0, 83837.0, 74068.0, 66973.0, 86718.0, 102160.0, 64497.0, 70951.0, 69508.0, 63887.0, 51537.0, 79930.0, 81975.0, 62745.0, 64961.0, 61074.0, 80134.0, 75027.0, 67546.0, 65176.0, 102692.0, 75702.0, 63342.0, 69674.0, 72940.0, 69267.0, 60714.0, 69867.0, 63841.0, 75278.0, 50898.0, 82497.0, 55951.0, 68627.0, 80950.0, 70893.0, 66503.0, 64795.0, 64325.0, 62187.0, 66334.0, 62204.0, 75693.0, 83003.0, 68655.0, 55212.0, 59292.0, 71952.0, 72099.0, 60000.0, 68462.0, 78618.0, 54803.0, 79530.0, 72025.0, 52614.0, 63810.0, 63381.0, 83664.0, 75276.0, 53858.0, 66465.0, 75072.0, 91065.0, 49505.0, 82584.0, 93027.0, 61314.0, 84865.0, 67309.0, 57959.0, 56796.0, 65991.0, 89572.0, 66664.0, 75261.0, 49269.0, 61456.0, 56937.0, 62503.0, 62010.0, 83151.0, 78825.0, 60093.0, 78952.0, 76005.0, 58308.0, 59432.0, 78642.0, 65275.0, 64355.0, 53653.0, 61250.0, 60152.0, 81169.0, 70503.0, 61839.0, 54058.0, 54880.0, 79908.0, 87771.0, 81741.0, 66565.0, 61996.0, 79800.0, 92163.0, 62807.0, 61467.0, 48240.0, 72635.0, 84196.0, 70971.0, 83917.0, 84574.0, 63120.0, 63381.0, 62859.0, 77632.0, 105471.0, 67445.0, 56253.0, 66731.0, 52614.0, 81300.0, 68743.0, 66476.0, 86857.0, 160803.0, 71952.0, 55250.0, 58398.0, 76618.0, 87305.0, 58710.0, 74806.0, 59111.0, 72190.0, 89891.0, 66373.0, 67432.0, 62882.0, 64108.0, 83844.0, 80952.0, 63855.0, 62220.0, 74985.0, 67430.0, 62058.0, 62847.0, 82017.0, 60161.0, 73926.0, 48192.0, 59666.0, 72504.0, 52750.0, 76412.0, 87771.0, 78353.0, 93404.0, 80995.0, 56575.0, 71391.0, 81702.0, 61618.0, 55284.0, 82347.0, 60474.0, 55357.0, 85710.0, 86857.0, 82072.0, 48948.0, 55260.0, 81320.0, 78420.0, 52278.0, 95529.0, 62820.0, 74637.0, 72354.0, 64950.0, 67536.0, 64831.0, 82025.0, 94384.0, 51563.0, 67893.0, 59754.0, 53700.0, 70647.0, 80573.0, 82576.0, 79689.0, 78028.0, 56337.0, 65569.0, 83844.0, 77568.0, 64504.0, 56320.0, 68316.0, 74538.0, 91700.0, 69098.0, 70596.0, 72228.0, 67605.0, 62845.0, 64176.0, 70713.0, 59925.0, 88347.0, 87171.0, 79456.0, 75345.0, 54233.0, 84460.0, 80910.0, 56775.0, 76773.0, 81698.0, 86358.0, 67381.0, 85606.0, 85696.0, 56129.0, 54450.0, 57513.0, 68142.0, 83145.0, 56715.0, 57304.0, 54450.0, 59594.0, 80685.0, 62710.0, 77142.0, 74214.0, 54959.0, 78579.0, 67369.0, 63841.0, 70091.0, 59184.0, 58113.0, 50965.0, 65748.0, 74918.0, 77297.0, 75032.0, 77766.0, 62972.0, 76653.0, 90687.0, 53378.0, 64191.0, 57183.0, 66303.0, 71847.0, 78687.0, 49118.0, 83151.0, 52531.0, 57811.0, 94384.0, 71626.0, 60894.0, 59868.0, 64857.0, 81843.0, 72828.0, 88097.0, 71853.0, 62845.0, 85696.0, 76542.0, 69109.0, 69627.0, 58554.0, 52203.0, 75154.0, 56242.0, 63841.0, 69389.0, 80134.0, 57537.0, 63810.0, 78427.0, 78041.0, 52852.0, 49476.0, 83844.0, 67419.0, 94871.0, 65148.0, 64857.0, 60474.0, 62807.0, 75484.0, 70379.0, 76998.0, 60585.0, 87679.0, 53374.0, 71706.0, 68487.0, 54108.0, 49667.0, 46772.0, 53977.0, 73538.0, 55759.0, 87188.0, 69930.0, 58597.0, 57036.0, 71969.0, 59235.0, 74881.0, 65819.0, 51983.0, 66033.0, 63943.0, 67445.0, 63972.0, 55517.0, 75283.0, 82800.0, 60482.0, 74268.0, 76445.0, 53843.0, 90226.0, 70638.0, 71855.0, 51250.0, 68655.0, 52973.0, 66664.0, 47111.0, 59821.0, 56386.0, 57136.0, 82014.0, 77766.0, 80141.0, 72635.0, 69016.0, 78789.0, 58350.0, 61787.0, 62335.0, 86580.0, 61064.0, 58656.0, 80398.0, 60230.0, 55424.0, 92491.0, 74881.0, 71107.0, 75342.0, 70044.0, 70321.0, 58086.0, 81795.0, 69901.0, 80360.0, 63342.0, 77981.0, 67131.0, 71853.0, 70596.0, 85431.0, 64590.0, 60839.0, 75702.0, 53977.0, 63159.0, 46757.0, 63207.0, 72071.0, 52513.0, 78394.0, 80739.0, 54693.0, 62972.0, 57333.0, 84953.0, 86836.0, 83257.0, 72159.0, 64260.0, 70116.0, 69063.0, 69109.0, 60208.0, 69932.0, 60200.0, 69702.0, 70300.0, 70643.0, 62772.0, 67546.0, 59292.0, 62820.0, 67384.0, 80573.0, 77870.0, 52278.0, 91249.0, 80982.0, 55212.0, 70617.0, 64849.0, 62694.0, 75903.0, 54356.0, 70792.0, 63211.0, 72335.0, 96843.0, 70053.0, 71670.0, 72643.0, 55686.0, 79205.0, 63684.0, 71964.0, 68281.0, 71322.0, 49912.0, 68117.0, 55914.0, 75330.0, 60689.0, 61416.0, 49767.0, 83273.0, 76467.0, 71128.0, 59462.0, 67445.0, 67046.0, 77610.0, 69520.0, 68487.0, 56796.0, 87000.0, 79244.0, 49912.0, 81929.0, 76068.0, 72967.0, 82332.0, 58275.0, 44953.0, 72217.0, 53230.0, 82333.0, 65220.0, 72309.0, 69209.0, 60896.0, 74859.0, 72071.0, 91172.0, 65706.0, 79174.0, 81380.0, 67716.0, 89616.0, 82347.0, 73803.0, 57731.0, 73807.0, 61014.0, 80617.0, 75777.0, 58554.0, 63777.0, 44802.0, 61223.0], \"y\": [113.26666666666667, 110.93333333333334, 110.56666666666666, 106.43333333333334, 109.6, 107.63333333333334, 108.26666666666667, 105.36666666666666, 111.1, 114.06666666666666, 103.9, 110.73333333333333, 106.26666666666667, 103.16666666666667, 113.16666666666667, 107.7, 103.93333333333334, 106.06666666666666, 113.03333333333333, 106.8, 106.16666666666667, 113.53333333333333, 112.0, 109.26666666666667, 105.66666666666667, 104.76666666666667, 108.23333333333333, 110.13333333333334, 111.03333333333333, 109.26666666666667, 103.63333333333334, 106.96666666666667, 107.7, 105.63333333333334, 107.03333333333333, 106.8, 111.76666666666667, 105.7, 111.8, 112.1, 107.66666666666667, 111.2, 105.3, 113.0, 109.83333333333333, 106.73333333333333, 104.76666666666667, 108.76666666666667, 111.3, 113.06666666666666, 105.2, 110.9, 113.13333333333334, 110.06666666666666, 114.16666666666667, 109.16666666666667, 106.6, 109.6, 113.86666666666666, 104.66666666666667, 109.03333333333333, 113.4, 111.43333333333334, 106.16666666666667, 113.46666666666667, 111.86666666666666, 104.6, 103.66666666666667, 112.66666666666667, 108.76666666666667, 106.26666666666667, 105.63333333333334, 108.36666666666666, 109.06666666666666, 111.36666666666666, 113.66666666666667, 108.93333333333334, 106.43333333333334, 108.1, 113.96666666666667, 108.76666666666667, 108.06666666666666, 103.13333333333334, 106.23333333333333, 113.0, 110.16666666666667, 107.26666666666667, 114.1, 110.6, 103.86666666666666, 109.0, 111.5, 109.63333333333334, 109.96666666666667, 112.46666666666667, 113.73333333333333, 104.76666666666667, 110.8, 110.33333333333333, 111.0, 112.23333333333333, 105.06666666666666, 112.5, 111.06666666666666, 106.36666666666666, 108.56666666666666, 107.56666666666666, 107.2, 104.16666666666667, 105.9, 105.5, 105.03333333333333, 108.56666666666666, 105.26666666666667, 107.76666666666667, 113.16666666666667, 112.9, 112.56666666666666, 105.56666666666666, 113.93333333333334, 106.46666666666667, 114.3, 107.7, 111.63333333333334, 112.06666666666666, 112.93333333333334, 103.43333333333334, 112.6, 107.56666666666666, 108.93333333333334, 105.9, 105.63333333333334, 106.23333333333333, 113.63333333333334, 111.13333333333334, 109.83333333333333, 106.43333333333334, 105.86666666666666, 112.4, 114.03333333333333, 104.16666666666667, 107.33333333333333, 106.16666666666667, 104.6, 103.76666666666667, 110.2, 108.3, 112.63333333333334, 109.96666666666667, 113.4, 110.06666666666666, 111.06666666666666, 104.2, 104.2, 112.7, 105.73333333333333, 104.16666666666667, 112.46666666666667, 112.23333333333333, 109.36666666666666, 107.03333333333333, 108.63333333333334, 114.03333333333333, 110.13333333333334, 113.0, 110.33333333333333, 111.4, 113.43333333333334, 107.13333333333334, 113.0, 114.3, 109.0, 111.7, 104.86666666666666, 110.13333333333334, 112.63333333333334, 106.33333333333333, 109.73333333333333, 105.26666666666667, 107.86666666666666, 105.83333333333333, 103.9, 106.4, 114.13333333333334, 106.6, 104.93333333333334, 107.36666666666666, 108.0, 114.06666666666666, 113.03333333333333, 113.23333333333333, 104.46666666666667, 108.83333333333333, 111.13333333333334, 111.63333333333334, 107.3, 106.13333333333334, 106.63333333333334, 106.13333333333334, 108.16666666666667, 105.16666666666667, 104.6, 105.8, 105.1, 104.96666666666667, 105.16666666666667, 106.4, 112.63333333333334, 112.43333333333334, 109.56666666666666, 111.16666666666667, 106.3, 107.66666666666667, 105.16666666666667, 113.0, 103.23333333333333, 108.26666666666667, 109.96666666666667, 108.1, 103.33333333333333, 108.5, 110.26666666666667, 104.96666666666667, 104.73333333333333, 105.76666666666667, 114.03333333333333, 104.6, 103.96666666666667, 104.4, 107.23333333333333, 112.36666666666666, 112.36666666666666, 110.33333333333333, 113.86666666666666, 112.7, 111.93333333333334, 114.4, 104.93333333333334, 113.06666666666666, 106.46666666666667, 111.2, 104.93333333333334, 113.6, 107.23333333333333, 106.06666666666666, 111.23333333333333, 103.33333333333333, 108.76666666666667, 107.76666666666667, 112.23333333333333, 110.46666666666667, 106.33333333333333, 112.36666666666666, 114.33333333333333, 110.26666666666667, 110.36666666666666, 103.2, 105.3, 113.7, 108.23333333333333, 108.16666666666667, 109.2, 111.36666666666666, 109.26666666666667, 107.46666666666667, 107.33333333333333, 114.16666666666667, 108.83333333333333, 110.96666666666667, 105.23333333333333, 103.63333333333334, 112.93333333333334, 103.1, 113.46666666666667, 112.66666666666667, 110.2, 107.0, 112.93333333333334, 111.73333333333333, 113.7, 104.56666666666666, 104.36666666666666, 113.56666666666666, 108.7, 109.63333333333334, 110.8, 105.63333333333334, 106.33333333333333, 113.1, 108.5, 107.63333333333334, 105.83333333333333, 106.96666666666667, 108.46666666666667, 105.4, 107.56666666666666, 114.33333333333333, 101.73333333333333, 104.6, 112.6, 108.6, 106.73333333333333, 107.43333333333334, 112.7, 114.13333333333334, 113.83333333333333, 107.96666666666667, 109.36666666666666, 103.5, 107.23333333333333, 111.33333333333333, 103.36666666666666, 102.56666666666666, 110.6, 105.6, 107.83333333333333, 113.83333333333333, 105.06666666666666, 112.36666666666666, 105.23333333333333, 106.36666666666666, 111.06666666666666, 106.8, 112.53333333333333, 114.43333333333334, 113.26666666666667, 107.26666666666667, 105.63333333333334, 112.46666666666667, 104.66666666666667, 103.96666666666667, 111.0, 111.6, 109.83333333333333, 110.33333333333333, 103.63333333333334, 104.93333333333334, 108.8, 113.36666666666666, 110.83333333333333, 110.6, 106.3, 113.4, 114.36666666666666, 107.26666666666667, 108.96666666666667, 103.5, 102.4, 113.9, 110.93333333333334, 108.9, 111.2, 113.76666666666667, 111.13333333333334, 104.03333333333333, 110.53333333333333, 110.43333333333334, 104.2, 104.46666666666667, 110.7, 110.0, 111.86666666666666, 108.93333333333334, 107.1, 110.4, 113.4, 108.66666666666667, 113.33333333333333, 114.03333333333333, 110.3, 112.5, 106.46666666666667, 110.56666666666666, 108.56666666666666, 107.83333333333333, 112.46666666666667, 103.4, 112.53333333333333, 104.26666666666667, 108.8, 106.36666666666666, 114.1, 111.1, 112.56666666666666, 113.13333333333334, 105.93333333333334, 111.5, 104.73333333333333, 113.76666666666667, 107.56666666666666, 108.96666666666667, 104.2, 110.63333333333334, 114.16666666666667, 109.2, 103.1, 104.56666666666666, 107.4, 113.4, 112.73333333333333, 111.03333333333333, 104.66666666666667, 110.53333333333333, 105.3, 107.1, 107.73333333333333, 105.13333333333334, 107.7, 108.8, 108.66666666666667, 111.53333333333333, 104.36666666666666, 107.26666666666667, 111.86666666666666, 104.46666666666667, 106.5, 105.06666666666666, 112.23333333333333, 104.03333333333333, 111.93333333333334, 113.5, 111.93333333333334, 104.03333333333333, 111.2, 110.83333333333333, 108.66666666666667, 107.83333333333333, 113.26666666666667, 107.8, 104.56666666666666, 107.73333333333333, 114.33333333333333, 112.66666666666667, 104.2, 113.0, 112.8, 111.43333333333334, 108.96666666666667, 108.46666666666667, 111.13333333333334, 111.06666666666666, 112.16666666666667, 103.9, 109.26666666666667, 107.66666666666667, 102.8, 111.9, 104.7, 113.4, 103.86666666666666, 104.96666666666667, 111.03333333333333, 111.93333333333334, 113.7, 108.5, 111.73333333333333, 109.06666666666666, 110.6, 103.53333333333333, 110.93333333333334, 103.73333333333333, 106.06666666666666, 110.73333333333333, 108.1, 111.3, 114.0, 105.56666666666666, 103.2, 103.0, 107.4, 107.83333333333333, 113.46666666666667, 110.5, 104.66666666666667, 114.2, 107.76666666666667, 113.16666666666667, 107.03333333333333, 105.36666666666666, 112.26666666666667, 104.26666666666667, 108.03333333333333, 105.26666666666667, 112.56666666666666, 113.86666666666666, 112.2, 109.16666666666667, 114.03333333333333, 109.13333333333334, 111.43333333333334, 103.06666666666666, 108.9, 107.76666666666667, 109.86666666666666, 109.73333333333333, 113.16666666666667, 112.43333333333334, 110.4, 109.86666666666666, 112.83333333333333, 104.23333333333333, 109.66666666666667, 106.0, 114.33333333333333, 106.36666666666666, 113.3, 107.0, 112.83333333333333, 112.03333333333333, 104.2, 107.83333333333333, 106.46666666666667, 103.36666666666666, 108.96666666666667, 109.63333333333334, 109.0, 107.46666666666667, 111.16666666666667, 114.4, 110.6, 109.26666666666667, 114.06666666666666, 112.0, 103.16666666666667, 112.53333333333333, 106.56666666666666, 113.73333333333333, 103.86666666666666], \"z\": [1617, 590, 1315, 1782, 972, 1196, 902, 1395, 1319, 1693, 606, 1957, 1093, 1438, 612, 884, 606, 1562, 1253, 863, 661, 1890, 2209, 692, 1169, 1120, 910, 850, 1820, 730, 660, 1135, 559, 1923, 632, 1482, 2077, 1385, 877, 1021, 1381, 1706, 1293, 1835, 1318, 1581, 1282, 1270, 1240, 1804, 1198, 1135, 1245, 1103, 1753, 1588, 1117, 1009, 1102, 1690, 1390, 2126, 1531, 1112, 1148, 1101, 845, 981, 1635, 957, 925, 908, 930, 859, 1919, 1374, 825, 1213, 1508, 401, 680, 1307, 1283, 1161, 946, 1442, 1674, 1538, 1182, 507, 1443, 1188, 1277, 1670, 2153, 693, 1348, 1932, 990, 1371, 1005, 1173, 1040, 915, 1485, 1073, 1474, 751, 1435, 2119, 1008, 1688, 1082, 868, 1001, 971, 2059, 1289, 1743, 890, 1388, 906, 973, 530, 747, 895, 735, 2092, 1722, 900, 663, 1816, 746, 1445, 1210, 730, 943, 2089, 1727, 1895, 662, 795, 1772, 1957, 1572, 1065, 1230, 1867, 2086, 819, 594, 882, 981, 1237, 1825, 1587, 1375, 1477, 1005, 1307, 2252, 1724, 1174, 597, 1029, 990, 1241, 2074, 689, 2114, 1717, 1443, 903, 596, 1511, 1152, 1185, 965, 869, 1947, 836, 606, 1335, 1338, 1099, 1574, 1757, 1006, 1226, 1869, 1364, 450, 1612, 729, 1071, 1580, 1526, 1027, 1478, 860, 1808, 1957, 1576, 1616, 1482, 542, 1043, 1633, 1345, 764, 1853, 1180, 727, 1062, 2114, 2018, 902, 1139, 928, 1453, 1198, 1990, 976, 1650, 1228, 966, 1829, 1120, 1187, 2302, 1250, 995, 475, 694, 1079, 1564, 1910, 1315, 528, 724, 859, 1574, 2194, 1314, 702, 1211, 1461, 1968, 2440, 968, 1250, 938, 1178, 1826, 1477, 766, 2116, 1298, 1401, 2087, 981, 523, 756, 937, 1156, 1104, 1722, 957, 1956, 1313, 660, 684, 1060, 1459, 1833, 1020, 1026, 684, 499, 1004, 606, 990, 1711, 1232, 1812, 1461, 908, 1161, 1072, 758, 685, 545, 2047, 789, 1215, 1529, 587, 2279, 1779, 793, 825, 610, 1286, 1192, 2130, 1229, 2346, 794, 802, 2302, 1305, 832, 1194, 1540, 1643, 1678, 844, 1149, 1178, 1313, 1483, 1555, 861, 586, 939, 1143, 971, 908, 797, 1690, 545, 1371, 1930, 1319, 879, 795, 1574, 1471, 1078, 1115, 1540, 1180, 819, 1159, 860, 1910, 736, 2524, 1064, 1443, 1366, 747, 1396, 1048, 907, 1658, 854, 1923, 1662, 733, 1513, 1086, 1128, 964, 1383, 793, 677, 1106, 1174, 1269, 633, 1019, 1315, 507, 892, 1410, 562, 2352, 1334, 1141, 710, 1538, 1152, 1289, 1092, 734, 612, 1179, 1511, 1529, 2091, 981, 1533, 1754, 1001, 1319, 708, 746, 1080, 1220, 1597, 1067, 877, 2034, 964, 1327, 563, 1504, 1376, 792, 1382, 882, 2231, 1101, 664, 976, 1149, 968, 1165, 1338, 1250, 1921, 907, 1797, 1143, 1502, 1338, 1149, 1428, 1633, 929, 587, 1662, 1024, 557, 1365, 1401, 1574, 1536, 928, 1555, 656, 1049, 685, 1039, 1596, 1828, 946, 2126, 507, 976, 1490, 1564, 1815, 1198, 1676, 1191, 1182, 1280, 1336, 749, 901, 775, 1272, 1173, 2092, 1544, 1012, 1766, 1429, 982, 895, 1464, 1870, 1655, 1305, 874, 930, 1260, 1109, 639, 1665, 692, 1392, 1575, 1615, 1088, 1174, 993, 1680, 1455, 1366, 1001, 961, 1216, 874, 2053, 1376, 497, 2006, 615, 1021, 1573, 732, 1822, 1282, 1931, 1782, 1701, 1565, 1338, 1092, 1199, 2043, 1893, 1016, 1644, 1853, 1528, 704, 849, 1147, 1435, 1438, 586, 653, 1049, 1341]}, {\"hovertemplate\": \"Income: %{x} <br>Seniority: %{y} <br>Spending: %{z}\", \"marker\": {\"line\": {\"width\": 1}, \"size\": 6}, \"mode\": \"markers\", \"name\": \"Leaky bucket\", \"type\": \"scatter3d\", \"x\": [46344.0, 26646.0, 58293.0, 5648.0, 59354.0, 10979.0, 49389.0, 23718.0, 42429.0, 7500.0, 27938.0, 32474.0, 28332.0, 26326.0, 29440.0, 36138.0, 50388.0, 54178.0, 42394.0, 23626.0, 30096.0, 47823.0, 34554.0, 24594.0, 49096.0, 50785.0, 21918.0, 32557.0, 19510.0, 54348.0, 41551.0, 35860.0, 36921.0, 38547.0, 49605.0, 34176.0, 49967.0, 60199.0, 55375.0, 23228.0, 43482.0, 52332.0, 26091.0, 33456.0, 50447.0, 53537.0, 52074.0, 38853.0, 38285.0, 51650.0, 16248.0, 30477.0, 28249.0, 32303.0, 36640.0, 31353.0, 46854.0, 40637.0, 29604.0, 44794.0, 41443.0, 52195.0, 44551.0, 45204.0, 34320.0, 15033.0, 22212.0, 23661.0, 7500.0, 60182.0, 22804.0, 31686.0, 31160.0, 29938.0, 40737.0, 44159.0, 22070.0, 31788.0, 61905.0, 29315.0, 44319.0, 38361.0, 16626.0, 35246.0, 46377.0, 39747.0, 23976.0, 12571.0, 22574.0, 54198.0, 28839.0, 40321.0, 30833.0, 47025.0, 27255.0, 33996.0, 41411.0, 27190.0, 33181.0, 38643.0, 46681.0, 28442.0, 35684.0, 29548.0, 19986.0, 36143.0, 43795.0, 62499.0, 42373.0, 55521.0, 48006.0, 19789.0, 37401.0, 30096.0, 18492.0, 48686.0, 10404.0, 30015.0, 51529.0, 32011.0, 56223.0, 18100.0, 20130.0, 42618.0, 55707.0, 36230.0, 50300.0, 50520.0, 33183.0, 53790.0, 37406.0, 20518.0, 41644.0, 38961.0, 37760.0, 43057.0, 14045.0, 55563.0, 48330.0, 48920.0, 30630.0, 42691.0, 50353.0, 49154.0, 44931.0, 57247.0, 22944.0, 25315.0, 24683.0, 47850.0, 19514.0, 27159.0, 39548.0, 21474.0, 15315.0, 33039.0, 48799.0, 52157.0, 29298.0, 47691.0, 38443.0, 38593.0, 36959.0, 51287.0, 13260.0, 47472.0, 54603.0, 47821.0, 39453.0, 26850.0, 53863.0, 24221.0, 33178.0, 17459.0, 42169.0, 42429.0, 26877.0, 45006.0, 22574.0, 45837.0, 54456.0, 36975.0, 32218.0, 46102.0, 46463.0, 55282.0, 50616.0, 61278.0, 46734.0, 19986.0, 21063.0, 54690.0, 26751.0, 41039.0, 38946.0, 42315.0, 13084.0, 61923.0, 34824.0, 45938.0, 41335.0, 35682.0, 50272.0, 45160.0, 18988.0, 44794.0, 56962.0, 35946.0, 45072.0, 48767.0, 38702.0, 17003.0, 33697.0, 51518.0, 38829.0, 35523.0, 46891.0, 40760.0, 51124.0, 36283.0, 20587.0, 30467.0, 17144.0, 43783.0, 51267.0, 19329.0, 49681.0, 56850.0, 55267.0, 26872.0, 30772.0, 25804.0, 22063.0, 16529.0, 55412.0, 25130.0, 34026.0, 34176.0, 49980.0, 30843.0, 46374.0, 38576.0, 23228.0, 44602.0, 49514.0, 19485.0, 21675.0, 42395.0, 24762.0, 36627.0, 51111.0, 42243.0, 26868.0, 37087.0, 21846.0, 54137.0, 57100.0, 45684.0, 47889.0, 45921.0, 42607.0, 46015.0, 34469.0, 46107.0, 32892.0, 39771.0, 27922.0, 52190.0, 46106.0, 59041.0, 52597.0, 40233.0, 50183.0, 56962.0, 35704.0, 46779.0, 4861.0, 33462.0, 35340.0, 64587.0, 34824.0, 26091.0, 46086.0, 19514.0, 49187.0, 38196.0, 34961.0, 33564.0, 28647.0, 32173.0, 37334.0, 46423.0, 37126.0, 34728.0, 33585.0, 28764.0, 53312.0, 35860.0, 32892.0, 39722.0, 46610.0, 26907.0, 50014.0, 40479.0, 24163.0, 43776.0, 39190.0, 57236.0, 38508.0, 53187.0, 30023.0, 50870.0, 15315.0, 54466.0, 16269.0, 33569.0, 36262.0, 47025.0, 48526.0, 46931.0, 25930.0, 42693.0, 49669.0, 10979.0, 21282.0, 33419.0, 21255.0, 42162.0, 57744.0, 54197.0, 23091.0, 46049.0, 44375.0, 40344.0, 48985.0, 14421.0, 20130.0, 47353.0, 26954.0, 22327.0, 44393.0, 45894.0, 58401.0, 62307.0, 46891.0, 54809.0, 51412.0, 18351.0, 40451.0, 42213.0, 26228.0, 40211.0, 33438.0, 54730.0, 38452.0, 41986.0, 37395.0, 55249.0, 44213.0, 25707.0, 59062.0, 1730.0, 20427.0, 39356.0, 35860.0, 47139.0, 45579.0, 37368.0, 46149.0, 39767.0, 15759.0, 22804.0, 43050.0, 42997.0, 48918.0, 60033.0, 34043.0, 23148.0, 45143.0, 59060.0, 47009.0, 46094.0, 40321.0, 37235.0, 18393.0, 24711.0, 45503.0, 6560.0, 27244.0, 51948.0, 35876.0, 40049.0, 50127.0, 33316.0, 17256.0, 47025.0, 37971.0, 41335.0, 57338.0, 50523.0, 56243.0, 21355.0, 46390.0, 54342.0, 26907.0, 53761.0, 22682.0, 38887.0, 29791.0, 39996.0, 26759.0, 37716.0, 43142.0, 51315.0, 36026.0, 24639.0, 34578.0, 54132.0, 43269.0, 38741.0, 31163.0, 34853.0, 42523.0, 33402.0, 36408.0, 51876.0, 40304.0, 46015.0, 16531.0, 41145.0, 23162.0, 59892.0, 41020.0, 19414.0, 19107.0, 49854.0, 35765.0, 32952.0, 31163.0, 51766.0, 33039.0, 37787.0, 37697.0, 37401.0, 9255.0, 31928.0, 30390.0, 57530.0, 37054.0, 49681.0, 44322.0, 27161.0, 45203.0, 34633.0, 45903.0, 35860.0, 61482.0, 45143.0, 52569.0, 17144.0, 36108.0, 36663.0, 44512.0, 27116.0, 54072.0, 33955.0, 31353.0, 28359.0, 57100.0, 51717.0, 54549.0, 19444.0, 36301.0, 42731.0, 52854.0, 46681.0, 44078.0, 35924.0, 24594.0, 58494.0, 56551.0, 22448.0, 25358.0, 35544.0, 43602.0, 33996.0, 36732.0, 37929.0, 33228.0, 38232.0, 23536.0, 49413.0, 42231.0, 38452.0, 18358.0, 38175.0, 54222.0, 18746.0, 22108.0, 44392.0, 38513.0, 16653.0, 46910.0, 54984.0, 42403.0, 55761.0, 45576.0, 31859.0, 41120.0, 39763.0, 38725.0, 21955.0, 36802.0, 28249.0, 47808.0, 42664.0, 39435.0, 42473.0, 36075.0, 34026.0, 48918.0, 37697.0, 36273.0, 44689.0, 7144.0, 50387.0, 32583.0, 44635.0, 33316.0, 25293.0, 54111.0, 29236.0, 48186.0, 54809.0, 27071.0, 4023.0, 25008.0, 11448.0, 32889.0, 34738.0, 26642.0, 44503.0, 49638.0, 23830.0, 30396.0, 50616.0, 30298.0, 44155.0, 49160.0, 22148.0, 29819.0, 45688.0, 33235.0, 31535.0, 31878.0, 22701.0, 61917.0, 21059.0, 29543.0, 34242.0, 25410.0, 51141.0, 29478.0, 56551.0, 44359.0, 48877.0, 39062.0, 54690.0, 4428.0, 38236.0, 36781.0, 23477.0, 28420.0, 33279.0, 46423.0, 30368.0, 22263.0, 28587.0, 48195.0, 32765.0, 23272.0, 17649.0, 40059.0, 29009.0, 45057.0, 43020.0, 53154.0, 36927.0, 48794.0, 38361.0, 42192.0, 31761.0, 34350.0, 54591.0, 25293.0, 22123.0, 30828.0, 34109.0, 53367.0, 22390.0, 53204.0, 34587.0, 43018.0, 45736.0, 27733.0, 25176.0, 50116.0, 33590.0, 58692.0, 40590.0, 20587.0, 62637.0, 19346.0, 35788.0, 23539.0, 29732.0, 41275.0, 42769.0, 49572.0, 17148.0, 40590.0, 32146.0, 41713.0, 34176.0, 59686.0, 47320.0, 15253.0, 41967.0, 38946.0, 26067.0, 42523.0, 53233.0, 25224.0, 43322.0, 37085.0, 16185.0, 32144.0, 45146.0, 38054.0, 33562.0, 24434.0], \"y\": [94.93333333333334, 95.8, 96.53333333333333, 94.76666666666667, 98.7, 92.43333333333334, 101.3, 101.16666666666667, 95.76666666666667, 100.16666666666667, 93.23333333333333, 92.8, 93.16666666666667, 101.1, 101.9, 102.76666666666667, 92.23333333333333, 96.46666666666667, 94.43333333333334, 92.36666666666666, 92.43333333333334, 102.53333333333333, 94.2, 97.86666666666666, 100.43333333333334, 100.9, 98.73333333333333, 95.33333333333333, 101.1, 91.86666666666666, 101.8, 92.53333333333333, 102.36666666666666, 101.33333333333333, 91.43333333333334, 92.76666666666667, 103.03333333333333, 100.83333333333333, 99.66666666666667, 97.0, 98.76666666666667, 101.33333333333333, 95.3, 93.46666666666667, 93.46666666666667, 96.16666666666667, 94.03333333333333, 92.4, 91.33333333333333, 92.8, 92.83333333333333, 96.43333333333334, 91.63333333333334, 94.93333333333334, 100.36666666666666, 97.23333333333333, 94.16666666666667, 102.73333333333333, 97.93333333333334, 91.86666666666666, 94.13333333333334, 92.76666666666667, 101.23333333333333, 93.8, 95.6, 93.63333333333334, 97.9, 98.06666666666666, 97.33333333333333, 92.6, 102.26666666666667, 91.96666666666667, 100.7, 99.33333333333333, 97.93333333333334, 91.56666666666666, 100.1, 94.53333333333333, 96.0, 93.96666666666667, 93.6, 97.3, 96.66666666666667, 93.63333333333334, 95.16666666666667, 93.73333333333333, 97.3, 96.56666666666666, 99.3, 97.63333333333334, 94.83333333333333, 102.33333333333333, 102.76666666666667, 95.83333333333333, 98.96666666666667, 100.86666666666666, 97.96666666666667, 101.76666666666667, 97.06666666666666, 98.23333333333333, 99.96666666666667, 95.33333333333333, 93.43333333333334, 101.3, 98.73333333333333, 94.2, 99.7, 97.9, 101.76666666666667, 99.5, 91.83333333333333, 98.53333333333333, 92.96666666666667, 92.43333333333334, 91.96666666666667, 98.06666666666666, 93.03333333333333, 96.06666666666666, 101.0, 101.53333333333333, 97.53333333333333, 102.06666666666666, 94.63333333333334, 99.93333333333334, 97.46666666666667, 99.66666666666667, 92.33333333333333, 96.23333333333333, 95.33333333333333, 95.0, 99.9, 92.56666666666666, 92.86666666666666, 97.2, 101.9, 99.23333333333333, 96.3, 94.0, 98.7, 99.56666666666666, 96.26666666666667, 101.73333333333333, 91.86666666666666, 99.1, 96.56666666666666, 102.0, 97.43333333333334, 98.96666666666667, 94.93333333333334, 98.1, 96.3, 94.23333333333333, 94.16666666666667, 93.9, 102.16666666666667, 100.93333333333334, 99.03333333333333, 91.9, 101.0, 103.13333333333334, 96.26666666666667, 100.8, 100.16666666666667, 94.13333333333334, 101.5, 100.7, 103.0, 99.56666666666666, 94.06666666666666, 93.56666666666666, 92.6, 101.6, 96.16666666666667, 100.6, 99.6, 95.76666666666667, 101.63333333333334, 102.7, 99.3, 102.43333333333334, 102.93333333333334, 97.26666666666667, 95.63333333333334, 94.86666666666666, 101.66666666666667, 97.76666666666667, 93.73333333333333, 97.03333333333333, 99.53333333333333, 98.73333333333333, 100.4, 98.96666666666667, 92.43333333333334, 102.46666666666667, 99.43333333333334, 102.9, 99.13333333333334, 102.43333333333334, 94.33333333333333, 99.1, 97.33333333333333, 91.23333333333333, 102.03333333333333, 94.23333333333333, 92.4, 91.86666666666666, 99.86666666666666, 100.33333333333333, 99.7, 97.13333333333334, 102.23333333333333, 97.9, 100.73333333333333, 100.13333333333334, 93.96666666666667, 100.13333333333334, 101.2, 101.26666666666667, 97.6, 93.7, 92.8, 94.56666666666666, 95.63333333333334, 92.2, 99.26666666666667, 97.73333333333333, 99.06666666666666, 94.43333333333334, 99.53333333333333, 99.7, 94.8, 101.2, 102.0, 95.16666666666667, 98.46666666666667, 100.16666666666667, 102.1, 92.76666666666667, 99.46666666666667, 92.3, 94.63333333333334, 95.06666666666666, 96.3, 95.63333333333334, 97.63333333333334, 100.43333333333334, 91.76666666666667, 94.03333333333333, 95.8, 102.53333333333333, 91.5, 97.83333333333333, 93.16666666666667, 101.9, 99.5, 101.73333333333333, 98.06666666666666, 98.13333333333334, 97.03333333333333, 94.86666666666666, 98.63333333333334, 93.73333333333333, 93.03333333333333, 95.8, 92.33333333333333, 98.0, 92.83333333333333, 92.9, 92.8, 92.93333333333334, 92.93333333333334, 99.76666666666667, 91.3, 99.86666666666666, 97.06666666666666, 102.9, 91.4, 102.03333333333333, 91.16666666666667, 91.4, 94.33333333333333, 95.3, 99.1, 96.3, 96.8, 93.56666666666666, 91.5, 91.33333333333333, 101.56666666666666, 102.23333333333333, 95.26666666666667, 100.63333333333334, 94.2, 102.3, 100.4, 91.96666666666667, 101.96666666666667, 92.53333333333333, 92.33333333333333, 95.33333333333333, 102.7, 101.6, 96.43333333333334, 101.7, 99.83333333333333, 93.06666666666666, 93.3, 94.8, 102.2, 99.36666666666666, 94.4, 91.5, 102.16666666666667, 95.83333333333333, 101.26666666666667, 99.7, 100.56666666666666, 100.83333333333333, 97.4, 93.36666666666666, 99.9, 91.9, 92.36666666666666, 92.43333333333334, 92.8, 101.7, 96.46666666666667, 98.56666666666666, 98.8, 94.06666666666666, 92.23333333333333, 102.6, 94.43333333333334, 99.8, 103.13333333333334, 95.56666666666666, 94.63333333333334, 98.76666666666667, 92.9, 102.2, 101.53333333333333, 95.23333333333333, 93.5, 95.56666666666666, 101.2, 100.86666666666666, 97.16666666666667, 99.26666666666667, 95.6, 99.83333333333333, 100.5, 102.3, 100.5, 101.76666666666667, 94.2, 95.83333333333333, 93.1, 93.6, 98.23333333333333, 96.56666666666666, 100.13333333333334, 92.56666666666666, 94.4, 94.56666666666666, 92.53333333333333, 95.0, 101.6, 97.66666666666667, 98.23333333333333, 102.6, 101.06666666666666, 102.26666666666667, 94.6, 97.96666666666667, 93.76666666666667, 94.23333333333333, 99.4, 95.53333333333333, 101.4, 96.8, 100.2, 91.8, 102.33333333333333, 96.1, 94.23333333333333, 93.56666666666666, 100.4, 97.8, 94.96666666666667, 100.66666666666667, 93.5, 99.7, 92.2, 100.1, 98.43333333333334, 98.96666666666667, 98.36666666666666, 97.33333333333333, 93.2, 97.36666666666666, 97.2, 101.6, 93.0, 103.2, 101.6, 99.86666666666666, 100.13333333333334, 95.13333333333334, 92.66666666666667, 92.43333333333334, 95.9, 93.46666666666667, 95.53333333333333, 95.36666666666666, 94.66666666666667, 96.23333333333333, 93.8, 95.6, 100.7, 94.2, 95.7, 97.43333333333334, 93.4, 102.7, 100.53333333333333, 99.73333333333333, 100.23333333333333, 93.73333333333333, 91.53333333333333, 95.86666666666666, 97.5, 99.13333333333334, 99.3, 99.7, 101.53333333333333, 98.86666666666666, 97.83333333333333, 98.16666666666667, 95.7, 94.83333333333333, 100.93333333333334, 100.56666666666666, 95.9, 92.96666666666667, 97.53333333333333, 94.26666666666667, 101.16666666666667, 99.83333333333333, 100.73333333333333, 99.06666666666666, 91.6, 99.3, 94.43333333333334, 96.4, 93.4, 92.53333333333333, 91.23333333333333, 101.4, 94.0, 95.63333333333334, 99.73333333333333, 93.33333333333333, 101.26666666666667, 95.13333333333334, 102.4, 101.96666666666667, 97.23333333333333, 99.33333333333333, 92.56666666666666, 101.6, 95.1, 95.4, 99.4, 99.53333333333333, 94.4, 99.96666666666667, 91.5, 94.43333333333334, 97.86666666666666, 97.8, 92.93333333333334, 95.26666666666667, 102.56666666666666, 94.93333333333334, 96.83333333333333, 100.86666666666666, 97.23333333333333, 102.3, 96.4, 96.6, 92.0, 99.4, 94.36666666666666, 94.2, 98.53333333333333, 100.46666666666667, 95.16666666666667, 92.2, 92.9, 101.06666666666666, 96.23333333333333, 93.56666666666666, 94.43333333333334, 92.36666666666666, 97.83333333333333, 93.36666666666666, 92.23333333333333, 95.23333333333333, 99.0, 102.13333333333334, 92.83333333333333, 101.0, 91.6, 91.63333333333334, 99.56666666666666, 94.6, 102.06666666666666, 95.56666666666666, 97.9, 102.1, 93.76666666666667, 95.9, 93.63333333333334, 96.83333333333333, 97.96666666666667, 101.23333333333333, 91.63333333333334, 99.86666666666666, 100.1, 100.73333333333333, 101.43333333333334, 99.96666666666667, 94.53333333333333, 100.86666666666666, 93.4, 91.36666666666666, 96.06666666666666, 97.7, 101.03333333333333, 92.8, 95.16666666666667, 93.63333333333334, 93.53333333333333, 95.9, 93.16666666666667, 93.56666666666666, 92.53333333333333, 96.53333333333333, 99.56666666666666, 93.73333333333333, 99.43333333333334, 96.33333333333333, 95.96666666666667, 100.36666666666666, 91.4, 101.06666666666666, 98.53333333333333, 96.93333333333334, 94.13333333333334, 94.43333333333334, 101.23333333333333, 103.03333333333333, 96.6, 92.93333333333334, 91.56666666666666, 97.0, 94.36666666666666, 98.96666666666667, 100.06666666666666, 100.56666666666666, 93.83333333333333, 99.53333333333333, 97.4, 91.73333333333333, 100.63333333333334, 98.96666666666667, 94.2, 95.73333333333333, 96.46666666666667, 95.36666666666666, 99.66666666666667, 98.8, 100.3, 98.23333333333333, 98.16666666666667, 98.2, 91.83333333333333, 92.06666666666666, 91.26666666666667, 97.3, 101.03333333333333, 94.0, 99.6, 102.1, 100.73333333333333, 94.3, 100.1, 99.0, 101.23333333333333, 99.53333333333333, 94.53333333333333, 92.63333333333334, 99.16666666666667, 102.5, 101.4, 101.93333333333334, 91.46666666666667, 99.1, 93.96666666666667, 100.16666666666667, 92.8, 95.16666666666667, 96.16666666666667, 96.4, 95.2, 94.36666666666666, 94.4, 99.83333333333333, 97.7, 96.23333333333333, 100.16666666666667, 92.76666666666667, 93.2, 96.43333333333334, 96.33333333333333, 102.23333333333333, 99.3, 98.43333333333334, 99.43333333333334, 99.06666666666666, 93.4, 94.6, 94.66666666666667, 93.46666666666667, 91.26666666666667, 102.1, 94.43333333333334, 102.8, 93.13333333333334, 91.3, 92.56666666666666], \"z\": [27, 53, 422, 49, 310, 30, 65, 81, 67, 31, 29, 11, 65, 18, 56, 151, 372, 194, 32, 43, 45, 72, 55, 29, 187, 114, 33, 80, 30, 90, 279, 49, 38, 22, 127, 89, 306, 18, 162, 121, 88, 259, 89, 36, 148, 93, 119, 45, 10, 191, 57, 66, 43, 39, 65, 31, 263, 38, 53, 65, 482, 17, 285, 114, 17, 19, 69, 23, 57, 22, 26, 17, 64, 26, 17, 275, 67, 60, 231, 48, 37, 137, 68, 62, 90, 273, 66, 53, 37, 235, 32, 102, 28, 20, 37, 71, 139, 18, 16, 49, 425, 57, 30, 29, 22, 19, 492, 222, 163, 446, 41, 78, 48, 45, 10, 20, 43, 57, 467, 122, 156, 14, 34, 192, 428, 59, 270, 135, 120, 542, 17, 25, 31, 70, 54, 266, 20, 43, 32, 347, 52, 358, 442, 411, 96, 232, 76, 54, 41, 134, 69, 21, 54, 91, 64, 78, 331, 265, 11, 21, 38, 177, 62, 182, 49, 75, 227, 47, 55, 63, 473, 55, 49, 69, 30, 67, 268, 266, 37, 373, 404, 33, 93, 16, 235, 235, 67, 165, 223, 22, 59, 198, 11, 467, 257, 270, 29, 126, 23, 636, 187, 57, 233, 21, 16, 65, 411, 11, 284, 63, 109, 38, 28, 449, 99, 66, 183, 93, 43, 29, 25, 24, 47, 629, 270, 60, 458, 63, 405, 72, 20, 55, 55, 22, 63, 50, 76, 89, 195, 35, 446, 41, 40, 292, 369, 10, 45, 182, 86, 16, 55, 55, 14, 401, 84, 203, 409, 28, 67, 199, 350, 46, 62, 125, 46, 50, 41, 77, 54, 96, 578, 149, 231, 411, 94, 23, 6, 54, 45, 108, 23, 89, 343, 69, 116, 44, 79, 71, 94, 22, 62, 92, 72, 36, 122, 12, 278, 49, 46, 47, 467, 22, 396, 15, 17, 23, 133, 121, 443, 267, 61, 63, 64, 16, 44, 63, 426, 635, 135, 78, 15, 57, 326, 30, 46, 86, 61, 145, 411, 237, 48, 515, 301, 218, 75, 16, 34, 225, 17, 24, 60, 51, 96, 160, 183, 174, 195, 43, 49, 363, 25, 87, 90, 405, 72, 63, 39, 130, 152, 21, 71, 8, 10, 23, 49, 83, 183, 30, 362, 485, 17, 26, 76, 15, 62, 198, 49, 37, 311, 274, 448, 44, 102, 61, 50, 58, 170, 373, 101, 311, 129, 32, 320, 131, 62, 415, 30, 187, 237, 91, 396, 68, 222, 177, 22, 325, 95, 42, 20, 15, 59, 188, 20, 222, 61, 44, 8, 42, 19, 61, 38, 34, 125, 70, 22, 310, 57, 46, 44, 13, 65, 87, 217, 32, 46, 380, 75, 55, 38, 275, 78, 106, 84, 48, 22, 72, 80, 92, 25, 458, 92, 52, 147, 15, 66, 49, 299, 311, 95, 47, 339, 35, 32, 41, 39, 270, 31, 16, 311, 122, 233, 54, 78, 244, 116, 425, 41, 34, 29, 396, 138, 55, 32, 67, 68, 71, 47, 265, 71, 122, 10, 304, 37, 72, 57, 153, 264, 64, 31, 211, 324, 69, 68, 358, 42, 184, 145, 48, 81, 167, 45, 55, 20, 43, 224, 24, 102, 144, 119, 76, 62, 84, 76, 34, 416, 525, 9, 68, 131, 37, 388, 99, 219, 174, 35, 9, 34, 14, 55, 20, 42, 48, 39, 43, 34, 149, 28, 46, 236, 49, 39, 306, 70, 51, 70, 24, 91, 44, 63, 15, 38, 157, 20, 138, 45, 144, 44, 198, 359, 88, 63, 147, 13, 16, 92, 52, 21, 78, 265, 46, 46, 45, 414, 44, 50, 223, 158, 71, 54, 137, 100, 98, 48, 519, 37, 102, 56, 22, 400, 26, 45, 22, 133, 437, 57, 13, 66, 8, 395, 258, 25, 185, 22, 44, 81, 38, 61, 88, 54, 68, 258, 66, 174, 28, 274, 414, 29, 54, 257, 56, 125, 40, 46, 141, 61, 106, 54, 53, 45, 51, 50]}, {\"hovertemplate\": \"Income: %{x} <br>Seniority: %{y} <br>Spending: %{z}\", \"marker\": {\"line\": {\"width\": 1}, \"size\": 6}, \"mode\": \"markers\", \"name\": \"Stars\", \"type\": \"scatter3d\", \"x\": [71613.0, 62513.0, 63033.0, 65324.0, 84618.0, 67353.0, 79941.0, 65486.0, 82582.0, 55954.0, 70666.0, 88194.0, 69096.0, 81361.0, 79593.0, 78497.0, 87195.0, 77298.0, 57288.0, 90765.0, 77376.0, 62998.0, 73448.0, 65104.0, 68352.0, 59354.0, 65747.0, 80317.0, 157243.0, 62551.0, 66951.0, 78497.0, 66835.0, 61286.0, 69661.0, 80067.0, 69142.0, 75922.0, 63693.0, 77972.0, 83790.0, 72460.0, 77622.0, 79761.0, 73455.0, 73687.0, 80124.0, 66313.0, 77882.0, 65640.0, 79946.0, 57912.0, 58821.0, 77457.0, 64100.0, 83532.0, 82623.0, 84835.0, 71113.0, 69759.0, 65073.0, 62187.0, 66426.0, 90300.0, 74293.0, 70777.0, 68682.0, 65808.0, 75865.0, 80134.0, 92910.0, 75433.0, 75236.0, 67272.0, 81246.0, 70829.0, 60597.0, 70165.0, 80124.0, 66582.0, 55842.0, 65104.0, 55614.0, 67911.0, 65665.0, 81217.0, 89120.0, 71367.0, 80184.0, 73454.0, 77863.0, 72679.0, 57954.0, 76982.0, 84169.0, 85620.0, 60504.0, 81698.0, 71499.0, 62466.0, 64413.0, 61794.0, 69882.0, 59973.0, 72906.0, 81168.0, 162397.0, 72298.0, 69084.0, 65488.0, 62466.0, 73691.0, 76140.0, 78710.0, 66886.0, 98777.0, 153924.0, 73059.0, 58330.0, 59304.0, 59247.0, 77353.0, 70337.0, 65295.0, 68118.0, 65777.0, 77845.0, 69476.0, 61209.0, 78468.0, 78901.0, 71427.0, 71022.0, 90247.0, 66375.0, 80395.0, 75012.0, 89694.0, 72025.0, 70545.0, 82224.0, 71163.0, 63564.0, 83443.0, 58330.0, 75507.0, 58512.0, 79146.0, 78285.0, 75127.0, 72063.0, 78939.0, 74250.0, 72258.0, 71466.0, 70421.0, 61872.0, 82716.0, 73170.0, 91820.0, 65968.0, 65685.0, 57091.0, 56628.0, 82504.0, 81205.0, 65324.0, 70123.0, 62450.0, 61346.0, 80812.0, 86424.0, 68092.0, 76630.0, 64090.0, 78331.0, 66825.0, 85072.0, 86429.0, 75114.0, 73113.0, 84169.0, 83033.0, 77583.0, 74116.0, 74293.0, 68397.0, 79632.0, 75127.0, 71796.0, 55239.0, 60554.0, 56067.0, 57937.0, 68274.0, 54753.0, 92955.0, 84219.0, 59052.0, 83715.0, 53103.0, 63693.0, 80763.0, 65352.0, 82170.0, 75759.0, 85683.0, 64449.0, 75437.0, 52845.0, 95169.0, 59412.0, 70924.0, 68695.0, 79593.0, 61180.0, 76081.0, 77037.0, 70924.0, 65196.0, 65526.0, 83528.0, 67023.0, 66294.0, 71691.0, 85844.0, 71367.0, 61825.0, 79803.0, 83829.0, 76045.0, 65463.0, 66480.0, 98777.0, 71819.0, 70566.0, 63998.0, 72903.0, 63285.0, 79410.0, 81657.0, 66726.0, 90638.0, 62000.0, 78075.0, 66636.0, 84618.0, 77044.0, 61559.0, 68682.0, 61284.0, 64722.0, 84906.0, 76624.0, 66000.0, 65106.0, 69969.0, 67433.0, 74716.0, 68118.0, 74190.0, 73450.0, 83829.0, 85485.0, 55956.0, 78569.0, 157733.0, 81051.0, 65169.0, 65695.0, 74805.0, 77382.0, 71604.0, 71434.0, 90842.0, 62061.0, 70515.0, 69139.0, 62159.0, 80695.0, 59601.0, 67267.0, 92344.0, 75507.0, 63915.0, 65685.0, 67087.0, 80589.0, 65704.0, 92533.0, 70844.0, 82657.0, 70038.0, 69401.0, 77343.0, 73892.0, 68695.0, 93790.0, 64866.0, 57957.0, 57072.0, 79419.0, 64014.0, 57867.0, 65492.0, 63206.0, 57136.0, 78931.0, 84219.0, 79529.0, 82032.0, 74004.0, 69283.0, 67786.0, 76800.0, 76081.0, 70179.0, 79865.0, 75315.0, 90638.0, 81574.0, 78093.0, 82460.0, 81361.0, 75794.0, 60432.0, 65526.0, 64509.0, 55434.0, 69139.0, 73059.0, 69755.0, 64140.0, 75774.0, 58684.0, 157146.0, 62670.0, 50334.0, 72066.0, 64892.0, 63246.0, 69084.0, 86610.0, 70440.0, 56534.0, 81217.0, 49090.0, 73705.0, 55012.0, 64813.0, 83512.0, 77520.0, 90273.0, 82571.0, 82427.0, 79146.0, 77437.0, 66835.0, 62905.0, 59481.0, 72117.0, 65370.0, 71232.0, 77298.0, 82122.0, 62535.0, 63404.0, 75774.0, 78416.0, 90369.0, 79734.0, 58582.0, 72282.0, 62568.0, 63967.0, 80336.0, 68148.0, 65735.0, 57705.0, 82733.0, 74290.0, 61825.0, 70886.0, 82326.0, 72905.0, 86979.0, 76532.0, 88420.0, 61671.0, 69719.0, 90933.0, 113734.0, 73395.0, 60491.0, 92556.0, 70932.0, 77598.0, 67472.0, 73356.0, 72570.0, 83891.0, 56939.0, 80872.0, 61798.0, 76842.0, 74485.0, 64474.0, 77226.0, 85738.0, 94642.0, 58116.0, 72968.0, 91712.0, 94472.0, 96547.0, 67506.0, 68805.0, 65814.0, 96876.0, 77027.0, 67225.0, 60905.0, 65308.0, 81044.0, 55801.0, 76320.0, 70179.0, 70038.0, 71866.0, 64713.0, 79823.0, 71322.0, 80144.0, 67911.0, 78128.0, 66476.0, 69805.0, 84906.0, 61286.0, 156924.0, 65487.0, 65333.0, 78499.0, 63516.0, 58482.0, 62994.0, 90000.0, 69263.0, 60934.0, 71965.0, 65210.0, 76234.0, 84117.0, 65487.0, 55593.0, 88325.0, 82032.0, 58025.0, 57642.0, 64014.0, 56981.0, 69245.0], \"y\": [101.56666666666666, 100.93333333333334, 98.7, 96.8, 98.46666666666667, 97.16666666666667, 91.2, 92.76666666666667, 91.9, 95.1, 98.0, 94.56666666666666, 100.33333333333333, 95.3, 92.76666666666667, 98.16666666666667, 92.9, 99.13333333333334, 91.3, 96.36666666666666, 92.83333333333333, 100.23333333333333, 95.8, 98.73333333333333, 101.33333333333333, 93.36666666666666, 94.96666666666667, 101.6, 95.16666666666667, 98.6, 99.13333333333334, 98.16666666666667, 100.3, 102.2, 92.73333333333333, 100.6, 91.16666666666667, 97.9, 99.76666666666667, 94.6, 98.7, 98.73333333333333, 93.7, 100.1, 99.3, 98.26666666666667, 91.26666666666667, 100.7, 93.16666666666667, 95.16666666666667, 92.76666666666667, 94.63333333333334, 99.83333333333333, 95.03333333333333, 100.9, 100.36666666666666, 98.86666666666666, 91.6, 97.63333333333334, 99.3, 101.6, 94.46666666666667, 100.16666666666667, 97.06666666666666, 93.03333333333333, 95.3, 100.03333333333333, 92.16666666666667, 94.16666666666667, 95.66666666666667, 93.36666666666666, 94.0, 98.36666666666666, 97.5, 97.23333333333333, 98.16666666666667, 97.13333333333334, 100.5, 91.26666666666667, 95.1, 92.4, 98.73333333333333, 98.3, 92.43333333333334, 98.13333333333334, 102.66666666666667, 94.63333333333334, 101.5, 95.16666666666667, 95.16666666666667, 98.3, 100.63333333333334, 91.53333333333333, 95.63333333333334, 102.03333333333333, 96.93333333333334, 95.9, 99.0, 103.46666666666667, 96.66666666666667, 102.23333333333333, 100.76666666666667, 98.86666666666666, 100.86666666666666, 100.66666666666667, 92.93333333333334, 104.2, 94.86666666666666, 98.56666666666666, 91.7, 96.66666666666667, 99.0, 92.73333333333333, 92.4, 100.7, 95.56666666666666, 95.9, 101.23333333333333, 97.36666666666666, 102.33333333333333, 98.93333333333334, 97.66666666666667, 97.1, 97.43333333333334, 99.63333333333334, 97.56666666666666, 92.63333333333334, 100.23333333333333, 101.43333333333334, 93.86666666666666, 100.66666666666667, 94.8, 95.76666666666667, 93.2, 98.5, 98.43333333333334, 96.33333333333333, 99.93333333333334, 93.2, 92.03333333333333, 96.33333333333333, 94.9, 96.2, 97.16666666666667, 97.36666666666666, 93.1, 100.6, 93.36666666666666, 99.3, 92.43333333333334, 103.2, 97.8, 96.3, 100.83333333333333, 94.0, 91.2, 97.76666666666667, 99.03333333333333, 92.13333333333334, 98.43333333333334, 92.76666666666667, 94.23333333333333, 91.63333333333334, 94.5, 102.4, 96.73333333333333, 96.8, 100.3, 96.96666666666667, 100.03333333333333, 100.66666666666667, 94.0, 97.66666666666667, 96.7, 102.03333333333333, 96.4, 102.83333333333333, 93.86666666666666, 98.5, 98.96666666666667, 97.33333333333333, 102.03333333333333, 92.56666666666666, 95.8, 97.2, 93.03333333333333, 98.63333333333334, 93.9, 92.43333333333334, 99.43333333333334, 102.83333333333333, 101.96666666666667, 102.63333333333334, 95.6, 100.23333333333333, 100.83333333333333, 101.63333333333334, 96.06666666666666, 98.63333333333334, 96.03333333333333, 100.83333333333333, 99.76666666666667, 101.76666666666667, 101.56666666666666, 98.36666666666666, 99.4, 94.5, 95.53333333333333, 98.9, 101.83333333333333, 99.93333333333334, 93.53333333333333, 93.93333333333334, 91.3, 92.76666666666667, 93.4, 92.4, 99.8, 93.93333333333334, 102.46666666666667, 93.8, 93.13333333333334, 95.06666666666666, 94.63333333333334, 94.63333333333334, 92.2, 101.5, 102.03333333333333, 92.06666666666666, 99.96666666666667, 98.7, 96.16666666666667, 92.13333333333334, 95.56666666666666, 101.33333333333333, 100.03333333333333, 97.53333333333333, 99.26666666666667, 99.03333333333333, 92.2, 96.43333333333334, 96.76666666666667, 95.7, 101.43333333333334, 94.0, 101.7, 98.46666666666667, 99.33333333333333, 102.73333333333333, 100.03333333333333, 99.83333333333333, 92.3, 100.1, 92.36666666666666, 93.5, 92.36666666666666, 101.36666666666666, 102.76666666666667, 100.83333333333333, 99.63333333333334, 92.76666666666667, 98.03333333333333, 99.96666666666667, 91.43333333333334, 93.93333333333334, 95.5, 104.16666666666667, 92.4, 96.7, 96.13333333333334, 99.0, 96.93333333333334, 98.63333333333334, 100.63333333333334, 102.33333333333333, 101.23333333333333, 99.53333333333333, 96.26666666666667, 93.23333333333333, 97.23333333333333, 102.46666666666667, 92.73333333333333, 96.66666666666667, 93.1, 102.3, 94.23333333333333, 97.63333333333334, 96.43333333333334, 99.8, 97.56666666666666, 99.23333333333333, 100.33333333333333, 99.4, 94.43333333333334, 91.83333333333333, 98.76666666666667, 91.3, 95.73333333333333, 96.3, 101.63333333333334, 96.36666666666666, 91.4, 91.8, 100.2, 96.3, 94.53333333333333, 103.0, 99.4, 96.06666666666666, 93.26666666666667, 94.0, 95.33333333333333, 91.66666666666667, 97.96666666666667, 94.93333333333334, 92.4, 102.6, 91.53333333333333, 93.66666666666667, 95.7, 93.23333333333333, 97.83333333333333, 98.13333333333334, 95.3, 97.4, 94.9, 93.8, 101.7, 100.06666666666666, 96.26666666666667, 101.23333333333333, 100.16666666666667, 100.46666666666667, 93.1, 91.6, 105.36666666666666, 96.06666666666666, 102.5, 91.36666666666666, 92.2, 101.6, 98.56666666666666, 101.06666666666666, 99.96666666666667, 102.53333333333333, 102.66666666666667, 102.66666666666667, 95.03333333333333, 94.5, 97.1, 91.56666666666666, 101.33333333333333, 97.73333333333333, 94.1, 94.8, 93.36666666666666, 98.33333333333333, 100.3, 100.9, 99.46666666666667, 101.6, 102.23333333333333, 98.26666666666667, 99.13333333333334, 101.76666666666667, 100.13333333333334, 91.93333333333334, 93.1, 91.23333333333333, 93.23333333333333, 91.2, 100.3, 102.66666666666667, 93.93333333333334, 101.96666666666667, 100.93333333333334, 101.23333333333333, 97.96666666666667, 96.8, 100.9, 101.86666666666666, 102.03333333333333, 99.76666666666667, 94.86666666666666, 96.46666666666667, 98.96666666666667, 100.93333333333334, 93.1, 92.03333333333333, 92.3, 94.16666666666667, 92.23333333333333, 94.6, 101.03333333333333, 93.5, 96.53333333333333, 100.2, 100.3, 95.93333333333334, 93.33333333333333, 91.46666666666667, 100.63333333333334, 92.76666666666667, 98.43333333333334, 93.06666666666666, 101.46666666666667, 99.5, 95.2, 96.4, 95.73333333333333, 93.73333333333333, 97.66666666666667, 99.66666666666667, 94.06666666666666, 92.4, 97.1, 100.66666666666667, 95.13333333333334, 102.06666666666666, 95.96666666666667, 98.33333333333333, 98.03333333333333, 100.86666666666666, 97.3, 100.5, 91.4, 102.6, 99.4, 97.36666666666666, 95.9, 94.16666666666667, 93.1, 100.23333333333333, 92.43333333333334, 95.5, 98.06666666666666, 96.46666666666667, 100.1, 102.2, 101.3, 96.83333333333333, 96.6, 98.43333333333334, 103.1, 94.8, 95.06666666666666, 97.43333333333334, 95.03333333333333, 96.6, 102.33333333333333, 94.86666666666666, 95.93333333333334, 92.8, 96.83333333333333, 101.56666666666666, 95.96666666666667, 94.0, 98.33333333333333, 96.86666666666666, 91.8, 96.33333333333333, 96.36666666666666], \"z\": [776, 716, 1102, 544, 1672, 913, 984, 507, 1617, 518, 1076, 1274, 653, 778, 1366, 978, 1097, 969, 608, 1724, 661, 463, 725, 1053, 871, 459, 460, 1231, 1608, 421, 1117, 978, 1033, 608, 834, 1600, 535, 1295, 1150, 1101, 1615, 1047, 714, 605, 2088, 1627, 1495, 770, 818, 461, 1478, 916, 728, 1157, 546, 1853, 940, 1190, 835, 1029, 900, 636, 1377, 1738, 1127, 787, 1598, 272, 1242, 1378, 1795, 1188, 1068, 733, 1379, 431, 893, 926, 1495, 1288, 518, 1053, 682, 976, 945, 1157, 1924, 777, 1902, 1651, 1291, 1168, 493, 1062, 1919, 1600, 526, 1008, 795, 889, 279, 611, 1478, 382, 1151, 1193, 107, 939, 1586, 963, 889, 1179, 1348, 1092, 599, 2008, 6, 1095, 1064, 1048, 574, 670, 576, 664, 928, 1146, 1346, 1044, 957, 1004, 734, 614, 1453, 1621, 948, 1380, 1027, 1472, 1677, 334, 902, 960, 1215, 1497, 1064, 1440, 1171, 564, 1427, 833, 758, 1507, 1158, 1525, 1230, 767, 573, 1167, 726, 1497, 495, 769, 577, 761, 1066, 2009, 544, 1727, 995, 989, 1677, 1226, 1281, 1003, 797, 1638, 858, 1423, 1449, 1253, 1001, 1919, 1761, 1149, 2052, 1127, 1416, 1113, 833, 960, 779, 811, 725, 683, 305, 728, 1778, 1198, 491, 926, 1085, 1150, 1415, 405, 1908, 2486, 1789, 805, 1493, 936, 1901, 406, 1363, 1091, 1366, 704, 1033, 1123, 1363, 1155, 506, 1650, 906, 967, 1192, 1958, 777, 424, 868, 1862, 1323, 562, 312, 2008, 1574, 757, 1168, 2013, 1103, 1370, 1097, 438, 2525, 1020, 988, 1084, 1672, 1065, 530, 1598, 811, 805, 1631, 899, 711, 973, 1536, 992, 860, 928, 641, 1804, 1862, 1383, 999, 1736, 59, 1501, 1189, 656, 820, 1121, 1196, 1400, 1424, 800, 1258, 227, 634, 1918, 797, 251, 1899, 1440, 789, 769, 794, 1428, 817, 1131, 294, 2283, 1244, 690, 1134, 1507, 1091, 2349, 556, 637, 1034, 1631, 444, 612, 1045, 928, 642, 943, 1198, 1638, 1234, 1658, 904, 1156, 641, 1033, 1034, 792, 841, 2525, 1798, 1105, 974, 778, 1682, 401, 506, 1722, 882, 227, 1095, 894, 1750, 823, 813, 1730, 825, 694, 1792, 902, 772, 1586, 1603, 1572, 815, 1157, 688, 1695, 660, 745, 2157, 1526, 1991, 1686, 1456, 564, 1125, 1033, 622, 461, 1073, 461, 917, 969, 1382, 398, 902, 823, 1179, 1588, 914, 763, 1331, 953, 882, 1052, 1042, 395, 486, 1323, 1217, 424, 960, 2257, 1515, 1702, 820, 2069, 732, 801, 1685, 277, 397, 1028, 1263, 909, 1735, 414, 1512, 1089, 816, 561, 1336, 463, 1130, 1734, 823, 1138, 1371, 2211, 443, 1958, 2217, 1691, 809, 331, 283, 747, 1941, 1175, 868, 392, 1211, 1208, 527, 932, 1034, 1244, 715, 602, 1518, 350, 1367, 976, 1264, 1013, 1038, 1631, 608, 8, 1169, 798, 1334, 300, 731, 312, 1479, 568, 873, 1213, 731, 907, 1566, 1169, 546, 1623, 1234, 470, 679, 444, 1241, 843]}, {\"hovertemplate\": \"Income: %{x} <br>Seniority: %{y} <br>Spending: %{z}\", \"marker\": {\"line\": {\"width\": 1}, \"size\": 6}, \"mode\": \"markers\", \"name\": \"High potential\", \"type\": \"scatter3d\", \"x\": [33454.0, 30351.0, 7500.0, 17323.0, 41850.0, 37760.0, 33812.0, 37040.0, 2447.0, 40689.0, 18589.0, 53359.0, 38360.0, 38620.0, 40548.0, 46610.0, 20559.0, 21994.0, 7500.0, 41728.0, 35790.0, 25721.0, 40246.0, 29760.0, 26304.0, 23559.0, 38620.0, 47916.0, 51813.0, 50150.0, 38557.0, 43974.0, 36550.0, 30753.0, 30992.0, 9548.0, 33762.0, 41883.0, 23957.0, 35688.0, 46344.0, 30523.0, 28718.0, 25271.0, 45759.0, 24882.0, 38872.0, 51148.0, 18890.0, 48721.0, 46097.0, 44377.0, 46014.0, 30732.0, 42011.0, 51369.0, 37070.0, 38590.0, 26490.0, 30899.0, 45989.0, 18701.0, 15287.0, 37717.0, 43776.0, 38179.0, 38097.0, 33378.0, 24480.0, 51369.0, 37760.0, 30631.0, 35416.0, 32414.0, 29672.0, 35388.0, 42386.0, 27038.0, 42670.0, 34421.0, 40464.0, 14849.0, 54432.0, 29999.0, 24072.0, 35178.0, 22010.0, 30675.0, 44300.0, 30372.0, 50737.0, 37717.0, 51479.0, 31615.0, 48178.0, 38578.0, 46098.0, 22585.0, 30279.0, 30822.0, 33581.0, 27421.0, 35688.0, 10245.0, 38823.0, 51012.0, 43824.0, 15345.0, 23442.0, 14515.0, 31395.0, 30507.0, 27213.0, 30351.0, 50437.0, 23616.0, 46923.0, 42387.0, 50943.0, 7500.0, 28691.0, 30279.0, 23295.0, 24027.0, 38988.0, 42207.0, 31880.0, 38415.0, 41124.0, 32233.0, 28457.0, 46310.0, 27203.0, 24279.0, 50943.0, 34935.0, 39665.0, 44124.0, 36443.0, 26095.0, 25545.0, 32880.0, 47682.0, 65316.0, 28567.0, 47352.0, 43638.0, 42710.0, 22419.0, 43462.0, 38200.0, 44989.0, 45207.0, 40689.0, 27450.0, 39684.0, 23910.0, 26224.0, 31089.0, 30081.0, 49618.0, 21888.0, 26150.0, 30801.0, 18978.0, 35791.0, 54162.0, 30522.0, 31632.0, 13624.0, 34487.0, 28769.0, 56181.0, 45906.0, 29103.0, 49431.0, 26490.0, 25965.0, 14661.0, 18690.0, 45068.0, 29187.0, 36145.0, 50611.0, 47570.0, 26518.0, 43185.0, 35178.0, 25252.0, 33249.0, 25851.0, 7500.0, 53593.0, 17487.0, 34941.0, 40662.0, 31626.0, 48726.0, 42720.0, 33622.0, 6835.0, 41452.0, 31590.0, 20425.0, 42564.0, 40780.0, 16813.0, 46524.0, 45183.0, 46984.0, 34838.0, 21359.0, 22507.0, 22419.0, 37859.0, 48789.0, 35441.0, 49494.0, 45889.0, 40049.0, 19419.0, 15072.0, 49166.0, 37758.0, 7500.0, 38683.0, 57906.0, 43456.0, 53172.0, 30545.0, 42835.0, 39922.0, 17117.0, 35797.0, 46231.0, 51195.0, 31814.0, 51390.0, 58917.0, 35641.0, 39858.0, 24401.0, 25443.0, 14906.0, 44051.0, 42767.0, 16927.0, 54237.0, 41021.0, 33471.0, 34596.0, 44010.0, 40706.0, 15716.0, 24884.0, 42021.0, 22434.0, 36930.0, 36130.0, 36736.0, 30168.0, 34053.0, 54165.0, 32300.0, 20180.0, 28440.0, 17345.0, 15038.0, 31056.0, 28071.0, 47703.0, 38998.0, 8028.0, 33168.0, 35196.0, 44529.0, 25959.0, 27100.0, 42557.0, 42000.0, 16860.0, 22304.0, 41014.0, 36715.0, 38578.0, 27590.0, 54210.0, 22634.0, 31605.0, 52034.0, 46734.0, 39552.0, 16581.0, 36778.0, 49678.0, 37155.0, 26576.0, 7500.0, 35322.0, 23724.0, 33444.0, 54386.0, 28510.0, 48070.0, 43140.0, 15056.0, 31497.0, 43641.0, 15287.0, 36317.0, 56721.0, 42160.0, 33629.0, 34377.0, 8940.0, 22518.0, 44421.0, 38197.0, 28427.0, 28691.0, 27683.0, 7500.0, 40521.0, 55158.0, 31454.0, 19656.0, 38808.0, 23748.0, 40800.0, 37633.0, 26997.0, 33986.0, 57091.0, 46831.0, 7500.0, 44267.0, 50200.0, 27238.0, 46692.0, 37774.0, 48752.0, 39660.0, 43263.0, 18929.0, 24367.0, 33249.0, 26887.0, 50150.0, 18227.0, 38136.0, 53034.0, 35791.0, 50611.0, 48904.0, 57420.0, 20895.0, 44964.0, 41658.0, 51039.0, 60544.0, 36864.0, 44511.0, 36947.0, 47352.0, 57045.0, 36957.0, 34412.0, 22634.0, 18690.0, 28164.0, 34596.0, 31907.0, 27100.0, 31086.0, 60544.0, 20491.0, 39922.0, 21645.0, 46053.0, 32727.0, 43300.0, 26290.0, 38410.0, 28072.0, 50725.0, 34380.0, 34704.0, 39898.0, 42873.0, 53253.0, 42014.0, 46098.0, 20981.0, 27242.0, 3502.0, 28087.0, 19740.0, 53083.0, 46098.0, 23331.0, 23331.0, 51411.0, 42386.0, 30983.0, 37284.0, 47175.0, 31859.0, 27215.0, 39922.0, 24645.0, 47958.0, 38998.0, 42014.0, 38201.0, 34935.0, 40442.0, 34968.0, 31497.0, 13724.0, 48432.0, 12393.0, 18793.0, 50664.0, 54414.0, 41003.0, 22775.0, 50002.0, 30560.0, 39228.0, 34213.0, 36634.0, 50729.0, 34916.0, 41473.0, 20193.0, 27573.0, 15862.0, 49544.0, 22554.0, 18169.0, 24336.0, 18222.0, 42033.0, 41437.0, 9722.0, 52117.0, 41154.0, 35196.0, 17688.0, 42586.0, 23529.0, 18690.0, 37244.0, 37292.0, 28389.0, 44989.0, 51569.0, 30372.0, 16014.0, 13533.0, 25509.0, 51012.0, 42586.0, 29760.0, 28973.0, 20194.0, 34600.0, 46904.0, 49094.0, 34074.0, 28520.0, 59385.0, 37070.0, 18701.0, 37758.0, 21840.0, 22669.0, 44911.0, 41580.0, 47743.0, 32313.0, 30093.0, 22280.0, 58217.0, 21024.0, 54006.0, 30538.0, 33051.0, 52413.0, 42081.0, 31158.0, 24882.0, 45759.0, 35701.0, 57107.0, 18929.0, 36038.0, 20180.0, 34230.0, 34984.0, 54998.0, 28320.0, 23763.0, 34529.0, 36065.0, 39898.0, 46998.0, 40887.0, 34600.0, 40794.0, 32632.0, 31385.0, 24570.0, 25509.0, 58646.0, 53201.0, 21994.0, 57113.0, 51373.0, 39791.0, 13672.0, 56559.0, 32644.0, 24206.0, 22979.0, 41638.0, 39146.0, 34445.0, 37284.0, 36790.0, 27943.0, 30261.0, 43815.0, 29672.0, 7500.0, 38680.0, 37150.0, 32871.0, 23478.0, 42554.0, 42000.0, 27889.0, 27803.0, 51651.0, 48699.0, 54252.0, 14796.0, 14188.0, 20425.0, 58646.0, 48150.0, 25818.0, 37509.0, 43586.0, 30992.0, 16005.0, 29435.0, 36997.0, 30560.0, 31560.0, 48432.0, 52914.0, 44325.0, 26487.0, 40851.0, 27469.0, 8820.0, 50501.0, 48432.0, 18929.0, 35893.0, 14918.0, 41769.0, 5305.0, 36807.0, 28427.0, 22775.0, 40101.0, 7500.0, 57967.0, 11012.0, 26816.0, 34421.0, 52869.0], \"y\": [105.06666666666666, 104.1, 110.93333333333334, 112.06666666666666, 109.56666666666666, 113.4, 111.26666666666667, 114.16666666666667, 109.13333333333334, 106.76666666666667, 109.26666666666667, 104.43333333333334, 104.3, 104.96666666666667, 112.06666666666666, 111.43333333333334, 106.96666666666667, 109.56666666666666, 111.06666666666666, 104.53333333333333, 109.26666666666667, 104.63333333333334, 109.73333333333333, 113.46666666666667, 103.53333333333333, 103.2, 104.96666666666667, 110.63333333333334, 105.96666666666667, 103.63333333333334, 109.73333333333333, 109.96666666666667, 107.66666666666667, 102.93333333333334, 105.6, 114.16666666666667, 103.06666666666666, 106.73333333333333, 111.46666666666667, 113.7, 109.9, 103.26666666666667, 102.86666666666666, 110.2, 107.53333333333333, 113.1, 104.33333333333333, 107.7, 111.03333333333333, 104.9, 106.33333333333333, 112.23333333333333, 108.63333333333334, 109.16666666666667, 106.5, 111.56666666666666, 106.7, 104.83333333333333, 112.66666666666667, 111.96666666666667, 111.66666666666667, 104.16666666666667, 112.06666666666666, 110.6, 108.2, 106.9, 111.9, 108.1, 107.93333333333334, 111.56666666666666, 113.4, 102.9, 103.86666666666666, 103.16666666666667, 106.96666666666667, 107.13333333333334, 108.9, 112.8, 105.43333333333334, 103.26666666666667, 108.96666666666667, 103.23333333333333, 105.03333333333333, 107.86666666666666, 105.8, 109.0, 103.3, 110.96666666666667, 103.53333333333333, 109.53333333333333, 104.96666666666667, 110.6, 109.43333333333334, 106.83333333333333, 111.46666666666667, 103.56666666666666, 113.83333333333333, 106.76666666666667, 109.36666666666666, 103.83333333333333, 109.06666666666666, 109.96666666666667, 113.7, 104.83333333333333, 113.43333333333334, 105.73333333333333, 112.9, 113.4, 109.56666666666666, 111.06666666666666, 106.6, 107.0, 113.43333333333334, 104.1, 111.83333333333333, 110.8, 113.7, 111.43333333333334, 103.6, 108.06666666666666, 103.16666666666667, 109.36666666666666, 102.86666666666666, 104.0, 113.76666666666667, 106.3, 111.36666666666666, 109.26666666666667, 111.36666666666666, 113.8, 111.46666666666667, 110.26666666666667, 114.23333333333333, 109.4, 103.6, 103.6, 104.5, 104.96666666666667, 108.2, 103.3, 113.13333333333334, 110.23333333333333, 107.8, 105.53333333333333, 103.73333333333333, 105.96666666666667, 114.23333333333333, 110.43333333333334, 105.73333333333333, 113.0, 110.13333333333334, 113.0, 111.03333333333333, 106.76666666666667, 105.83333333333333, 112.0, 111.53333333333333, 104.16666666666667, 113.86666666666666, 107.6, 108.46666666666667, 109.4, 107.0, 111.53333333333333, 110.0, 105.13333333333334, 106.76666666666667, 113.86666666666666, 102.83333333333333, 108.66666666666667, 113.2, 109.76666666666667, 109.06666666666666, 105.1, 113.53333333333333, 114.33333333333333, 112.66666666666667, 113.16666666666667, 109.3, 109.43333333333334, 104.8, 105.03333333333333, 103.76666666666667, 112.26666666666667, 104.36666666666666, 106.06666666666666, 106.0, 109.0, 102.9, 107.63333333333334, 107.93333333333334, 114.4, 114.2, 106.76666666666667, 107.16666666666667, 106.86666666666666, 105.0, 105.43333333333334, 105.53333333333333, 105.9, 110.1, 107.16666666666667, 103.7, 111.43333333333334, 109.26666666666667, 113.13333333333334, 102.66666666666667, 106.16666666666667, 108.66666666666667, 106.5, 108.7, 105.66666666666667, 110.56666666666666, 105.73333333333333, 108.93333333333334, 113.06666666666666, 107.83333333333333, 105.5, 103.23333333333333, 110.4, 111.03333333333333, 105.0, 103.86666666666666, 112.26666666666667, 109.03333333333333, 112.26666666666667, 103.93333333333334, 106.5, 105.13333333333334, 111.83333333333333, 103.3, 107.83333333333333, 108.76666666666667, 111.86666666666666, 110.5, 106.3, 108.0, 113.13333333333334, 106.56666666666666, 102.83333333333333, 108.53333333333333, 113.4, 109.63333333333334, 109.63333333333334, 108.36666666666666, 104.96666666666667, 107.96666666666667, 105.43333333333334, 109.36666666666666, 112.0, 105.9, 111.96666666666667, 108.76666666666667, 110.96666666666667, 110.4, 113.4, 107.86666666666666, 104.76666666666667, 108.23333333333333, 105.0, 107.13333333333334, 113.06666666666666, 104.4, 109.23333333333333, 107.63333333333334, 103.06666666666666, 111.26666666666667, 108.36666666666666, 108.6, 113.46666666666667, 104.36666666666666, 111.26666666666667, 112.8, 111.96666666666667, 110.93333333333334, 103.13333333333334, 107.83333333333333, 106.16666666666667, 113.46666666666667, 109.0, 113.0, 114.3, 105.6, 110.8, 103.56666666666666, 105.56666666666666, 104.66666666666667, 108.8, 110.63333333333334, 104.76666666666667, 110.76666666666667, 109.76666666666667, 108.93333333333334, 114.26666666666667, 108.23333333333333, 108.3, 111.96666666666667, 113.46666666666667, 113.7, 109.06666666666666, 111.26666666666667, 104.76666666666667, 105.9, 108.9, 109.16666666666667, 105.23333333333333, 110.16666666666667, 105.6, 112.06666666666666, 104.6, 111.36666666666666, 103.36666666666666, 114.16666666666667, 108.7, 113.7, 111.66666666666667, 107.8, 103.33333333333333, 106.66666666666667, 103.16666666666667, 114.3, 110.26666666666667, 106.16666666666667, 114.46666666666667, 103.1, 108.03333333333333, 113.56666666666666, 110.66666666666667, 109.3, 112.73333333333333, 111.2, 106.9, 110.6, 104.03333333333333, 109.46666666666667, 107.46666666666667, 106.23333333333333, 105.66666666666667, 104.1, 113.3, 109.96666666666667, 114.16666666666667, 110.66666666666667, 107.76666666666667, 106.7, 107.63333333333334, 107.96666666666667, 103.63333333333334, 111.1, 105.6, 104.33333333333333, 105.13333333333334, 112.26666666666667, 110.3, 103.46666666666667, 112.2, 109.83333333333333, 111.06666666666666, 110.03333333333333, 113.6, 114.0, 112.0, 114.2, 105.96666666666667, 113.13333333333334, 113.2, 107.86666666666666, 108.8, 109.43333333333334, 105.2, 105.9, 107.23333333333333, 106.16666666666667, 105.2, 113.6, 108.5, 107.83333333333333, 113.3, 107.73333333333333, 113.5, 111.96666666666667, 108.93333333333334, 112.93333333333334, 103.03333333333333, 107.86666666666666, 105.26666666666667, 105.43333333333334, 107.9, 108.63333333333334, 107.93333333333334, 113.86666666666666, 113.83333333333333, 105.33333333333333, 111.0, 105.9, 110.0, 106.56666666666666, 104.83333333333333, 113.83333333333333, 113.26666666666667, 112.23333333333333, 104.46666666666667, 108.9, 111.06666666666666, 106.4, 111.46666666666667, 103.83333333333333, 108.56666666666666, 107.83333333333333, 111.33333333333333, 108.7, 111.26666666666667, 113.86666666666666, 106.4, 103.6, 113.8, 106.0, 110.16666666666667, 113.4, 111.8, 110.23333333333333, 108.93333333333334, 108.8, 108.56666666666666, 106.8, 103.66666666666667, 103.73333333333333, 103.4, 105.0, 113.16666666666667, 104.4, 105.26666666666667, 104.83333333333333, 103.66666666666667, 110.43333333333334, 106.53333333333333, 103.4, 107.9, 111.26666666666667, 107.66666666666667, 113.53333333333333, 109.33333333333333, 112.76666666666667, 112.66666666666667, 112.33333333333333, 113.9, 106.03333333333333, 110.93333333333334, 108.9, 111.43333333333334, 109.1, 109.43333333333334, 105.43333333333334, 105.73333333333333, 110.7, 113.0, 107.9, 109.53333333333333, 106.8, 107.03333333333333, 112.8, 105.73333333333333, 111.43333333333334, 113.46666666666667, 111.96666666666667, 109.8, 109.3, 111.26666666666667, 112.7, 102.86666666666666, 103.83333333333333, 105.4, 106.7, 104.16666666666667, 112.26666666666667, 102.6, 104.6, 106.86666666666666, 110.03333333333333, 106.63333333333334, 107.93333333333334, 103.03333333333333, 104.7, 110.8, 103.16666666666667, 112.8, 112.36666666666666, 113.9, 111.26666666666667, 107.43333333333334, 108.43333333333334, 113.1, 107.53333333333333, 106.73333333333333, 113.63333333333334, 107.76666666666667, 104.3, 107.63333333333334, 109.5, 113.2, 107.03333333333333, 108.86666666666666, 114.2, 112.93333333333334, 106.33333333333333, 107.9, 111.66666666666667, 105.13333333333334, 109.3, 106.1, 114.36666666666666, 110.2, 107.4, 112.8, 103.96666666666667, 107.9, 109.56666666666666, 108.1, 103.56666666666666, 106.43333333333334, 105.76666666666667, 109.53333333333333, 108.8, 107.1, 113.2, 107.86666666666666, 107.83333333333333, 108.43333333333334, 106.4, 107.33333333333333, 105.83333333333333, 112.56666666666666, 106.16666666666667, 106.96666666666667, 114.4, 106.43333333333334, 113.03333333333333, 107.06666666666666, 106.73333333333333, 108.93333333333334, 109.0, 103.13333333333334, 113.56666666666666, 111.13333333333334, 104.63333333333334, 104.4, 112.83333333333333, 107.36666666666666, 111.43333333333334, 103.96666666666667, 104.03333333333333, 111.8, 113.0, 113.43333333333334, 105.6, 113.96666666666667, 114.23333333333333, 108.26666666666667, 103.4, 103.5, 111.8, 109.1, 107.13333333333334, 104.66666666666667, 107.6, 114.36666666666666, 106.63333333333334, 103.7, 111.8, 107.76666666666667, 111.9, 110.13333333333334, 107.86666666666666, 102.3, 109.7, 106.66666666666667, 103.66666666666667, 111.93333333333334, 105.1, 107.26666666666667, 106.83333333333333, 113.86666666666666, 103.26666666666667, 111.9], \"z\": [169, 46, 61, 46, 96, 317, 133, 316, 1730, 444, 75, 257, 131, 318, 120, 302, 53, 22, 122, 55, 72, 34, 13, 165, 16, 79, 318, 606, 63, 410, 145, 551, 577, 81, 43, 29, 106, 312, 68, 211, 429, 13, 57, 50, 68, 80, 91, 315, 35, 293, 241, 264, 541, 185, 189, 576, 433, 22, 210, 33, 322, 44, 31, 25, 275, 90, 184, 99, 102, 576, 317, 70, 390, 52, 25, 32, 100, 107, 241, 30, 630, 65, 38, 160, 23, 59, 33, 62, 42, 44, 99, 25, 494, 51, 254, 73, 120, 81, 37, 51, 17, 324, 211, 41, 114, 209, 186, 47, 27, 96, 64, 343, 70, 46, 490, 79, 369, 684, 46, 36, 34, 37, 20, 48, 348, 265, 15, 44, 506, 296, 205, 309, 64, 263, 46, 137, 216, 397, 138, 42, 210, 42, 521, 260, 46, 319, 201, 406, 162, 240, 17, 369, 215, 444, 143, 81, 67, 63, 79, 42, 129, 213, 28, 45, 37, 35, 42, 326, 95, 36, 103, 191, 393, 486, 48, 365, 210, 74, 26, 60, 20, 34, 172, 493, 121, 57, 637, 59, 18, 112, 48, 71, 480, 18, 97, 92, 86, 242, 654, 81, 137, 16, 38, 57, 813, 377, 50, 177, 315, 41, 170, 48, 570, 162, 36, 680, 39, 385, 46, 290, 70, 53, 368, 40, 15, 341, 401, 393, 486, 69, 595, 156, 128, 68, 263, 564, 83, 353, 282, 178, 95, 467, 32, 66, 171, 131, 53, 361, 64, 93, 23, 662, 81, 92, 19, 573, 58, 297, 488, 17, 279, 103, 236, 39, 137, 63, 58, 80, 55, 313, 655, 54, 178, 122, 497, 691, 56, 37, 270, 653, 38, 18, 20, 357, 73, 12, 367, 96, 125, 332, 330, 384, 24, 77, 315, 74, 27, 18, 106, 75, 18, 470, 91, 504, 235, 88, 155, 139, 31, 133, 296, 140, 152, 114, 101, 61, 189, 40, 52, 34, 351, 119, 21, 418, 48, 84, 246, 76, 99, 38, 434, 44, 496, 78, 57, 310, 401, 57, 397, 473, 316, 299, 441, 85, 24, 112, 30, 410, 28, 103, 447, 35, 493, 371, 322, 45, 41, 72, 417, 289, 354, 727, 146, 319, 454, 152, 209, 96, 60, 78, 23, 449, 37, 48, 289, 30, 156, 65, 209, 529, 180, 77, 534, 47, 586, 175, 40, 134, 269, 436, 436, 120, 73, 106, 5, 112, 55, 271, 120, 103, 269, 18, 100, 167, 23, 240, 20, 102, 156, 17, 407, 54, 436, 268, 137, 169, 221, 155, 58, 424, 57, 77, 561, 211, 601, 15, 638, 31, 20, 117, 335, 496, 231, 76, 82, 244, 36, 404, 41, 21, 31, 67, 25, 32, 103, 279, 69, 497, 11, 252, 54, 60, 55, 460, 28, 369, 467, 44, 38, 48, 101, 209, 252, 165, 269, 47, 318, 253, 502, 255, 43, 185, 433, 44, 40, 27, 173, 215, 92, 275, 159, 69, 13, 103, 84, 581, 367, 835, 450, 382, 72, 80, 68, 46, 416, 85, 47, 137, 21, 38, 455, 43, 42, 162, 74, 134, 377, 161, 318, 434, 576, 27, 193, 101, 140, 415, 22, 263, 393, 174, 25, 484, 413, 25, 115, 441, 165, 839, 23, 66, 37, 22, 79, 25, 100, 79, 467, 43, 129, 41, 653, 26, 176, 433, 40, 264, 51, 75, 57, 140, 266, 28, 123, 132, 43, 103, 180, 94, 31, 94, 424, 575, 542, 69, 59, 17, 35, 500, 424, 85, 199, 43, 521, 32, 16, 52, 15, 415, 53, 468, 84, 22, 30, 172]}],\n",
              "                        {\"autosize\": true, \"font\": {\"color\": \"black\", \"family\": \"Gilroy\", \"size\": 12}, \"height\": 800, \"scene\": {\"xaxis\": {\"title\": {\"font\": {\"color\": \"black\"}, \"text\": \"Income\"}}, \"yaxis\": {\"title\": {\"font\": {\"color\": \"black\"}, \"text\": \"Seniority\"}}, \"zaxis\": {\"title\": {\"font\": {\"color\": \"black\"}, \"text\": \"Spending\"}}}, \"showlegend\": true, \"template\": {\"data\": {\"bar\": [{\"error_x\": {\"color\": \"#2a3f5f\"}, \"error_y\": {\"color\": \"#2a3f5f\"}, \"marker\": {\"line\": {\"color\": \"#E5ECF6\", \"width\": 0.5}}, \"type\": \"bar\"}], \"barpolar\": [{\"marker\": {\"line\": {\"color\": \"#E5ECF6\", \"width\": 0.5}}, \"type\": \"barpolar\"}], \"carpet\": [{\"aaxis\": {\"endlinecolor\": \"#2a3f5f\", \"gridcolor\": \"white\", \"linecolor\": \"white\", \"minorgridcolor\": \"white\", \"startlinecolor\": \"#2a3f5f\"}, \"baxis\": {\"endlinecolor\": \"#2a3f5f\", \"gridcolor\": \"white\", \"linecolor\": \"white\", \"minorgridcolor\": \"white\", \"startlinecolor\": \"#2a3f5f\"}, \"type\": \"carpet\"}], \"choropleth\": [{\"colorbar\": {\"outlinewidth\": 0, \"ticks\": \"\"}, \"type\": \"choropleth\"}], \"contour\": [{\"colorbar\": {\"outlinewidth\": 0, \"ticks\": \"\"}, \"colorscale\": [[0.0, \"#0d0887\"], [0.1111111111111111, \"#46039f\"], [0.2222222222222222, \"#7201a8\"], [0.3333333333333333, \"#9c179e\"], [0.4444444444444444, \"#bd3786\"], [0.5555555555555556, \"#d8576b\"], [0.6666666666666666, \"#ed7953\"], [0.7777777777777778, \"#fb9f3a\"], [0.8888888888888888, \"#fdca26\"], [1.0, \"#f0f921\"]], \"type\": \"contour\"}], \"contourcarpet\": [{\"colorbar\": {\"outlinewidth\": 0, \"ticks\": \"\"}, \"type\": \"contourcarpet\"}], \"heatmap\": [{\"colorbar\": {\"outlinewidth\": 0, \"ticks\": \"\"}, \"colorscale\": [[0.0, \"#0d0887\"], [0.1111111111111111, \"#46039f\"], [0.2222222222222222, \"#7201a8\"], [0.3333333333333333, \"#9c179e\"], [0.4444444444444444, \"#bd3786\"], [0.5555555555555556, \"#d8576b\"], [0.6666666666666666, \"#ed7953\"], [0.7777777777777778, \"#fb9f3a\"], [0.8888888888888888, \"#fdca26\"], [1.0, \"#f0f921\"]], \"type\": \"heatmap\"}], \"heatmapgl\": [{\"colorbar\": {\"outlinewidth\": 0, \"ticks\": \"\"}, \"colorscale\": [[0.0, \"#0d0887\"], [0.1111111111111111, \"#46039f\"], [0.2222222222222222, \"#7201a8\"], [0.3333333333333333, \"#9c179e\"], [0.4444444444444444, \"#bd3786\"], [0.5555555555555556, \"#d8576b\"], [0.6666666666666666, \"#ed7953\"], [0.7777777777777778, \"#fb9f3a\"], [0.8888888888888888, \"#fdca26\"], [1.0, \"#f0f921\"]], \"type\": \"heatmapgl\"}], \"histogram\": [{\"marker\": {\"colorbar\": {\"outlinewidth\": 0, \"ticks\": \"\"}}, \"type\": \"histogram\"}], \"histogram2d\": [{\"colorbar\": {\"outlinewidth\": 0, \"ticks\": \"\"}, \"colorscale\": [[0.0, \"#0d0887\"], [0.1111111111111111, \"#46039f\"], [0.2222222222222222, \"#7201a8\"], [0.3333333333333333, \"#9c179e\"], [0.4444444444444444, \"#bd3786\"], [0.5555555555555556, \"#d8576b\"], [0.6666666666666666, \"#ed7953\"], [0.7777777777777778, \"#fb9f3a\"], [0.8888888888888888, \"#fdca26\"], [1.0, \"#f0f921\"]], \"type\": \"histogram2d\"}], \"histogram2dcontour\": [{\"colorbar\": {\"outlinewidth\": 0, \"ticks\": \"\"}, \"colorscale\": [[0.0, \"#0d0887\"], [0.1111111111111111, \"#46039f\"], [0.2222222222222222, \"#7201a8\"], [0.3333333333333333, \"#9c179e\"], [0.4444444444444444, \"#bd3786\"], [0.5555555555555556, \"#d8576b\"], [0.6666666666666666, \"#ed7953\"], [0.7777777777777778, \"#fb9f3a\"], [0.8888888888888888, \"#fdca26\"], [1.0, \"#f0f921\"]], \"type\": \"histogram2dcontour\"}], \"mesh3d\": [{\"colorbar\": {\"outlinewidth\": 0, \"ticks\": \"\"}, \"type\": \"mesh3d\"}], \"parcoords\": [{\"line\": {\"colorbar\": {\"outlinewidth\": 0, \"ticks\": \"\"}}, \"type\": \"parcoords\"}], \"pie\": [{\"automargin\": true, \"type\": \"pie\"}], \"scatter\": [{\"marker\": {\"colorbar\": {\"outlinewidth\": 0, \"ticks\": \"\"}}, \"type\": \"scatter\"}], \"scatter3d\": [{\"line\": {\"colorbar\": {\"outlinewidth\": 0, \"ticks\": \"\"}}, \"marker\": {\"colorbar\": {\"outlinewidth\": 0, \"ticks\": \"\"}}, \"type\": \"scatter3d\"}], \"scattercarpet\": [{\"marker\": {\"colorbar\": {\"outlinewidth\": 0, \"ticks\": \"\"}}, \"type\": \"scattercarpet\"}], \"scattergeo\": [{\"marker\": {\"colorbar\": {\"outlinewidth\": 0, \"ticks\": \"\"}}, \"type\": \"scattergeo\"}], \"scattergl\": [{\"marker\": {\"colorbar\": {\"outlinewidth\": 0, \"ticks\": \"\"}}, \"type\": \"scattergl\"}], \"scattermapbox\": [{\"marker\": {\"colorbar\": {\"outlinewidth\": 0, \"ticks\": \"\"}}, \"type\": \"scattermapbox\"}], \"scatterpolar\": [{\"marker\": {\"colorbar\": {\"outlinewidth\": 0, \"ticks\": \"\"}}, \"type\": \"scatterpolar\"}], \"scatterpolargl\": [{\"marker\": {\"colorbar\": {\"outlinewidth\": 0, \"ticks\": \"\"}}, \"type\": \"scatterpolargl\"}], \"scatterternary\": [{\"marker\": {\"colorbar\": {\"outlinewidth\": 0, \"ticks\": \"\"}}, \"type\": \"scatterternary\"}], \"surface\": [{\"colorbar\": {\"outlinewidth\": 0, \"ticks\": \"\"}, \"colorscale\": [[0.0, \"#0d0887\"], [0.1111111111111111, \"#46039f\"], [0.2222222222222222, \"#7201a8\"], [0.3333333333333333, \"#9c179e\"], [0.4444444444444444, \"#bd3786\"], [0.5555555555555556, \"#d8576b\"], [0.6666666666666666, \"#ed7953\"], [0.7777777777777778, \"#fb9f3a\"], [0.8888888888888888, \"#fdca26\"], [1.0, \"#f0f921\"]], \"type\": \"surface\"}], \"table\": [{\"cells\": {\"fill\": {\"color\": \"#EBF0F8\"}, \"line\": {\"color\": \"white\"}}, \"header\": {\"fill\": {\"color\": \"#C8D4E3\"}, \"line\": {\"color\": \"white\"}}, \"type\": \"table\"}]}, \"layout\": {\"annotationdefaults\": {\"arrowcolor\": \"#2a3f5f\", \"arrowhead\": 0, \"arrowwidth\": 1}, \"coloraxis\": {\"colorbar\": {\"outlinewidth\": 0, \"ticks\": \"\"}}, \"colorscale\": {\"diverging\": [[0, \"#8e0152\"], [0.1, \"#c51b7d\"], [0.2, \"#de77ae\"], [0.3, \"#f1b6da\"], [0.4, \"#fde0ef\"], [0.5, \"#f7f7f7\"], [0.6, \"#e6f5d0\"], [0.7, \"#b8e186\"], [0.8, \"#7fbc41\"], [0.9, \"#4d9221\"], [1, \"#276419\"]], \"sequential\": [[0.0, \"#0d0887\"], [0.1111111111111111, \"#46039f\"], [0.2222222222222222, \"#7201a8\"], [0.3333333333333333, \"#9c179e\"], [0.4444444444444444, \"#bd3786\"], [0.5555555555555556, \"#d8576b\"], [0.6666666666666666, \"#ed7953\"], [0.7777777777777778, \"#fb9f3a\"], [0.8888888888888888, \"#fdca26\"], [1.0, \"#f0f921\"]], \"sequentialminus\": [[0.0, \"#0d0887\"], [0.1111111111111111, \"#46039f\"], [0.2222222222222222, \"#7201a8\"], [0.3333333333333333, \"#9c179e\"], [0.4444444444444444, \"#bd3786\"], [0.5555555555555556, \"#d8576b\"], [0.6666666666666666, \"#ed7953\"], [0.7777777777777778, \"#fb9f3a\"], [0.8888888888888888, \"#fdca26\"], [1.0, \"#f0f921\"]]}, \"colorway\": [\"#636efa\", \"#EF553B\", \"#00cc96\", \"#ab63fa\", \"#FFA15A\", \"#19d3f3\", \"#FF6692\", \"#B6E880\", \"#FF97FF\", \"#FECB52\"], \"font\": {\"color\": \"#2a3f5f\"}, \"geo\": {\"bgcolor\": \"white\", \"lakecolor\": \"white\", \"landcolor\": \"#E5ECF6\", \"showlakes\": true, \"showland\": true, \"subunitcolor\": \"white\"}, \"hoverlabel\": {\"align\": \"left\"}, \"hovermode\": \"closest\", \"mapbox\": {\"style\": \"light\"}, \"paper_bgcolor\": \"white\", \"plot_bgcolor\": \"#E5ECF6\", \"polar\": {\"angularaxis\": {\"gridcolor\": \"white\", \"linecolor\": \"white\", \"ticks\": \"\"}, \"bgcolor\": \"#E5ECF6\", \"radialaxis\": {\"gridcolor\": \"white\", \"linecolor\": \"white\", \"ticks\": \"\"}}, \"scene\": {\"xaxis\": {\"backgroundcolor\": \"#E5ECF6\", \"gridcolor\": \"white\", \"gridwidth\": 2, \"linecolor\": \"white\", \"showbackground\": true, \"ticks\": \"\", \"zerolinecolor\": \"white\"}, \"yaxis\": {\"backgroundcolor\": \"#E5ECF6\", \"gridcolor\": \"white\", \"gridwidth\": 2, \"linecolor\": \"white\", \"showbackground\": true, \"ticks\": \"\", \"zerolinecolor\": \"white\"}, \"zaxis\": {\"backgroundcolor\": \"#E5ECF6\", \"gridcolor\": \"white\", \"gridwidth\": 2, \"linecolor\": \"white\", \"showbackground\": true, \"ticks\": \"\", \"zerolinecolor\": \"white\"}}, \"shapedefaults\": {\"line\": {\"color\": \"#2a3f5f\"}}, \"ternary\": {\"aaxis\": {\"gridcolor\": \"white\", \"linecolor\": \"white\", \"ticks\": \"\"}, \"baxis\": {\"gridcolor\": \"white\", \"linecolor\": \"white\", \"ticks\": \"\"}, \"bgcolor\": \"#E5ECF6\", \"caxis\": {\"gridcolor\": \"white\", \"linecolor\": \"white\", \"ticks\": \"\"}}, \"title\": {\"x\": 0.05}, \"xaxis\": {\"automargin\": true, \"gridcolor\": \"white\", \"linecolor\": \"white\", \"ticks\": \"\", \"title\": {\"standoff\": 15}, \"zerolinecolor\": \"white\", \"zerolinewidth\": 2}, \"yaxis\": {\"automargin\": true, \"gridcolor\": \"white\", \"linecolor\": \"white\", \"ticks\": \"\", \"title\": {\"standoff\": 15}, \"zerolinecolor\": \"white\", \"zerolinewidth\": 2}}}, \"width\": 800},\n",
              "                        {\"responsive\": true}\n",
              "                    ).then(function(){\n",
              "                            \n",
              "var gd = document.getElementById('dd571cdb-4ebd-4eeb-a06e-97b5fe83a738');\n",
              "var x = new MutationObserver(function (mutations, observer) {{\n",
              "        var display = window.getComputedStyle(gd).display;\n",
              "        if (!display || display === 'none') {{\n",
              "            console.log([gd, 'removed!']);\n",
              "            Plotly.purge(gd);\n",
              "            observer.disconnect();\n",
              "        }}\n",
              "}});\n",
              "\n",
              "// Listen for the removal of the full notebook cells\n",
              "var notebookContainer = gd.closest('#notebook-container');\n",
              "if (notebookContainer) {{\n",
              "    x.observe(notebookContainer, {childList: true});\n",
              "}}\n",
              "\n",
              "// Listen for the clearing of the current output cell\n",
              "var outputEl = gd.closest('.output');\n",
              "if (outputEl) {{\n",
              "    x.observe(outputEl, {childList: true});\n",
              "}}\n",
              "\n",
              "                        })\n",
              "                };\n",
              "                \n",
              "            </script>\n",
              "        </div>\n",
              "</body>\n",
              "</html>"
            ]
          },
          "metadata": {}
        }
      ]
    },
    {
      "cell_type": "markdown",
      "source": [
        "# Data Preparation for Customer Personality Analysis"
      ],
      "metadata": {
        "id": "4eAD8rTsBpXQ"
      }
    },
    {
      "cell_type": "markdown",
      "source": [
        "Now I will prepare the data for the Apriori algorithm. Here I will be defining three segments of the customers according to the age, income and seniority:"
      ],
      "metadata": {
        "id": "RGlByT4KBwv1"
      }
    },
    {
      "cell_type": "code",
      "source": [
        "#Create Age segment\n",
        "cut_labels_Age = ['Young', 'Adult', 'Mature', 'Senior']\n",
        "cut_bins = [0, 30, 45, 65, 120]\n",
        "customer_data['Age_group'] = pd.cut(customer_data['Age'], bins=cut_bins, labels=cut_labels_Age)\n",
        "#Create Income segment\n",
        "cut_labels_Income = ['Low income', 'Low to medium income', 'Medium to high income', 'High income']\n",
        "customer_data['Income_group'] = pd.qcut(customer_data['Income'], q=4, labels=cut_labels_Income)\n",
        "#Create Seniority segment\n",
        "cut_labels_Seniority = ['New customers', 'Discovering customers', 'Experienced customers', 'Old customers']\n",
        "customer_data['Seniority_group'] = pd.qcut(customer_data['Seniority'], q=4, labels=cut_labels_Seniority)\n",
        "customer_data=customer_data.drop(columns=['Age','Income','Seniority'])"
      ],
      "metadata": {
        "id": "OiOvNnt3B3U8"
      },
      "execution_count": null,
      "outputs": []
    },
    {
      "cell_type": "markdown",
      "source": [
        "Now I will define new segments according to the spending of customers on each product which will be based on:\n",
        "\n",
        "Non Buyer\n",
        "\n",
        "Low Buyer\n",
        "\n",
        "Frequent Buyer\n",
        "\n",
        "Biggest Buyer"
      ],
      "metadata": {
        "id": "HcZJrdGdCIcT"
      }
    },
    {
      "cell_type": "code",
      "source": [
        "cut_labels = ['Low consumer', 'Frequent consumer', 'Biggest consumer']\n",
        "customer_data['Wines_segment'] = pd.qcut(customer_data['Wines'][customer_data['Wines']>0],q=[0, .25, .75, 1], labels=cut_labels).astype(\"object\")\n",
        "customer_data['Fruits_segment'] = pd.qcut(customer_data['Fruits'][customer_data['Fruits']>0],q=[0, .25, .75, 1], labels=cut_labels).astype(\"object\")\n",
        "customer_data['Meat_segment'] = pd.qcut(customer_data['Meat'][customer_data['Meat']>0],q=[0, .25, .75, 1], labels=cut_labels).astype(\"object\")\n",
        "customer_data['Fish_segment'] = pd.qcut(customer_data['Fish'][customer_data['Fish']>0],q=[0, .25, .75, 1], labels=cut_labels).astype(\"object\")\n",
        "customer_data['Sweets_segment'] = pd.qcut(customer_data['Sweets'][customer_data['Sweets']>0],q=[0, .25, .75, 1], labels=cut_labels).astype(\"object\")\n",
        "customer_data['Gold_segment'] = pd.qcut(customer_data['Gold'][customer_data['Gold']>0],q=[0, .25, .75, 1], labels=cut_labels).astype(\"object\")\n",
        "customer_data.replace(np.nan, \"Non consumer\",inplace=True)\n",
        "customer_data.drop(columns=['Spending','Wines','Fruits','Meat','Fish','Sweets','Gold'],inplace=True)\n",
        "customer_data = customer_data.astype(object)"
      ],
      "metadata": {
        "id": "4SX17ehcBrrz"
      },
      "execution_count": null,
      "outputs": []
    },
    {
      "cell_type": "markdown",
      "source": [
        "# Apriori Algorithm"
      ],
      "metadata": {
        "id": "NoWBUP4oDLDx"
      }
    },
    {
      "cell_type": "markdown",
      "source": [
        "The Apriori algorithm is the simplest technique to identify the underlying relationships between different types of elements. The idea behind this algorithm is that all nonempty subsets of a frequent category must also be frequent. Here I will be using the Apriori algorithm for the task of customer personality analysis with Python. Here I will use this algorithm to identify the biggest customer of wines:"
      ],
      "metadata": {
        "id": "1zam4zDQDOeH"
      }
    },
    {
      "cell_type": "code",
      "source": [
        "pd.set_option('display.max_columns', None)\n",
        "pd.set_option('display.max_rows', None)\n",
        "pd.set_option('display.max_colwidth', 999)\n",
        "pd.options.display.float_format = \"{:.3f}\".format\n",
        "association=customer_data.copy() \n",
        "df = pd.get_dummies(association)\n",
        "min_support = 0.08\n",
        "max_len = 10\n",
        "frequent_items = apriori(df, use_colnames=True, min_support=min_support, max_len=max_len + 1)\n",
        "rules = association_rules(frequent_items, metric='lift', min_threshold=1)\n",
        "\n",
        "product='Wines'\n",
        "segment='Biggest consumer'\n",
        "target = '{\\'%s_segment_%s\\'}' %(product,segment)\n",
        "results_personnal_care = rules[rules['consequents'].astype(str).str.contains(target, na=False)].sort_values(by='confidence', ascending=False)\n",
        "results_personnal_care.head()"
      ],
      "metadata": {
        "id": "NZC1m_ohDF6z",
        "outputId": "bd419eb6-c751-46c2-88df-95062b976218",
        "colab": {
          "base_uri": "https://localhost:8080/",
          "height": 389
        }
      },
      "execution_count": null,
      "outputs": [
        {
          "output_type": "execute_result",
          "data": {
            "text/html": [
              "\n",
              "  <div id=\"df-356c48b9-e04c-4a75-8f08-13e878cd52bd\">\n",
              "    <div class=\"colab-df-container\">\n",
              "      <div>\n",
              "<style scoped>\n",
              "    .dataframe tbody tr th:only-of-type {\n",
              "        vertical-align: middle;\n",
              "    }\n",
              "\n",
              "    .dataframe tbody tr th {\n",
              "        vertical-align: top;\n",
              "    }\n",
              "\n",
              "    .dataframe thead th {\n",
              "        text-align: right;\n",
              "    }\n",
              "</style>\n",
              "<table border=\"1\" class=\"dataframe\">\n",
              "  <thead>\n",
              "    <tr style=\"text-align: right;\">\n",
              "      <th></th>\n",
              "      <th>antecedents</th>\n",
              "      <th>consequents</th>\n",
              "      <th>antecedent support</th>\n",
              "      <th>consequent support</th>\n",
              "      <th>support</th>\n",
              "      <th>confidence</th>\n",
              "      <th>lift</th>\n",
              "      <th>leverage</th>\n",
              "      <th>conviction</th>\n",
              "    </tr>\n",
              "  </thead>\n",
              "  <tbody>\n",
              "    <tr>\n",
              "      <th>9357</th>\n",
              "      <td>(Cluster_Need attention, Education_Postgraduate, Age_group_Mature)</td>\n",
              "      <td>(Wines_segment_Biggest consumer)</td>\n",
              "      <td>0.121</td>\n",
              "      <td>0.249</td>\n",
              "      <td>0.084</td>\n",
              "      <td>0.698</td>\n",
              "      <td>2.805</td>\n",
              "      <td>0.054</td>\n",
              "      <td>2.486</td>\n",
              "    </tr>\n",
              "    <tr>\n",
              "      <th>4858</th>\n",
              "      <td>(Income_group_High income, Cluster_Need attention)</td>\n",
              "      <td>(Wines_segment_Biggest consumer)</td>\n",
              "      <td>0.121</td>\n",
              "      <td>0.249</td>\n",
              "      <td>0.084</td>\n",
              "      <td>0.697</td>\n",
              "      <td>2.800</td>\n",
              "      <td>0.054</td>\n",
              "      <td>2.476</td>\n",
              "    </tr>\n",
              "    <tr>\n",
              "      <th>4854</th>\n",
              "      <td>(Cluster_Need attention, Age_group_Mature)</td>\n",
              "      <td>(Wines_segment_Biggest consumer)</td>\n",
              "      <td>0.130</td>\n",
              "      <td>0.249</td>\n",
              "      <td>0.090</td>\n",
              "      <td>0.692</td>\n",
              "      <td>2.782</td>\n",
              "      <td>0.058</td>\n",
              "      <td>2.439</td>\n",
              "    </tr>\n",
              "    <tr>\n",
              "      <th>4872</th>\n",
              "      <td>(Seniority_group_Old customers, Cluster_Need attention)</td>\n",
              "      <td>(Wines_segment_Biggest consumer)</td>\n",
              "      <td>0.123</td>\n",
              "      <td>0.249</td>\n",
              "      <td>0.085</td>\n",
              "      <td>0.691</td>\n",
              "      <td>2.779</td>\n",
              "      <td>0.054</td>\n",
              "      <td>2.433</td>\n",
              "    </tr>\n",
              "    <tr>\n",
              "      <th>9385</th>\n",
              "      <td>(Cluster_Need attention, Meat_segment_Biggest consumer, Education_Postgraduate)</td>\n",
              "      <td>(Wines_segment_Biggest consumer)</td>\n",
              "      <td>0.122</td>\n",
              "      <td>0.249</td>\n",
              "      <td>0.081</td>\n",
              "      <td>0.664</td>\n",
              "      <td>2.670</td>\n",
              "      <td>0.051</td>\n",
              "      <td>2.237</td>\n",
              "    </tr>\n",
              "  </tbody>\n",
              "</table>\n",
              "</div>\n",
              "      <button class=\"colab-df-convert\" onclick=\"convertToInteractive('df-356c48b9-e04c-4a75-8f08-13e878cd52bd')\"\n",
              "              title=\"Convert this dataframe to an interactive table.\"\n",
              "              style=\"display:none;\">\n",
              "        \n",
              "  <svg xmlns=\"http://www.w3.org/2000/svg\" height=\"24px\"viewBox=\"0 0 24 24\"\n",
              "       width=\"24px\">\n",
              "    <path d=\"M0 0h24v24H0V0z\" fill=\"none\"/>\n",
              "    <path d=\"M18.56 5.44l.94 2.06.94-2.06 2.06-.94-2.06-.94-.94-2.06-.94 2.06-2.06.94zm-11 1L8.5 8.5l.94-2.06 2.06-.94-2.06-.94L8.5 2.5l-.94 2.06-2.06.94zm10 10l.94 2.06.94-2.06 2.06-.94-2.06-.94-.94-2.06-.94 2.06-2.06.94z\"/><path d=\"M17.41 7.96l-1.37-1.37c-.4-.4-.92-.59-1.43-.59-.52 0-1.04.2-1.43.59L10.3 9.45l-7.72 7.72c-.78.78-.78 2.05 0 2.83L4 21.41c.39.39.9.59 1.41.59.51 0 1.02-.2 1.41-.59l7.78-7.78 2.81-2.81c.8-.78.8-2.07 0-2.86zM5.41 20L4 18.59l7.72-7.72 1.47 1.35L5.41 20z\"/>\n",
              "  </svg>\n",
              "      </button>\n",
              "      \n",
              "  <style>\n",
              "    .colab-df-container {\n",
              "      display:flex;\n",
              "      flex-wrap:wrap;\n",
              "      gap: 12px;\n",
              "    }\n",
              "\n",
              "    .colab-df-convert {\n",
              "      background-color: #E8F0FE;\n",
              "      border: none;\n",
              "      border-radius: 50%;\n",
              "      cursor: pointer;\n",
              "      display: none;\n",
              "      fill: #1967D2;\n",
              "      height: 32px;\n",
              "      padding: 0 0 0 0;\n",
              "      width: 32px;\n",
              "    }\n",
              "\n",
              "    .colab-df-convert:hover {\n",
              "      background-color: #E2EBFA;\n",
              "      box-shadow: 0px 1px 2px rgba(60, 64, 67, 0.3), 0px 1px 3px 1px rgba(60, 64, 67, 0.15);\n",
              "      fill: #174EA6;\n",
              "    }\n",
              "\n",
              "    [theme=dark] .colab-df-convert {\n",
              "      background-color: #3B4455;\n",
              "      fill: #D2E3FC;\n",
              "    }\n",
              "\n",
              "    [theme=dark] .colab-df-convert:hover {\n",
              "      background-color: #434B5C;\n",
              "      box-shadow: 0px 1px 3px 1px rgba(0, 0, 0, 0.15);\n",
              "      filter: drop-shadow(0px 1px 2px rgba(0, 0, 0, 0.3));\n",
              "      fill: #FFFFFF;\n",
              "    }\n",
              "  </style>\n",
              "\n",
              "      <script>\n",
              "        const buttonEl =\n",
              "          document.querySelector('#df-356c48b9-e04c-4a75-8f08-13e878cd52bd button.colab-df-convert');\n",
              "        buttonEl.style.display =\n",
              "          google.colab.kernel.accessAllowed ? 'block' : 'none';\n",
              "\n",
              "        async function convertToInteractive(key) {\n",
              "          const element = document.querySelector('#df-356c48b9-e04c-4a75-8f08-13e878cd52bd');\n",
              "          const dataTable =\n",
              "            await google.colab.kernel.invokeFunction('convertToInteractive',\n",
              "                                                     [key], {});\n",
              "          if (!dataTable) return;\n",
              "\n",
              "          const docLinkHtml = 'Like what you see? Visit the ' +\n",
              "            '<a target=\"_blank\" href=https://colab.research.google.com/notebooks/data_table.ipynb>data table notebook</a>'\n",
              "            + ' to learn more about interactive tables.';\n",
              "          element.innerHTML = '';\n",
              "          dataTable['output_type'] = 'display_data';\n",
              "          await google.colab.output.renderOutput(dataTable, element);\n",
              "          const docLink = document.createElement('div');\n",
              "          docLink.innerHTML = docLinkHtml;\n",
              "          element.appendChild(docLink);\n",
              "        }\n",
              "      </script>\n",
              "    </div>\n",
              "  </div>\n",
              "  "
            ],
            "text/plain": [
              "                                                                          antecedents  \\\n",
              "9357               (Cluster_Need attention, Education_Postgraduate, Age_group_Mature)   \n",
              "4858                               (Income_group_High income, Cluster_Need attention)   \n",
              "4854                                       (Cluster_Need attention, Age_group_Mature)   \n",
              "4872                          (Seniority_group_Old customers, Cluster_Need attention)   \n",
              "9385  (Cluster_Need attention, Meat_segment_Biggest consumer, Education_Postgraduate)   \n",
              "\n",
              "                           consequents  antecedent support  \\\n",
              "9357  (Wines_segment_Biggest consumer)               0.121   \n",
              "4858  (Wines_segment_Biggest consumer)               0.121   \n",
              "4854  (Wines_segment_Biggest consumer)               0.130   \n",
              "4872  (Wines_segment_Biggest consumer)               0.123   \n",
              "9385  (Wines_segment_Biggest consumer)               0.122   \n",
              "\n",
              "      consequent support  support  confidence  lift  leverage  conviction  \n",
              "9357               0.249    0.084       0.698 2.805     0.054       2.486  \n",
              "4858               0.249    0.084       0.697 2.800     0.054       2.476  \n",
              "4854               0.249    0.090       0.692 2.782     0.058       2.439  \n",
              "4872               0.249    0.085       0.691 2.779     0.054       2.433  \n",
              "9385               0.249    0.081       0.664 2.670     0.051       2.237  "
            ]
          },
          "metadata": {},
          "execution_count": 72
        }
      ]
    },
    {
      "cell_type": "markdown",
      "source": [
        "Conclusion\n",
        "So according to the output and overall analysis conducted on this data science project on customer personality analysis with Python, we can conclude that the biggest customers of wines are:\n",
        "\n",
        "Customers with an average income of around $69,500.\n",
        "\n",
        "Customers with an average total spend of approximately $1,252.\n",
        "\n",
        "Customers registered with the company for approximately 21 months.\n",
        "\n",
        "Customers with a graduate degree.\n",
        "\n",
        "And customers who are also heavy consumers of meat products."
      ],
      "metadata": {
        "id": "FQ4uJ0DuEIGH"
      }
    },
    {
      "cell_type": "markdown",
      "source": [
        "# Bibliography\n",
        "\n",
        "Grigsby, M. (2018). Marketing Analytics: A Practical Guide to Improving Consumer Insights Using Data Techniques. Kogan Page Publishers."
      ],
      "metadata": {
        "id": "pgkx6sIdOAUO"
      }
    },
    {
      "cell_type": "code",
      "source": [
        ""
      ],
      "metadata": {
        "id": "_wQa2P3_N_cP"
      },
      "execution_count": null,
      "outputs": []
    }
  ]
}